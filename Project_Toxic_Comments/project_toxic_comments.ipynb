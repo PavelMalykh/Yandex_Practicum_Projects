{
 "cells": [
  {
   "cell_type": "markdown",
   "metadata": {},
   "source": [
    "# Проект для «Викишоп»"
   ]
  },
  {
   "cell_type": "markdown",
   "metadata": {},
   "source": [
    "Интернет-магазин «Викишоп» запускает новый сервис. Теперь пользователи могут редактировать и дополнять описания товаров, как в вики-сообществах. То есть клиенты предлагают свои правки и комментируют изменения других. Магазину нужен инструмент, который будет искать токсичные комментарии и отправлять их на модерацию. \n",
    "\n",
    "Обучите модель классифицировать комментарии на позитивные и негативные. \n",
    "\n",
    "Постройте модель со значением метрики качества *F1* не меньше 0.75. \n",
    "\n",
    "**Описание данных**\n",
    "\n",
    "Данные находятся в файле `toxic_comments.csv`: \n",
    "- *text* - в нём содержит текст комментария\n",
    "- *toxic* - целевой признак"
   ]
  },
  {
   "cell_type": "markdown",
   "metadata": {},
   "source": [
    "## Подготовка"
   ]
  },
  {
   "cell_type": "code",
   "execution_count": 1,
   "metadata": {},
   "outputs": [],
   "source": [
    "import pandas as pd\n",
    "import numpy as np\n",
    "from scipy import sparse\n",
    "import seaborn as sns\n",
    "import matplotlib.pyplot as plt\n",
    "\n",
    "from sklearn.model_selection import train_test_split, RandomizedSearchCV\n",
    "from sklearn.metrics import classification_report, f1_score, confusion_matrix, ConfusionMatrixDisplay\n",
    "from sklearn.feature_extraction.text import TfidfVectorizer\n",
    "from sklearn.svm import LinearSVC\n",
    "from sklearn.pipeline import Pipeline, FeatureUnion\n",
    "from sklearn.preprocessing import MinMaxScaler\n",
    "from sklearn.compose import ColumnTransformer\n",
    "from sklearn.compose import make_column_selector as selector\n",
    "from sklearn.base import BaseEstimator, ClassifierMixin\n",
    "from sklearn.utils.validation import check_X_y, check_is_fitted\n",
    "\n",
    "import nltk\n",
    "from nltk.corpus import stopwords as nltk_stopwords\n",
    "from nltk.stem import WordNetLemmatizer \n",
    "\n",
    "import re\n",
    "from tqdm import tqdm"
   ]
  },
  {
   "cell_type": "markdown",
   "metadata": {},
   "source": [
    "В работе будет применятся модель NBSVM, принципы модели описаны в [Baselines and Bigrams: Simple, Good Sentiment and Topic Classification](https://nlp.stanford.edu/pubs/sidaw12_simple_sentiment.pdf)"
   ]
  },
  {
   "cell_type": "code",
   "execution_count": 2,
   "metadata": {},
   "outputs": [],
   "source": [
    "class NbSvmClassifier(BaseEstimator, ClassifierMixin):\n",
    "    def __init__(self, C=1.0, tol=1e-3, \n",
    "                 max_iter=1000, random_state=None, \n",
    "                 class_weight=None):\n",
    "        self.C = C\n",
    "        self.tol = tol\n",
    "        self.max_iter = max_iter\n",
    "        self.random_state = random_state\n",
    "        self.class_weight = class_weight\n",
    "\n",
    "    def predict(self, x):\n",
    "        check_is_fitted(self, ['_r', '_clf'])\n",
    "        return self._clf.predict(x.multiply(self._r))\n",
    "\n",
    "    def predict_proba(self, x):\n",
    "        check_is_fitted(self, ['_r', '_clf'])\n",
    "        return self._clf.predict_proba(x.multiply(self._r))\n",
    "\n",
    "    def fit(self, x, y):\n",
    "        y = y.values\n",
    "        x, y = check_X_y(x, y, accept_sparse=True)\n",
    "\n",
    "        def pr(x, y_i, y):\n",
    "            p = x[y==y_i].sum(0)\n",
    "            return (p+1) / ((y==y_i).sum()+1)\n",
    "\n",
    "        self._r = sparse.csr_matrix(np.log(pr(x,1,y) / pr(x,0,y)))\n",
    "        x_nb = x.multiply(self._r)\n",
    "        self._clf = LinearSVC(random_state=self.random_state, \n",
    "                              class_weight=self.class_weight,  \n",
    "                              C=self.C, \n",
    "                              tol=self.tol,\n",
    "                              max_iter=self.max_iter).fit(x_nb, y)\n",
    "        return self"
   ]
  },
  {
   "cell_type": "markdown",
   "metadata": {},
   "source": [
    "### Общая информация о данных"
   ]
  },
  {
   "cell_type": "code",
   "execution_count": 3,
   "metadata": {},
   "outputs": [],
   "source": [
    "try:\n",
    "    data = pd.read_csv(\"D:\\\\Yandex_practicum\\\\Project_15_texts_toxic_comments\\\\toxic_comments.csv\", usecols=['text', 'toxic'])\n",
    "except:    \n",
    "    data = pd.read_csv(\"/datasets/toxic_comments.csv\", usecols=['text', 'toxic'])"
   ]
  },
  {
   "cell_type": "code",
   "execution_count": 4,
   "metadata": {},
   "outputs": [
    {
     "data": {
      "text/html": [
       "<div>\n",
       "<style scoped>\n",
       "    .dataframe tbody tr th:only-of-type {\n",
       "        vertical-align: middle;\n",
       "    }\n",
       "\n",
       "    .dataframe tbody tr th {\n",
       "        vertical-align: top;\n",
       "    }\n",
       "\n",
       "    .dataframe thead th {\n",
       "        text-align: right;\n",
       "    }\n",
       "</style>\n",
       "<table border=\"1\" class=\"dataframe\">\n",
       "  <thead>\n",
       "    <tr style=\"text-align: right;\">\n",
       "      <th></th>\n",
       "      <th>text</th>\n",
       "      <th>toxic</th>\n",
       "    </tr>\n",
       "  </thead>\n",
       "  <tbody>\n",
       "    <tr>\n",
       "      <th>0</th>\n",
       "      <td>Explanation\\nWhy the edits made under my usern...</td>\n",
       "      <td>0</td>\n",
       "    </tr>\n",
       "    <tr>\n",
       "      <th>1</th>\n",
       "      <td>D'aww! He matches this background colour I'm s...</td>\n",
       "      <td>0</td>\n",
       "    </tr>\n",
       "    <tr>\n",
       "      <th>2</th>\n",
       "      <td>Hey man, I'm really not trying to edit war. It...</td>\n",
       "      <td>0</td>\n",
       "    </tr>\n",
       "    <tr>\n",
       "      <th>3</th>\n",
       "      <td>\"\\nMore\\nI can't make any real suggestions on ...</td>\n",
       "      <td>0</td>\n",
       "    </tr>\n",
       "    <tr>\n",
       "      <th>4</th>\n",
       "      <td>You, sir, are my hero. Any chance you remember...</td>\n",
       "      <td>0</td>\n",
       "    </tr>\n",
       "  </tbody>\n",
       "</table>\n",
       "</div>"
      ],
      "text/plain": [
       "                                                text  toxic\n",
       "0  Explanation\\nWhy the edits made under my usern...      0\n",
       "1  D'aww! He matches this background colour I'm s...      0\n",
       "2  Hey man, I'm really not trying to edit war. It...      0\n",
       "3  \"\\nMore\\nI can't make any real suggestions on ...      0\n",
       "4  You, sir, are my hero. Any chance you remember...      0"
      ]
     },
     "execution_count": 4,
     "metadata": {},
     "output_type": "execute_result"
    }
   ],
   "source": [
    "data.head()"
   ]
  },
  {
   "cell_type": "code",
   "execution_count": 5,
   "metadata": {},
   "outputs": [
    {
     "name": "stdout",
     "output_type": "stream",
     "text": [
      "<class 'pandas.core.frame.DataFrame'>\n",
      "RangeIndex: 159292 entries, 0 to 159291\n",
      "Data columns (total 2 columns):\n",
      " #   Column  Non-Null Count   Dtype \n",
      "---  ------  --------------   ----- \n",
      " 0   text    159292 non-null  object\n",
      " 1   toxic   159292 non-null  int64 \n",
      "dtypes: int64(1), object(1)\n",
      "memory usage: 2.4+ MB\n"
     ]
    }
   ],
   "source": [
    "data.info()"
   ]
  },
  {
   "cell_type": "markdown",
   "metadata": {},
   "source": [
    "Пример токсичного комментария"
   ]
  },
  {
   "cell_type": "code",
   "execution_count": 6,
   "metadata": {},
   "outputs": [
    {
     "data": {
      "text/plain": [
       "\"There are multiple sources to go to pal....... \\n\\nYou go to one music source on the internet and that's the be all end all. There are many sources to go to in order to find info on Allin and T.T. Quick........You could just buy the albums and look at them. I guess you're one of those people who are just experts on every subject, right!   What else do you do on your computer all day?  I wonder!  You're full of shit.........and you know it!\""
      ]
     },
     "execution_count": 6,
     "metadata": {},
     "output_type": "execute_result"
    }
   ],
   "source": [
    "data.loc[data['toxic'] == 1]['text'].sample().values[0]"
   ]
  },
  {
   "cell_type": "markdown",
   "metadata": {},
   "source": [
    "Пример обычного комментария"
   ]
  },
  {
   "cell_type": "code",
   "execution_count": 7,
   "metadata": {},
   "outputs": [
    {
     "data": {
      "text/plain": [
       "'\"\\n\\n Help with \"\"Turing\\'s Proof\"\" page \\n\\nHi, I could use some edit help with the \"\"Turing\\'s Proof\"\" page, especially \"\"proof #3\"\". (This page is meant to be interpretive, synoptic, i.e. I don\\'t consider it \"\"original work\"\"). wvbailey \"'"
      ]
     },
     "execution_count": 7,
     "metadata": {},
     "output_type": "execute_result"
    }
   ],
   "source": [
    "data.loc[data['toxic'] == 0]['text'].sample().values[0]"
   ]
  },
  {
   "cell_type": "code",
   "execution_count": 8,
   "metadata": {},
   "outputs": [],
   "source": [
    "sns.set_style('whitegrid')"
   ]
  },
  {
   "cell_type": "code",
   "execution_count": 9,
   "metadata": {},
   "outputs": [
    {
     "data": {
      "image/png": "[encoded data removed]",
      "text/plain": [
       "<Figure size 1000x200 with 1 Axes>"
      ]
     },
     "metadata": {},
     "output_type": "display_data"
    }
   ],
   "source": [
    "plt.figure(figsize=(10,2))\n",
    "sns.countplot(y=data['toxic'],\n",
    "              orient='h',\n",
    "              palette='Greens');\n",
    "plt.title('Распределение токсичных и обычных комментариев в выборке');"
   ]
  },
  {
   "cell_type": "code",
   "execution_count": 10,
   "metadata": {},
   "outputs": [
    {
     "data": {
      "text/plain": [
       "0    143106\n",
       "1     16186\n",
       "Name: toxic, dtype: int64"
      ]
     },
     "execution_count": 10,
     "metadata": {},
     "output_type": "execute_result"
    }
   ],
   "source": [
    "data['toxic'].value_counts()"
   ]
  },
  {
   "cell_type": "markdown",
   "metadata": {},
   "source": [
    "### Предобработка данных и добавление новых признаков"
   ]
  },
  {
   "cell_type": "markdown",
   "metadata": {},
   "source": [
    "Ведем ряд признаков"
   ]
  },
  {
   "cell_type": "code",
   "execution_count": 11,
   "metadata": {},
   "outputs": [
    {
     "name": "stdout",
     "output_type": "stream",
     "text": [
      "CPU times: total: 3.75 s\n",
      "Wall time: 3.87 s\n"
     ]
    }
   ],
   "source": [
    "%%time\n",
    "data['total_length'] = data['text'].apply(len)\n",
    "data['capitals'] = data['text'].apply(lambda comment: sum(1 for c in comment if c.isupper()))\n",
    "data['caps_vs_length'] = data['capitals'] / data['total_length']\n",
    "data['num_exclamation_marks'] = data['text'].apply(lambda comment: comment.count('!'))\n",
    "data['exc_vs_length'] = data['num_exclamation_marks'] / data['total_length']\n",
    "data['num_question_marks'] = data['text'].apply(lambda comment: comment.count('?'))\n",
    "data['que_vs_length'] = data['num_question_marks'] / data['total_length']\n",
    "data['num_punctuation'] = data['text'].apply(lambda comment: sum(comment.count(w) for w in '.,;:'))\n",
    "data['num_symbols'] = data['text'].apply(lambda comment: sum(comment.count(w) for w in '*&$%'))\n",
    "data['sym_vs_length'] = data['num_symbols'] / data['total_length']"
   ]
  },
  {
   "cell_type": "markdown",
   "metadata": {},
   "source": [
    "Проведем лемматизацию данных"
   ]
  },
  {
   "cell_type": "code",
   "execution_count": 12,
   "metadata": {},
   "outputs": [
    {
     "name": "stderr",
     "output_type": "stream",
     "text": [
      "[nltk_data] Downloading package wordnet to\n",
      "[nltk_data]     C:\\Users\\arrr\\AppData\\Roaming\\nltk_data...\n",
      "[nltk_data]   Package wordnet is already up-to-date!\n",
      "[nltk_data] Downloading package stopwords to\n",
      "[nltk_data]     C:\\Users\\arrr\\AppData\\Roaming\\nltk_data...\n",
      "[nltk_data]   Package stopwords is already up-to-date!\n"
     ]
    }
   ],
   "source": [
    "nltk.download('wordnet')\n",
    "nltk.download('stopwords')\n",
    "stopwords = set(nltk_stopwords.words('english'))\n",
    "lemmatizer = WordNetLemmatizer()"
   ]
  },
  {
   "cell_type": "code",
   "execution_count": 13,
   "metadata": {},
   "outputs": [],
   "source": [
    "def lemmatize(text):\n",
    "    \n",
    "    text = re.sub(r'[^a-zA-Z]', ' ', text)\n",
    "    text = text.split()\n",
    "    text = \" \".join(text)\n",
    "    \n",
    "    word_list = nltk.word_tokenize(text)\n",
    "    lemmatized_out = ' '.join([lemmatizer.lemmatize(w) for w in word_list])\n",
    "    \n",
    "    return lemmatized_out"
   ]
  },
  {
   "cell_type": "code",
   "execution_count": 14,
   "metadata": {},
   "outputs": [],
   "source": [
    "tqdm.pandas()"
   ]
  },
  {
   "cell_type": "code",
   "execution_count": 15,
   "metadata": {},
   "outputs": [
    {
     "name": "stderr",
     "output_type": "stream",
     "text": [
      "100%|██████████| 159292/159292 [01:15<00:00, 2116.52it/s]"
     ]
    },
    {
     "name": "stdout",
     "output_type": "stream",
     "text": [
      "CPU times: total: 40.8 s\n",
      "Wall time: 1min 15s\n"
     ]
    },
    {
     "name": "stderr",
     "output_type": "stream",
     "text": [
      "\n"
     ]
    }
   ],
   "source": [
    "%%time\n",
    "data['text'] = data['text'].progress_apply(lemmatize)"
   ]
  },
  {
   "cell_type": "markdown",
   "metadata": {},
   "source": [
    "Добавим еще признаков"
   ]
  },
  {
   "cell_type": "code",
   "execution_count": 16,
   "metadata": {},
   "outputs": [
    {
     "name": "stdout",
     "output_type": "stream",
     "text": [
      "CPU times: total: 2.28 s\n",
      "Wall time: 2.48 s\n"
     ]
    }
   ],
   "source": [
    "%%time\n",
    "data['num_words'] = data['text'].apply(lambda comment: len(comment.split()))\n",
    "data['num_unique_words'] = data['text'].apply(lambda comment: len(set(w for w in comment.split())))\n",
    "data['words_vs_unique'] = data['num_unique_words'] / data['num_words']\n",
    "data['uni_vs_length'] = data['num_unique_words'] / data['total_length']\n",
    "data['sym_vs_uni'] = data['num_symbols'] / data['num_unique_words']\n",
    "data['w_vs_length'] = data['num_words'] / data['total_length']\n",
    "data['exc_vs_uni'] = data['num_exclamation_marks'] / data['num_unique_words']\n",
    "data['caps_vs_words'] = data['capitals'] / data['num_words']"
   ]
  },
  {
   "cell_type": "code",
   "execution_count": 17,
   "metadata": {
    "tags": []
   },
   "outputs": [
    {
     "data": {
      "image/png": "[encoded data removed]",
      "text/plain": [
       "<Figure size 1400x1400 with 2 Axes>"
      ]
     },
     "metadata": {},
     "output_type": "display_data"
    }
   ],
   "source": [
    "plt.figure(figsize=(14, 14))\n",
    "sns.heatmap(data.corr(), annot=True, fmt='.2f', cmap='crest');"
   ]
  },
  {
   "cell_type": "markdown",
   "metadata": {},
   "source": [
    "Удалим дубликаты и пустые строки из данных, которые появились после лемматизации"
   ]
  },
  {
   "cell_type": "code",
   "execution_count": 18,
   "metadata": {},
   "outputs": [
    {
     "data": {
      "text/plain": [
       "1181"
      ]
     },
     "execution_count": 18,
     "metadata": {},
     "output_type": "execute_result"
    }
   ],
   "source": [
    "data['text'].duplicated().sum()"
   ]
  },
  {
   "cell_type": "code",
   "execution_count": 19,
   "metadata": {},
   "outputs": [
    {
     "data": {
      "text/plain": [
       "149790    wikipedia s censorship I looked up Bash Back T...\n",
       "89730     wikipedia s censorship I looked up Bash Back T...\n",
       "63210     wow and now i bet u feel like a big man on wik...\n",
       "62199     wow and now i bet u feel like a big man on wik...\n",
       "90495     yeah is that youuu oh i think it is big boi ye...\n",
       "18763     yeah is that youuu oh i think it is big boi ye...\n",
       "56707     you both are little faggot with no life so may...\n",
       "54194     you both are little faggot with no life so may...\n",
       "56435     zionist jew please stop spreadin your lie bias...\n",
       "94426     zionist jew please stop spreadin your lie bias...\n",
       "Name: text, dtype: object"
      ]
     },
     "execution_count": 19,
     "metadata": {},
     "output_type": "execute_result"
    }
   ],
   "source": [
    "data[data['text'].duplicated(keep=False)]['text'].sort_values().tail(10)"
   ]
  },
  {
   "cell_type": "code",
   "execution_count": 20,
   "metadata": {},
   "outputs": [],
   "source": [
    "data = data[data['text'] != '']"
   ]
  },
  {
   "cell_type": "code",
   "execution_count": 21,
   "metadata": {},
   "outputs": [],
   "source": [
    "data.drop_duplicates(subset=['text'], inplace=True, ignore_index=True)"
   ]
  },
  {
   "cell_type": "code",
   "execution_count": 22,
   "metadata": {},
   "outputs": [
    {
     "data": {
      "text/plain": [
       "0"
      ]
     },
     "execution_count": 22,
     "metadata": {},
     "output_type": "execute_result"
    }
   ],
   "source": [
    "data['text'].duplicated().sum()"
   ]
  },
  {
   "cell_type": "code",
   "execution_count": 23,
   "metadata": {},
   "outputs": [
    {
     "data": {
      "text/html": [
       "<div>\n",
       "<style scoped>\n",
       "    .dataframe tbody tr th:only-of-type {\n",
       "        vertical-align: middle;\n",
       "    }\n",
       "\n",
       "    .dataframe tbody tr th {\n",
       "        vertical-align: top;\n",
       "    }\n",
       "\n",
       "    .dataframe thead th {\n",
       "        text-align: right;\n",
       "    }\n",
       "</style>\n",
       "<table border=\"1\" class=\"dataframe\">\n",
       "  <thead>\n",
       "    <tr style=\"text-align: right;\">\n",
       "      <th></th>\n",
       "      <th>text</th>\n",
       "      <th>toxic</th>\n",
       "      <th>total_length</th>\n",
       "      <th>capitals</th>\n",
       "      <th>caps_vs_length</th>\n",
       "      <th>num_exclamation_marks</th>\n",
       "      <th>exc_vs_length</th>\n",
       "      <th>num_question_marks</th>\n",
       "      <th>que_vs_length</th>\n",
       "      <th>num_punctuation</th>\n",
       "      <th>num_symbols</th>\n",
       "      <th>sym_vs_length</th>\n",
       "      <th>num_words</th>\n",
       "      <th>num_unique_words</th>\n",
       "      <th>words_vs_unique</th>\n",
       "      <th>uni_vs_length</th>\n",
       "      <th>sym_vs_uni</th>\n",
       "      <th>w_vs_length</th>\n",
       "      <th>exc_vs_uni</th>\n",
       "      <th>caps_vs_words</th>\n",
       "    </tr>\n",
       "  </thead>\n",
       "  <tbody>\n",
       "    <tr>\n",
       "      <th>0</th>\n",
       "      <td>Explanation Why the edits made under my userna...</td>\n",
       "      <td>0</td>\n",
       "      <td>264</td>\n",
       "      <td>17</td>\n",
       "      <td>0.064394</td>\n",
       "      <td>0</td>\n",
       "      <td>0.000000</td>\n",
       "      <td>1</td>\n",
       "      <td>0.003788</td>\n",
       "      <td>6</td>\n",
       "      <td>0</td>\n",
       "      <td>0.0</td>\n",
       "      <td>46</td>\n",
       "      <td>42</td>\n",
       "      <td>0.913043</td>\n",
       "      <td>0.159091</td>\n",
       "      <td>0.0</td>\n",
       "      <td>0.174242</td>\n",
       "      <td>0.0000</td>\n",
       "      <td>0.369565</td>\n",
       "    </tr>\n",
       "    <tr>\n",
       "      <th>1</th>\n",
       "      <td>D aww He match this background colour I m seem...</td>\n",
       "      <td>0</td>\n",
       "      <td>112</td>\n",
       "      <td>8</td>\n",
       "      <td>0.071429</td>\n",
       "      <td>1</td>\n",
       "      <td>0.008929</td>\n",
       "      <td>0</td>\n",
       "      <td>0.000000</td>\n",
       "      <td>5</td>\n",
       "      <td>0</td>\n",
       "      <td>0.0</td>\n",
       "      <td>16</td>\n",
       "      <td>16</td>\n",
       "      <td>1.000000</td>\n",
       "      <td>0.142857</td>\n",
       "      <td>0.0</td>\n",
       "      <td>0.142857</td>\n",
       "      <td>0.0625</td>\n",
       "      <td>0.500000</td>\n",
       "    </tr>\n",
       "    <tr>\n",
       "      <th>2</th>\n",
       "      <td>Hey man I m really not trying to edit war It s...</td>\n",
       "      <td>0</td>\n",
       "      <td>233</td>\n",
       "      <td>4</td>\n",
       "      <td>0.017167</td>\n",
       "      <td>0</td>\n",
       "      <td>0.000000</td>\n",
       "      <td>0</td>\n",
       "      <td>0.000000</td>\n",
       "      <td>4</td>\n",
       "      <td>0</td>\n",
       "      <td>0.0</td>\n",
       "      <td>44</td>\n",
       "      <td>41</td>\n",
       "      <td>0.931818</td>\n",
       "      <td>0.175966</td>\n",
       "      <td>0.0</td>\n",
       "      <td>0.188841</td>\n",
       "      <td>0.0000</td>\n",
       "      <td>0.090909</td>\n",
       "    </tr>\n",
       "    <tr>\n",
       "      <th>3</th>\n",
       "      <td>More I can t make any real suggestion on impro...</td>\n",
       "      <td>0</td>\n",
       "      <td>622</td>\n",
       "      <td>11</td>\n",
       "      <td>0.017685</td>\n",
       "      <td>0</td>\n",
       "      <td>0.000000</td>\n",
       "      <td>0</td>\n",
       "      <td>0.000000</td>\n",
       "      <td>6</td>\n",
       "      <td>0</td>\n",
       "      <td>0.0</td>\n",
       "      <td>116</td>\n",
       "      <td>83</td>\n",
       "      <td>0.715517</td>\n",
       "      <td>0.133441</td>\n",
       "      <td>0.0</td>\n",
       "      <td>0.186495</td>\n",
       "      <td>0.0000</td>\n",
       "      <td>0.094828</td>\n",
       "    </tr>\n",
       "    <tr>\n",
       "      <th>4</th>\n",
       "      <td>You sir are my hero Any chance you remember wh...</td>\n",
       "      <td>0</td>\n",
       "      <td>67</td>\n",
       "      <td>2</td>\n",
       "      <td>0.029851</td>\n",
       "      <td>0</td>\n",
       "      <td>0.000000</td>\n",
       "      <td>1</td>\n",
       "      <td>0.014925</td>\n",
       "      <td>3</td>\n",
       "      <td>0</td>\n",
       "      <td>0.0</td>\n",
       "      <td>14</td>\n",
       "      <td>14</td>\n",
       "      <td>1.000000</td>\n",
       "      <td>0.208955</td>\n",
       "      <td>0.0</td>\n",
       "      <td>0.208955</td>\n",
       "      <td>0.0000</td>\n",
       "      <td>0.142857</td>\n",
       "    </tr>\n",
       "  </tbody>\n",
       "</table>\n",
       "</div>"
      ],
      "text/plain": [
       "                                                text  toxic  total_length  \\\n",
       "0  Explanation Why the edits made under my userna...      0           264   \n",
       "1  D aww He match this background colour I m seem...      0           112   \n",
       "2  Hey man I m really not trying to edit war It s...      0           233   \n",
       "3  More I can t make any real suggestion on impro...      0           622   \n",
       "4  You sir are my hero Any chance you remember wh...      0            67   \n",
       "\n",
       "   capitals  caps_vs_length  num_exclamation_marks  exc_vs_length  \\\n",
       "0        17        0.064394                      0       0.000000   \n",
       "1         8        0.071429                      1       0.008929   \n",
       "2         4        0.017167                      0       0.000000   \n",
       "3        11        0.017685                      0       0.000000   \n",
       "4         2        0.029851                      0       0.000000   \n",
       "\n",
       "   num_question_marks  que_vs_length  num_punctuation  num_symbols  \\\n",
       "0                   1       0.003788                6            0   \n",
       "1                   0       0.000000                5            0   \n",
       "2                   0       0.000000                4            0   \n",
       "3                   0       0.000000                6            0   \n",
       "4                   1       0.014925                3            0   \n",
       "\n",
       "   sym_vs_length  num_words  num_unique_words  words_vs_unique  uni_vs_length  \\\n",
       "0            0.0         46                42         0.913043       0.159091   \n",
       "1            0.0         16                16         1.000000       0.142857   \n",
       "2            0.0         44                41         0.931818       0.175966   \n",
       "3            0.0        116                83         0.715517       0.133441   \n",
       "4            0.0         14                14         1.000000       0.208955   \n",
       "\n",
       "   sym_vs_uni  w_vs_length  exc_vs_uni  caps_vs_words  \n",
       "0         0.0     0.174242      0.0000       0.369565  \n",
       "1         0.0     0.142857      0.0625       0.500000  \n",
       "2         0.0     0.188841      0.0000       0.090909  \n",
       "3         0.0     0.186495      0.0000       0.094828  \n",
       "4         0.0     0.208955      0.0000       0.142857  "
      ]
     },
     "execution_count": 23,
     "metadata": {},
     "output_type": "execute_result"
    }
   ],
   "source": [
    "data.head()"
   ]
  },
  {
   "cell_type": "markdown",
   "metadata": {},
   "source": [
    "### Разбиение на выборки"
   ]
  },
  {
   "cell_type": "code",
   "execution_count": 24,
   "metadata": {},
   "outputs": [],
   "source": [
    "features = data.drop(columns=['toxic'])"
   ]
  },
  {
   "cell_type": "code",
   "execution_count": 25,
   "metadata": {},
   "outputs": [],
   "source": [
    "target = data['toxic']"
   ]
  },
  {
   "cell_type": "code",
   "execution_count": 26,
   "metadata": {},
   "outputs": [],
   "source": [
    "features_train, features_test, target_train, target_test = train_test_split(features, \n",
    "                                                                            target,\n",
    "                                                                            test_size=0.2,\n",
    "                                                                            random_state=27,\n",
    "                                                                            stratify=target)"
   ]
  },
  {
   "cell_type": "code",
   "execution_count": 27,
   "metadata": {},
   "outputs": [
    {
     "name": "stdout",
     "output_type": "stream",
     "text": [
      "(126488, 19)\n",
      "(126488,)\n",
      "(31622, 19)\n",
      "(31622,)\n"
     ]
    }
   ],
   "source": [
    "#check\n",
    "print(features_train.shape)\n",
    "print(target_train.shape)\n",
    "print(features_test.shape)\n",
    "print(target_test.shape)"
   ]
  },
  {
   "cell_type": "markdown",
   "metadata": {},
   "source": [
    "Выделим из обучающей выборки часть для подбора параметров и кросс-валидации для экономии времени"
   ]
  },
  {
   "cell_type": "code",
   "execution_count": 28,
   "metadata": {},
   "outputs": [],
   "source": [
    "sample_features, _, sample_target, _ = train_test_split(features_train, \n",
    "                                                        target_train,\n",
    "                                                        train_size=0.3,\n",
    "                                                        random_state=27,\n",
    "                                                        stratify=target_train)"
   ]
  },
  {
   "cell_type": "code",
   "execution_count": 29,
   "metadata": {},
   "outputs": [
    {
     "name": "stdout",
     "output_type": "stream",
     "text": [
      "(37946, 19)\n",
      "(37946,)\n"
     ]
    }
   ],
   "source": [
    "#check\n",
    "print(sample_features.shape)\n",
    "print(sample_target.shape)"
   ]
  },
  {
   "cell_type": "markdown",
   "metadata": {},
   "source": [
    "### Pipeline"
   ]
  },
  {
   "cell_type": "code",
   "execution_count": 30,
   "metadata": {},
   "outputs": [],
   "source": [
    "count_tf_idf_word = TfidfVectorizer(stop_words=stopwords)\n",
    "count_tf_idf_char = TfidfVectorizer(stop_words=stopwords, analyzer='char')\n",
    "scaler = MinMaxScaler()"
   ]
  },
  {
   "cell_type": "code",
   "execution_count": 31,
   "metadata": {},
   "outputs": [],
   "source": [
    "word_transformer = ColumnTransformer(transformers=[('w', count_tf_idf_word, 'text')])\n",
    "char_transformer = ColumnTransformer(transformers=[('c', count_tf_idf_char, 'text')])\n",
    "num_transformer = ColumnTransformer(transformers=[('n', scaler, selector(dtype_exclude='object'))])"
   ]
  },
  {
   "cell_type": "code",
   "execution_count": 32,
   "metadata": {},
   "outputs": [],
   "source": [
    "vectorizer = FeatureUnion([('word', word_transformer), ('char', char_transformer), ('num', num_transformer)])"
   ]
  },
  {
   "cell_type": "code",
   "execution_count": 33,
   "metadata": {},
   "outputs": [],
   "source": [
    "pipe_svm = Pipeline([('transform', vectorizer),\n",
    "                     ('classifier', LinearSVC(random_state=27, class_weight='balanced'))])"
   ]
  },
  {
   "cell_type": "code",
   "execution_count": 34,
   "metadata": {},
   "outputs": [],
   "source": [
    "pipe_nbsvm = Pipeline([('transform', vectorizer),\n",
    "                       ('classifier', NbSvmClassifier(random_state=27, class_weight='balanced'))])"
   ]
  },
  {
   "cell_type": "markdown",
   "metadata": {},
   "source": [
    "## Подбор параметров и обучение лучшей модели"
   ]
  },
  {
   "cell_type": "markdown",
   "metadata": {},
   "source": [
    "### LinearSVC"
   ]
  },
  {
   "cell_type": "code",
   "execution_count": 35,
   "metadata": {},
   "outputs": [],
   "source": [
    "params = {\n",
    "   'transform__word__w__max_features' : [250000, 150000], \n",
    "    'transform__word__w__ngram_range' : [(1,2), (1,3)],\n",
    "    'transform__char__c__max_features' : [250000, 150000],\n",
    "    'transform__char__c__ngram_range' : [ (3,6), (3,7)],\n",
    "    'classifier__tol' : np.linspace(1e-7, 1e-5, 10),\n",
    "    'classifier__C' : np.linspace(0.1, 1.5, 10)\n",
    "}"
   ]
  },
  {
   "cell_type": "code",
   "execution_count": 36,
   "metadata": {},
   "outputs": [],
   "source": [
    "search_svm = RandomizedSearchCV(pipe_svm,\n",
    "                                param_distributions=params,\n",
    "                                n_iter=10,\n",
    "                                cv=3,\n",
    "                                refit=False,\n",
    "                                scoring='f1',\n",
    "                                random_state=27,\n",
    "                                pre_dispatch=10,\n",
    "                                n_jobs=-1,\n",
    "                                verbose=1)"
   ]
  },
  {
   "cell_type": "code",
   "execution_count": 37,
   "metadata": {},
   "outputs": [
    {
     "name": "stdout",
     "output_type": "stream",
     "text": [
      "Fitting 3 folds for each of 10 candidates, totalling 30 fits\n"
     ]
    }
   ],
   "source": [
    "search_svm.fit(sample_features, sample_target);"
   ]
  },
  {
   "cell_type": "code",
   "execution_count": 38,
   "metadata": {},
   "outputs": [
    {
     "name": "stdout",
     "output_type": "stream",
     "text": [
      "Лучшая метрика на кросс-валидации f1 - 0.776\n"
     ]
    }
   ],
   "source": [
    "print(f'Лучшая метрика на кросс-валидации f1 - {search_svm.best_score_:0.3f}')"
   ]
  },
  {
   "cell_type": "code",
   "execution_count": 39,
   "metadata": {},
   "outputs": [
    {
     "name": "stdout",
     "output_type": "stream",
     "text": [
      "Лучшие параметры модели\n"
     ]
    },
    {
     "data": {
      "text/plain": [
       "{'transform__word__w__ngram_range': (1, 2),\n",
       " 'transform__word__w__max_features': 250000,\n",
       " 'transform__char__c__ngram_range': (3, 6),\n",
       " 'transform__char__c__max_features': 250000,\n",
       " 'classifier__tol': 7.800000000000002e-06,\n",
       " 'classifier__C': 0.7222222222222222}"
      ]
     },
     "execution_count": 39,
     "metadata": {},
     "output_type": "execute_result"
    }
   ],
   "source": [
    "print('Лучшие параметры модели')\n",
    "search_svm.best_params_"
   ]
  },
  {
   "cell_type": "code",
   "execution_count": 40,
   "metadata": {},
   "outputs": [],
   "source": [
    "pipe_svm.set_params(**search_svm.best_params_);"
   ]
  },
  {
   "cell_type": "markdown",
   "metadata": {},
   "source": [
    "По результатам кросс-валидации модель удовлетворяет целям проекта"
   ]
  },
  {
   "cell_type": "markdown",
   "metadata": {
    "tags": []
   },
   "source": [
    "### NBSVM"
   ]
  },
  {
   "cell_type": "code",
   "execution_count": 41,
   "metadata": {},
   "outputs": [],
   "source": [
    "search_nbsvm = RandomizedSearchCV(pipe_nbsvm,\n",
    "                                  param_distributions=params,\n",
    "                                  n_iter=10,\n",
    "                                  cv=3,\n",
    "                                  refit=False,\n",
    "                                  scoring='f1',\n",
    "                                  random_state=27,\n",
    "                                  pre_dispatch=10,\n",
    "                                  n_jobs=-1,\n",
    "                                  verbose=1)"
   ]
  },
  {
   "cell_type": "code",
   "execution_count": 42,
   "metadata": {},
   "outputs": [
    {
     "name": "stdout",
     "output_type": "stream",
     "text": [
      "Fitting 3 folds for each of 10 candidates, totalling 30 fits\n"
     ]
    }
   ],
   "source": [
    "search_nbsvm.fit(sample_features, sample_target);"
   ]
  },
  {
   "cell_type": "code",
   "execution_count": 43,
   "metadata": {},
   "outputs": [
    {
     "name": "stdout",
     "output_type": "stream",
     "text": [
      "Лучшая метрика на кросс-валидации f1 - 0.792\n"
     ]
    }
   ],
   "source": [
    "print(f'Лучшая метрика на кросс-валидации f1 - {search_nbsvm.best_score_:0.3f}')"
   ]
  },
  {
   "cell_type": "code",
   "execution_count": 44,
   "metadata": {},
   "outputs": [
    {
     "name": "stdout",
     "output_type": "stream",
     "text": [
      "Лучшие параметры модели\n"
     ]
    },
    {
     "data": {
      "text/plain": [
       "{'transform__word__w__ngram_range': (1, 3),\n",
       " 'transform__word__w__max_features': 250000,\n",
       " 'transform__char__c__ngram_range': (3, 7),\n",
       " 'transform__char__c__max_features': 150000,\n",
       " 'classifier__tol': 8.900000000000001e-06,\n",
       " 'classifier__C': 0.1}"
      ]
     },
     "execution_count": 44,
     "metadata": {},
     "output_type": "execute_result"
    }
   ],
   "source": [
    "print('Лучшие параметры модели')\n",
    "search_nbsvm.best_params_"
   ]
  },
  {
   "cell_type": "code",
   "execution_count": 45,
   "metadata": {},
   "outputs": [],
   "source": [
    "pipe_nbsvm.set_params(**search_nbsvm.best_params_);"
   ]
  },
  {
   "cell_type": "code",
   "execution_count": 46,
   "metadata": {},
   "outputs": [
    {
     "data": {
      "text/html": [
       "<div>\n",
       "<style scoped>\n",
       "    .dataframe tbody tr th:only-of-type {\n",
       "        vertical-align: middle;\n",
       "    }\n",
       "\n",
       "    .dataframe tbody tr th {\n",
       "        vertical-align: top;\n",
       "    }\n",
       "\n",
       "    .dataframe thead th {\n",
       "        text-align: right;\n",
       "    }\n",
       "</style>\n",
       "<table border=\"1\" class=\"dataframe\">\n",
       "  <thead>\n",
       "    <tr style=\"text-align: right;\">\n",
       "      <th></th>\n",
       "      <th>F1</th>\n",
       "    </tr>\n",
       "  </thead>\n",
       "  <tbody>\n",
       "    <tr>\n",
       "      <th>LinearSVC</th>\n",
       "      <td>0.776140</td>\n",
       "    </tr>\n",
       "    <tr>\n",
       "      <th>NBSVM</th>\n",
       "      <td>0.792213</td>\n",
       "    </tr>\n",
       "  </tbody>\n",
       "</table>\n",
       "</div>"
      ],
      "text/plain": [
       "                 F1\n",
       "LinearSVC  0.776140\n",
       "NBSVM      0.792213"
      ]
     },
     "execution_count": 46,
     "metadata": {},
     "output_type": "execute_result"
    }
   ],
   "source": [
    "pd.DataFrame([search_svm.best_score_, search_nbsvm.best_score_],\n",
    "             index=['LinearSVC', 'NBSVM'],\n",
    "             columns=['F1'])"
   ]
  },
  {
   "cell_type": "markdown",
   "metadata": {},
   "source": [
    "По результатам кросс-валидации лучшее значение метрики у NBSVM, обучать и тестировать будем ее"
   ]
  },
  {
   "cell_type": "code",
   "execution_count": 47,
   "metadata": {},
   "outputs": [],
   "source": [
    "pipe_nbsvm.fit(features_train, target_train);"
   ]
  },
  {
   "cell_type": "markdown",
   "metadata": {},
   "source": [
    "## Тестирование"
   ]
  },
  {
   "cell_type": "code",
   "execution_count": 48,
   "metadata": {},
   "outputs": [],
   "source": [
    "predictions = pipe_nbsvm.predict(features_test)"
   ]
  },
  {
   "cell_type": "code",
   "execution_count": 49,
   "metadata": {},
   "outputs": [
    {
     "name": "stdout",
     "output_type": "stream",
     "text": [
      "              precision    recall  f1-score   support\n",
      "\n",
      "           0       0.98      0.97      0.98     28407\n",
      "           1       0.79      0.85      0.82      3215\n",
      "\n",
      "    accuracy                           0.96     31622\n",
      "   macro avg       0.89      0.91      0.90     31622\n",
      "weighted avg       0.96      0.96      0.96     31622\n",
      "\n"
     ]
    }
   ],
   "source": [
    "print(classification_report(target_test, predictions))"
   ]
  },
  {
   "cell_type": "code",
   "execution_count": 50,
   "metadata": {},
   "outputs": [
    {
     "name": "stdout",
     "output_type": "stream",
     "text": [
      "f1-мера лучшей модели на тестовой выборке - 0.819\n"
     ]
    }
   ],
   "source": [
    "print(f'f1-мера лучшей модели на тестовой выборке - {f1_score(target_test, predictions):0.3f}')"
   ]
  },
  {
   "cell_type": "code",
   "execution_count": 51,
   "metadata": {},
   "outputs": [
    {
     "data": {
      "image/png": "[encoded data removed]",
      "text/plain": [
       "<Figure size 600x600 with 2 Axes>"
      ]
     },
     "metadata": {},
     "output_type": "display_data"
    }
   ],
   "source": [
    "sns.set_style('white')\n",
    "fig, ax = plt.subplots(figsize=(6,6))\n",
    "ConfusionMatrixDisplay(confusion_matrix(target_test, predictions)).plot(ax=ax);"
   ]
  },
  {
   "cell_type": "markdown",
   "metadata": {},
   "source": [
    "## Выводы"
   ]
  },
  {
   "cell_type": "markdown",
   "metadata": {},
   "source": [
    "- Проведена лемматизация текстовых данных\n",
    "- Из текстовых данных созданы признаки методом TF-IDF\n",
    "- Выбрана модель с лучшими показателями при кросс-валидации - NBSVM\n",
    "- Проведена проверка модели на тестовой выборке, итоговое значение целевой метрики f1 соответствует целям проекта\n",
    "- Добавление численных признаков и двойной TF-IDF дали прирост к итоговой метрике 0.03\n",
    "- Применение NBSVM увеличило итоговую метрику на 0.01"
   ]
  }
 ],
 "metadata": {
  "ExecuteTimeLog": [
   {
    "duration": 1576,
    "start_time": "2022-11-20T13:53:35.962Z"
   },
   {
    "duration": 3277,
    "start_time": "2022-11-20T13:54:28.775Z"
   },
   {
    "duration": 10,
    "start_time": "2022-11-20T13:54:37.782Z"
   },
   {
    "duration": 8,
    "start_time": "2022-11-20T13:55:17.030Z"
   },
   {
    "duration": 14,
    "start_time": "2022-11-20T13:55:30.407Z"
   },
   {
    "duration": 11,
    "start_time": "2022-11-20T13:55:38.007Z"
   },
   {
    "duration": 9,
    "start_time": "2022-11-20T13:56:12.047Z"
   },
   {
    "duration": 1853,
    "start_time": "2022-11-20T14:21:45.633Z"
   },
   {
    "duration": 2,
    "start_time": "2022-11-20T14:22:02.848Z"
   },
   {
    "duration": 169,
    "start_time": "2022-11-20T14:22:26.633Z"
   },
   {
    "duration": 1540,
    "start_time": "2022-11-20T14:26:20.907Z"
   },
   {
    "duration": 3137,
    "start_time": "2022-11-20T14:26:22.449Z"
   },
   {
    "duration": 15,
    "start_time": "2022-11-20T14:26:25.588Z"
   },
   {
    "duration": 6,
    "start_time": "2022-11-20T14:26:25.604Z"
   },
   {
    "duration": 1913,
    "start_time": "2022-11-20T14:26:25.612Z"
   },
   {
    "duration": 6,
    "start_time": "2022-11-20T14:26:27.527Z"
   },
   {
    "duration": 48,
    "start_time": "2022-11-20T14:26:39.362Z"
   },
   {
    "duration": 1606,
    "start_time": "2022-11-20T14:26:49.529Z"
   },
   {
    "duration": 3137,
    "start_time": "2022-11-20T14:26:51.137Z"
   },
   {
    "duration": 14,
    "start_time": "2022-11-20T14:26:54.276Z"
   },
   {
    "duration": 6,
    "start_time": "2022-11-20T14:26:54.292Z"
   },
   {
    "duration": 1969,
    "start_time": "2022-11-20T14:26:54.300Z"
   },
   {
    "duration": 7,
    "start_time": "2022-11-20T14:26:56.271Z"
   },
   {
    "duration": 1514,
    "start_time": "2022-11-20T14:27:29.018Z"
   },
   {
    "duration": 3201,
    "start_time": "2022-11-20T14:27:30.534Z"
   },
   {
    "duration": 14,
    "start_time": "2022-11-20T14:27:33.739Z"
   },
   {
    "duration": 8,
    "start_time": "2022-11-20T14:27:33.755Z"
   },
   {
    "duration": 1830,
    "start_time": "2022-11-20T14:27:33.765Z"
   },
   {
    "duration": 35,
    "start_time": "2022-11-20T14:27:35.596Z"
   },
   {
    "duration": 133,
    "start_time": "2022-11-20T14:27:35.632Z"
   },
   {
    "duration": 0,
    "start_time": "2022-11-20T14:27:35.767Z"
   },
   {
    "duration": 0,
    "start_time": "2022-11-20T14:27:35.768Z"
   },
   {
    "duration": 0,
    "start_time": "2022-11-20T14:27:35.769Z"
   },
   {
    "duration": 5,
    "start_time": "2022-11-20T14:27:44.243Z"
   },
   {
    "duration": 1610,
    "start_time": "2022-11-20T14:28:16.655Z"
   },
   {
    "duration": 3182,
    "start_time": "2022-11-20T14:28:18.268Z"
   },
   {
    "duration": 14,
    "start_time": "2022-11-20T14:28:21.452Z"
   },
   {
    "duration": 7,
    "start_time": "2022-11-20T14:28:21.468Z"
   },
   {
    "duration": 1873,
    "start_time": "2022-11-20T14:28:21.477Z"
   },
   {
    "duration": 11,
    "start_time": "2022-11-20T14:28:23.352Z"
   },
   {
    "duration": 10,
    "start_time": "2022-11-20T14:28:23.365Z"
   },
   {
    "duration": 1556,
    "start_time": "2022-11-20T14:29:14.003Z"
   },
   {
    "duration": 3202,
    "start_time": "2022-11-20T14:29:15.561Z"
   },
   {
    "duration": 14,
    "start_time": "2022-11-20T14:29:18.765Z"
   },
   {
    "duration": 6,
    "start_time": "2022-11-20T14:29:18.780Z"
   },
   {
    "duration": 35,
    "start_time": "2022-11-20T14:29:18.788Z"
   },
   {
    "duration": 122,
    "start_time": "2022-11-20T14:29:18.825Z"
   },
   {
    "duration": 0,
    "start_time": "2022-11-20T14:29:18.948Z"
   },
   {
    "duration": 0,
    "start_time": "2022-11-20T14:29:18.949Z"
   },
   {
    "duration": 0,
    "start_time": "2022-11-20T14:29:18.950Z"
   },
   {
    "duration": 0,
    "start_time": "2022-11-20T14:29:18.951Z"
   },
   {
    "duration": 0,
    "start_time": "2022-11-20T14:29:18.953Z"
   },
   {
    "duration": 1987,
    "start_time": "2022-11-20T14:30:35.923Z"
   },
   {
    "duration": 9,
    "start_time": "2022-11-20T14:30:43.004Z"
   },
   {
    "duration": 233,
    "start_time": "2022-11-20T14:30:51.595Z"
   },
   {
    "duration": 1629,
    "start_time": "2022-11-20T14:32:46.364Z"
   },
   {
    "duration": 3143,
    "start_time": "2022-11-20T14:32:47.996Z"
   },
   {
    "duration": 16,
    "start_time": "2022-11-20T14:32:51.143Z"
   },
   {
    "duration": 5,
    "start_time": "2022-11-20T14:32:51.161Z"
   },
   {
    "duration": 37,
    "start_time": "2022-11-20T14:32:51.167Z"
   },
   {
    "duration": 1952,
    "start_time": "2022-11-20T14:32:51.206Z"
   },
   {
    "duration": 224,
    "start_time": "2022-11-20T14:32:53.160Z"
   },
   {
    "duration": 1618,
    "start_time": "2022-11-20T14:33:18.018Z"
   },
   {
    "duration": 3142,
    "start_time": "2022-11-20T14:33:19.639Z"
   },
   {
    "duration": 14,
    "start_time": "2022-11-20T14:33:22.783Z"
   },
   {
    "duration": 7,
    "start_time": "2022-11-20T14:33:22.799Z"
   },
   {
    "duration": 31,
    "start_time": "2022-11-20T14:33:22.808Z"
   },
   {
    "duration": 1961,
    "start_time": "2022-11-20T14:33:22.841Z"
   },
   {
    "duration": 185,
    "start_time": "2022-11-20T14:33:24.805Z"
   },
   {
    "duration": 8639,
    "start_time": "2022-11-20T14:33:24.991Z"
   },
   {
    "duration": 1973,
    "start_time": "2022-11-20T14:33:33.632Z"
   },
   {
    "duration": 4,
    "start_time": "2022-11-20T14:33:54.364Z"
   },
   {
    "duration": 3,
    "start_time": "2022-11-20T14:34:04.523Z"
   },
   {
    "duration": 58987,
    "start_time": "2022-11-20T14:34:32.126Z"
   },
   {
    "duration": 74,
    "start_time": "2022-11-20T14:36:42.799Z"
   },
   {
    "duration": 4,
    "start_time": "2022-11-20T14:36:46.989Z"
   },
   {
    "duration": 41,
    "start_time": "2022-11-20T14:37:36.183Z"
   },
   {
    "duration": 41,
    "start_time": "2022-11-20T14:37:54.759Z"
   },
   {
    "duration": 1539,
    "start_time": "2022-11-20T14:38:29.917Z"
   },
   {
    "duration": 775,
    "start_time": "2022-11-20T14:38:31.458Z"
   },
   {
    "duration": 16,
    "start_time": "2022-11-20T14:38:32.234Z"
   },
   {
    "duration": 7,
    "start_time": "2022-11-20T14:38:32.251Z"
   },
   {
    "duration": 47,
    "start_time": "2022-11-20T14:38:32.261Z"
   },
   {
    "duration": 1946,
    "start_time": "2022-11-20T14:38:32.309Z"
   },
   {
    "duration": 89,
    "start_time": "2022-11-20T14:38:34.257Z"
   },
   {
    "duration": 0,
    "start_time": "2022-11-20T14:38:34.347Z"
   },
   {
    "duration": 0,
    "start_time": "2022-11-20T14:38:34.349Z"
   },
   {
    "duration": 0,
    "start_time": "2022-11-20T14:38:34.351Z"
   },
   {
    "duration": 0,
    "start_time": "2022-11-20T14:38:34.352Z"
   },
   {
    "duration": 0,
    "start_time": "2022-11-20T14:38:34.353Z"
   },
   {
    "duration": 1518,
    "start_time": "2022-11-20T14:38:54.077Z"
   },
   {
    "duration": 767,
    "start_time": "2022-11-20T14:38:55.597Z"
   },
   {
    "duration": 13,
    "start_time": "2022-11-20T14:38:56.365Z"
   },
   {
    "duration": 9,
    "start_time": "2022-11-20T14:38:56.380Z"
   },
   {
    "duration": 41,
    "start_time": "2022-11-20T14:38:56.406Z"
   },
   {
    "duration": 2008,
    "start_time": "2022-11-20T14:38:56.448Z"
   },
   {
    "duration": 233,
    "start_time": "2022-11-20T14:38:58.458Z"
   },
   {
    "duration": 23771,
    "start_time": "2022-11-20T14:38:58.693Z"
   },
   {
    "duration": 3720,
    "start_time": "2022-11-20T14:39:22.466Z"
   },
   {
    "duration": 2,
    "start_time": "2022-11-20T14:39:26.188Z"
   },
   {
    "duration": 1496,
    "start_time": "2022-11-20T14:41:09.901Z"
   },
   {
    "duration": 3178,
    "start_time": "2022-11-20T14:41:11.399Z"
   },
   {
    "duration": 15,
    "start_time": "2022-11-20T14:41:14.578Z"
   },
   {
    "duration": 12,
    "start_time": "2022-11-20T14:41:14.594Z"
   },
   {
    "duration": 29,
    "start_time": "2022-11-20T14:41:14.608Z"
   },
   {
    "duration": 1942,
    "start_time": "2022-11-20T14:41:14.639Z"
   },
   {
    "duration": 160,
    "start_time": "2022-11-20T14:41:16.583Z"
   },
   {
    "duration": 8674,
    "start_time": "2022-11-20T14:41:16.744Z"
   },
   {
    "duration": 2135,
    "start_time": "2022-11-20T14:41:25.420Z"
   },
   {
    "duration": 3,
    "start_time": "2022-11-20T14:41:27.557Z"
   },
   {
    "duration": 59346,
    "start_time": "2022-11-20T14:41:27.561Z"
   },
   {
    "duration": 44,
    "start_time": "2022-11-20T14:42:26.908Z"
   },
   {
    "duration": 1575,
    "start_time": "2022-11-20T14:44:18.196Z"
   },
   {
    "duration": 759,
    "start_time": "2022-11-20T14:44:19.773Z"
   },
   {
    "duration": 14,
    "start_time": "2022-11-20T14:44:20.534Z"
   },
   {
    "duration": 10,
    "start_time": "2022-11-20T14:44:20.550Z"
   },
   {
    "duration": 44,
    "start_time": "2022-11-20T14:44:20.562Z"
   },
   {
    "duration": 1924,
    "start_time": "2022-11-20T14:44:20.607Z"
   },
   {
    "duration": 180,
    "start_time": "2022-11-20T14:44:22.533Z"
   },
   {
    "duration": 8639,
    "start_time": "2022-11-20T14:44:22.715Z"
   },
   {
    "duration": 2018,
    "start_time": "2022-11-20T14:44:31.355Z"
   },
   {
    "duration": 3,
    "start_time": "2022-11-20T14:44:33.374Z"
   },
   {
    "duration": 31111,
    "start_time": "2022-11-20T14:44:33.378Z"
   },
   {
    "duration": 50,
    "start_time": "2022-11-20T14:45:04.491Z"
   },
   {
    "duration": 1589,
    "start_time": "2022-11-20T14:46:27.551Z"
   },
   {
    "duration": 797,
    "start_time": "2022-11-20T14:46:29.142Z"
   },
   {
    "duration": 14,
    "start_time": "2022-11-20T14:46:29.941Z"
   },
   {
    "duration": 20,
    "start_time": "2022-11-20T14:46:29.957Z"
   },
   {
    "duration": 55,
    "start_time": "2022-11-20T14:46:29.978Z"
   },
   {
    "duration": 1944,
    "start_time": "2022-11-20T14:46:30.035Z"
   },
   {
    "duration": 229,
    "start_time": "2022-11-20T14:46:31.981Z"
   },
   {
    "duration": 8846,
    "start_time": "2022-11-20T14:46:32.212Z"
   },
   {
    "duration": 2072,
    "start_time": "2022-11-20T14:46:41.060Z"
   },
   {
    "duration": 2,
    "start_time": "2022-11-20T14:46:43.135Z"
   },
   {
    "duration": 79788,
    "start_time": "2022-11-20T14:46:43.139Z"
   },
   {
    "duration": 41,
    "start_time": "2022-11-20T14:48:02.928Z"
   },
   {
    "duration": 1748,
    "start_time": "2022-11-20T14:49:25.793Z"
   },
   {
    "duration": 921,
    "start_time": "2022-11-20T14:49:27.544Z"
   },
   {
    "duration": 16,
    "start_time": "2022-11-20T14:49:28.467Z"
   },
   {
    "duration": 8,
    "start_time": "2022-11-20T14:49:28.486Z"
   },
   {
    "duration": 32,
    "start_time": "2022-11-20T14:49:28.504Z"
   },
   {
    "duration": 2060,
    "start_time": "2022-11-20T14:49:28.537Z"
   },
   {
    "duration": 163,
    "start_time": "2022-11-20T14:49:30.606Z"
   },
   {
    "duration": 8852,
    "start_time": "2022-11-20T14:49:30.771Z"
   },
   {
    "duration": 2063,
    "start_time": "2022-11-20T14:49:39.625Z"
   },
   {
    "duration": 3,
    "start_time": "2022-11-20T14:49:41.690Z"
   },
   {
    "duration": 173716,
    "start_time": "2022-11-20T14:49:41.695Z"
   },
   {
    "duration": 41,
    "start_time": "2022-11-20T14:52:35.412Z"
   },
   {
    "duration": 1529,
    "start_time": "2022-11-20T14:53:25.001Z"
   },
   {
    "duration": 832,
    "start_time": "2022-11-20T14:53:26.531Z"
   },
   {
    "duration": 14,
    "start_time": "2022-11-20T14:53:27.365Z"
   },
   {
    "duration": 7,
    "start_time": "2022-11-20T14:53:27.381Z"
   },
   {
    "duration": 46,
    "start_time": "2022-11-20T14:53:27.390Z"
   },
   {
    "duration": 2110,
    "start_time": "2022-11-20T14:53:27.450Z"
   },
   {
    "duration": 167,
    "start_time": "2022-11-20T14:53:29.562Z"
   },
   {
    "duration": 8832,
    "start_time": "2022-11-20T14:53:29.732Z"
   },
   {
    "duration": 2013,
    "start_time": "2022-11-20T14:53:38.566Z"
   },
   {
    "duration": 3,
    "start_time": "2022-11-20T14:53:40.581Z"
   },
   {
    "duration": 81301,
    "start_time": "2022-11-20T14:53:40.585Z"
   },
   {
    "duration": 48,
    "start_time": "2022-11-20T14:55:01.887Z"
   },
   {
    "duration": 1553,
    "start_time": "2022-11-20T14:58:26.589Z"
   },
   {
    "duration": 817,
    "start_time": "2022-11-20T14:58:28.145Z"
   },
   {
    "duration": 16,
    "start_time": "2022-11-20T14:58:28.963Z"
   },
   {
    "duration": 7,
    "start_time": "2022-11-20T14:58:28.981Z"
   },
   {
    "duration": 34,
    "start_time": "2022-11-20T14:58:29.004Z"
   },
   {
    "duration": 4,
    "start_time": "2022-11-20T14:58:29.040Z"
   },
   {
    "duration": 162,
    "start_time": "2022-11-20T14:58:29.045Z"
   },
   {
    "duration": 0,
    "start_time": "2022-11-20T14:58:29.209Z"
   },
   {
    "duration": 0,
    "start_time": "2022-11-20T14:58:29.210Z"
   },
   {
    "duration": 0,
    "start_time": "2022-11-20T14:58:29.211Z"
   },
   {
    "duration": 0,
    "start_time": "2022-11-20T14:58:29.212Z"
   },
   {
    "duration": 0,
    "start_time": "2022-11-20T14:58:29.213Z"
   },
   {
    "duration": 0,
    "start_time": "2022-11-20T14:58:29.214Z"
   },
   {
    "duration": 0,
    "start_time": "2022-11-20T14:58:29.215Z"
   },
   {
    "duration": 1527,
    "start_time": "2022-11-20T14:59:03.393Z"
   },
   {
    "duration": 797,
    "start_time": "2022-11-20T14:59:04.923Z"
   },
   {
    "duration": 13,
    "start_time": "2022-11-20T14:59:05.722Z"
   },
   {
    "duration": 17,
    "start_time": "2022-11-20T14:59:05.737Z"
   },
   {
    "duration": 40,
    "start_time": "2022-11-20T14:59:05.756Z"
   },
   {
    "duration": 4,
    "start_time": "2022-11-20T14:59:05.798Z"
   },
   {
    "duration": 47,
    "start_time": "2022-11-20T14:59:05.803Z"
   },
   {
    "duration": 763,
    "start_time": "2022-11-20T14:59:05.851Z"
   },
   {
    "duration": 182,
    "start_time": "2022-11-20T14:59:06.616Z"
   },
   {
    "duration": 1669,
    "start_time": "2022-11-20T14:59:06.800Z"
   },
   {
    "duration": 1979,
    "start_time": "2022-11-20T14:59:08.471Z"
   },
   {
    "duration": 2,
    "start_time": "2022-11-20T14:59:10.452Z"
   },
   {
    "duration": 559,
    "start_time": "2022-11-20T14:59:10.456Z"
   },
   {
    "duration": 41,
    "start_time": "2022-11-20T14:59:11.017Z"
   },
   {
    "duration": 1459,
    "start_time": "2022-11-20T14:59:40.242Z"
   },
   {
    "duration": 793,
    "start_time": "2022-11-20T14:59:41.705Z"
   },
   {
    "duration": 15,
    "start_time": "2022-11-20T14:59:42.499Z"
   },
   {
    "duration": 25,
    "start_time": "2022-11-20T14:59:42.516Z"
   },
   {
    "duration": 37,
    "start_time": "2022-11-20T14:59:42.542Z"
   },
   {
    "duration": 4,
    "start_time": "2022-11-20T14:59:42.580Z"
   },
   {
    "duration": 50,
    "start_time": "2022-11-20T14:59:42.586Z"
   },
   {
    "duration": 734,
    "start_time": "2022-11-20T14:59:42.638Z"
   },
   {
    "duration": 70,
    "start_time": "2022-11-20T14:59:43.374Z"
   },
   {
    "duration": 0,
    "start_time": "2022-11-20T14:59:43.446Z"
   },
   {
    "duration": 0,
    "start_time": "2022-11-20T14:59:43.447Z"
   },
   {
    "duration": 0,
    "start_time": "2022-11-20T14:59:43.448Z"
   },
   {
    "duration": 0,
    "start_time": "2022-11-20T14:59:43.449Z"
   },
   {
    "duration": 0,
    "start_time": "2022-11-20T14:59:43.450Z"
   },
   {
    "duration": 1514,
    "start_time": "2022-11-20T14:59:57.696Z"
   },
   {
    "duration": 815,
    "start_time": "2022-11-20T14:59:59.212Z"
   },
   {
    "duration": 14,
    "start_time": "2022-11-20T15:00:00.029Z"
   },
   {
    "duration": 19,
    "start_time": "2022-11-20T15:00:00.045Z"
   },
   {
    "duration": 46,
    "start_time": "2022-11-20T15:00:00.066Z"
   },
   {
    "duration": 4,
    "start_time": "2022-11-20T15:00:00.113Z"
   },
   {
    "duration": 44,
    "start_time": "2022-11-20T15:00:00.119Z"
   },
   {
    "duration": 760,
    "start_time": "2022-11-20T15:00:00.165Z"
   },
   {
    "duration": 224,
    "start_time": "2022-11-20T15:00:00.927Z"
   },
   {
    "duration": 6211,
    "start_time": "2022-11-20T15:00:01.153Z"
   },
   {
    "duration": 3135,
    "start_time": "2022-11-20T15:00:07.366Z"
   },
   {
    "duration": 3,
    "start_time": "2022-11-20T15:00:10.505Z"
   },
   {
    "duration": 2761,
    "start_time": "2022-11-20T15:00:10.509Z"
   },
   {
    "duration": 53,
    "start_time": "2022-11-20T15:00:13.272Z"
   },
   {
    "duration": 1525,
    "start_time": "2022-11-20T15:02:38.351Z"
   },
   {
    "duration": 806,
    "start_time": "2022-11-20T15:02:39.878Z"
   },
   {
    "duration": 19,
    "start_time": "2022-11-20T15:02:40.686Z"
   },
   {
    "duration": 6,
    "start_time": "2022-11-20T15:02:40.706Z"
   },
   {
    "duration": 29,
    "start_time": "2022-11-20T15:02:40.713Z"
   },
   {
    "duration": 5,
    "start_time": "2022-11-20T15:02:40.744Z"
   },
   {
    "duration": 56,
    "start_time": "2022-11-20T15:02:40.751Z"
   },
   {
    "duration": 763,
    "start_time": "2022-11-20T15:02:40.808Z"
   },
   {
    "duration": 228,
    "start_time": "2022-11-20T15:02:41.573Z"
   },
   {
    "duration": 10750,
    "start_time": "2022-11-20T15:02:41.803Z"
   },
   {
    "duration": 6739,
    "start_time": "2022-11-20T15:02:52.554Z"
   },
   {
    "duration": 9,
    "start_time": "2022-11-20T15:02:59.295Z"
   },
   {
    "duration": 4658,
    "start_time": "2022-11-20T15:02:59.305Z"
   },
   {
    "duration": 68,
    "start_time": "2022-11-20T15:03:03.965Z"
   },
   {
    "duration": 4,
    "start_time": "2022-11-20T15:03:25.257Z"
   },
   {
    "duration": 3,
    "start_time": "2022-11-20T15:03:47.958Z"
   },
   {
    "duration": 5,
    "start_time": "2022-11-20T15:04:15.761Z"
   },
   {
    "duration": 1549,
    "start_time": "2022-11-20T15:04:27.407Z"
   },
   {
    "duration": 801,
    "start_time": "2022-11-20T15:04:28.958Z"
   },
   {
    "duration": 14,
    "start_time": "2022-11-20T15:04:29.761Z"
   },
   {
    "duration": 6,
    "start_time": "2022-11-20T15:04:29.776Z"
   },
   {
    "duration": 48,
    "start_time": "2022-11-20T15:04:29.784Z"
   },
   {
    "duration": 4,
    "start_time": "2022-11-20T15:04:29.834Z"
   },
   {
    "duration": 44,
    "start_time": "2022-11-20T15:04:29.839Z"
   },
   {
    "duration": 3,
    "start_time": "2022-11-20T15:04:29.885Z"
   },
   {
    "duration": 5,
    "start_time": "2022-11-20T15:04:29.904Z"
   },
   {
    "duration": 915,
    "start_time": "2022-11-20T15:04:29.911Z"
   },
   {
    "duration": 152,
    "start_time": "2022-11-20T15:04:30.827Z"
   },
   {
    "duration": 17107,
    "start_time": "2022-11-20T15:04:30.981Z"
   },
   {
    "duration": 7371,
    "start_time": "2022-11-20T15:04:48.090Z"
   },
   {
    "duration": 3,
    "start_time": "2022-11-20T15:04:55.464Z"
   },
   {
    "duration": 8141,
    "start_time": "2022-11-20T15:04:55.469Z"
   },
   {
    "duration": 60,
    "start_time": "2022-11-20T15:05:03.611Z"
   },
   {
    "duration": 3,
    "start_time": "2022-11-20T15:05:24.698Z"
   },
   {
    "duration": 8842,
    "start_time": "2022-11-20T15:05:25.754Z"
   },
   {
    "duration": 65,
    "start_time": "2022-11-20T15:05:35.885Z"
   },
   {
    "duration": 198,
    "start_time": "2022-11-20T15:05:53.907Z"
   },
   {
    "duration": 7630,
    "start_time": "2022-11-20T15:05:55.170Z"
   },
   {
    "duration": 4541,
    "start_time": "2022-11-20T15:06:04.650Z"
   },
   {
    "duration": 3,
    "start_time": "2022-11-20T15:06:29.011Z"
   },
   {
    "duration": 3745,
    "start_time": "2022-11-20T15:06:29.711Z"
   },
   {
    "duration": 51,
    "start_time": "2022-11-20T15:06:34.755Z"
   },
   {
    "duration": 17,
    "start_time": "2022-11-20T15:06:44.601Z"
   },
   {
    "duration": 3,
    "start_time": "2022-11-20T15:06:45.652Z"
   },
   {
    "duration": 1559,
    "start_time": "2022-11-20T15:07:02.371Z"
   },
   {
    "duration": 806,
    "start_time": "2022-11-20T15:07:03.932Z"
   },
   {
    "duration": 14,
    "start_time": "2022-11-20T15:07:04.740Z"
   },
   {
    "duration": 6,
    "start_time": "2022-11-20T15:07:04.756Z"
   },
   {
    "duration": 52,
    "start_time": "2022-11-20T15:07:04.764Z"
   },
   {
    "duration": 4,
    "start_time": "2022-11-20T15:07:04.818Z"
   },
   {
    "duration": 46,
    "start_time": "2022-11-20T15:07:04.824Z"
   },
   {
    "duration": 3,
    "start_time": "2022-11-20T15:07:04.872Z"
   },
   {
    "duration": 7,
    "start_time": "2022-11-20T15:07:04.877Z"
   },
   {
    "duration": 1069,
    "start_time": "2022-11-20T15:07:04.886Z"
   },
   {
    "duration": 170,
    "start_time": "2022-11-20T15:07:05.957Z"
   },
   {
    "duration": 10385,
    "start_time": "2022-11-20T15:07:06.129Z"
   },
   {
    "duration": 4688,
    "start_time": "2022-11-20T15:07:16.516Z"
   },
   {
    "duration": 3,
    "start_time": "2022-11-20T15:07:21.207Z"
   },
   {
    "duration": 5757,
    "start_time": "2022-11-20T15:07:21.211Z"
   },
   {
    "duration": 57,
    "start_time": "2022-11-20T15:07:26.970Z"
   },
   {
    "duration": 1573,
    "start_time": "2022-11-20T15:07:48.975Z"
   },
   {
    "duration": 816,
    "start_time": "2022-11-20T15:07:50.549Z"
   },
   {
    "duration": 14,
    "start_time": "2022-11-20T15:07:51.366Z"
   },
   {
    "duration": 5,
    "start_time": "2022-11-20T15:07:51.381Z"
   },
   {
    "duration": 44,
    "start_time": "2022-11-20T15:07:51.388Z"
   },
   {
    "duration": 4,
    "start_time": "2022-11-20T15:07:51.434Z"
   },
   {
    "duration": 49,
    "start_time": "2022-11-20T15:07:51.439Z"
   },
   {
    "duration": 3,
    "start_time": "2022-11-20T15:07:51.489Z"
   },
   {
    "duration": 9,
    "start_time": "2022-11-20T15:07:51.504Z"
   },
   {
    "duration": 1040,
    "start_time": "2022-11-20T15:07:51.514Z"
   },
   {
    "duration": 233,
    "start_time": "2022-11-20T15:07:52.556Z"
   },
   {
    "duration": 23735,
    "start_time": "2022-11-20T15:07:52.790Z"
   },
   {
    "duration": 7453,
    "start_time": "2022-11-20T15:08:16.526Z"
   },
   {
    "duration": 3,
    "start_time": "2022-11-20T15:08:23.981Z"
   },
   {
    "duration": 10342,
    "start_time": "2022-11-20T15:08:23.985Z"
   },
   {
    "duration": 63,
    "start_time": "2022-11-20T15:08:34.329Z"
   },
   {
    "duration": 1488,
    "start_time": "2022-11-20T15:08:54.716Z"
   },
   {
    "duration": 827,
    "start_time": "2022-11-20T15:08:56.206Z"
   },
   {
    "duration": 14,
    "start_time": "2022-11-20T15:08:57.035Z"
   },
   {
    "duration": 24,
    "start_time": "2022-11-20T15:08:57.051Z"
   },
   {
    "duration": 36,
    "start_time": "2022-11-20T15:08:57.077Z"
   },
   {
    "duration": 4,
    "start_time": "2022-11-20T15:08:57.115Z"
   },
   {
    "duration": 5,
    "start_time": "2022-11-20T15:08:57.121Z"
   },
   {
    "duration": 25,
    "start_time": "2022-11-20T15:08:57.127Z"
   },
   {
    "duration": 19,
    "start_time": "2022-11-20T15:08:57.154Z"
   },
   {
    "duration": 2130,
    "start_time": "2022-11-20T15:08:57.175Z"
   },
   {
    "duration": 190,
    "start_time": "2022-11-20T15:08:59.307Z"
   },
   {
    "duration": 1580,
    "start_time": "2022-11-20T15:09:44.873Z"
   },
   {
    "duration": 3255,
    "start_time": "2022-11-20T15:09:46.455Z"
   },
   {
    "duration": 16,
    "start_time": "2022-11-20T15:09:49.711Z"
   },
   {
    "duration": 7,
    "start_time": "2022-11-20T15:09:49.729Z"
   },
   {
    "duration": 32,
    "start_time": "2022-11-20T15:09:49.738Z"
   },
   {
    "duration": 4,
    "start_time": "2022-11-20T15:09:49.771Z"
   },
   {
    "duration": 4,
    "start_time": "2022-11-20T15:09:49.777Z"
   },
   {
    "duration": 22,
    "start_time": "2022-11-20T15:09:49.783Z"
   },
   {
    "duration": 17,
    "start_time": "2022-11-20T15:09:49.806Z"
   },
   {
    "duration": 2064,
    "start_time": "2022-11-20T15:09:49.825Z"
   },
   {
    "duration": 250,
    "start_time": "2022-11-20T15:09:51.890Z"
   },
   {
    "duration": 8593,
    "start_time": "2022-11-20T15:09:52.142Z"
   },
   {
    "duration": 2036,
    "start_time": "2022-11-20T15:10:00.737Z"
   },
   {
    "duration": 3,
    "start_time": "2022-11-20T15:10:02.775Z"
   },
   {
    "duration": 77589,
    "start_time": "2022-11-20T15:10:02.779Z"
   },
   {
    "duration": 43,
    "start_time": "2022-11-20T15:11:20.370Z"
   },
   {
    "duration": 4,
    "start_time": "2022-11-20T15:13:36.781Z"
   },
   {
    "duration": 4,
    "start_time": "2022-11-20T15:14:54.524Z"
   },
   {
    "duration": 147881,
    "start_time": "2022-11-20T15:16:02.670Z"
   },
   {
    "duration": 5,
    "start_time": "2022-11-20T15:20:45.847Z"
   },
   {
    "duration": 140,
    "start_time": "2022-11-20T15:21:37.352Z"
   },
   {
    "duration": 6,
    "start_time": "2022-11-20T15:22:00.017Z"
   },
   {
    "duration": 6,
    "start_time": "2022-11-20T15:33:42.252Z"
   },
   {
    "duration": 3,
    "start_time": "2022-11-20T15:35:54.744Z"
   },
   {
    "duration": 3,
    "start_time": "2022-11-20T15:39:36.535Z"
   },
   {
    "duration": 449961,
    "start_time": "2022-11-20T15:39:43.047Z"
   },
   {
    "duration": 5,
    "start_time": "2022-11-20T15:47:57.665Z"
   },
   {
    "duration": 222863,
    "start_time": "2022-11-20T15:48:36.970Z"
   },
   {
    "duration": 257,
    "start_time": "2022-11-20T15:54:10.772Z"
   },
   {
    "duration": 3,
    "start_time": "2022-11-20T15:55:46.901Z"
   },
   {
    "duration": 1492,
    "start_time": "2022-11-20T15:56:51.652Z"
   },
   {
    "duration": 3196,
    "start_time": "2022-11-20T15:56:53.146Z"
   },
   {
    "duration": 16,
    "start_time": "2022-11-20T15:56:56.343Z"
   },
   {
    "duration": 7,
    "start_time": "2022-11-20T15:56:56.361Z"
   },
   {
    "duration": 44,
    "start_time": "2022-11-20T15:56:56.371Z"
   },
   {
    "duration": 4,
    "start_time": "2022-11-20T15:56:56.417Z"
   },
   {
    "duration": 5,
    "start_time": "2022-11-20T15:56:56.423Z"
   },
   {
    "duration": 6,
    "start_time": "2022-11-20T15:56:56.430Z"
   },
   {
    "duration": 8,
    "start_time": "2022-11-20T15:56:56.437Z"
   },
   {
    "duration": 2145,
    "start_time": "2022-11-20T15:56:56.447Z"
   },
   {
    "duration": 203,
    "start_time": "2022-11-20T15:56:58.594Z"
   },
   {
    "duration": 8738,
    "start_time": "2022-11-20T15:56:58.799Z"
   },
   {
    "duration": 2107,
    "start_time": "2022-11-20T15:57:07.538Z"
   },
   {
    "duration": 3,
    "start_time": "2022-11-20T15:57:09.647Z"
   },
   {
    "duration": 6,
    "start_time": "2022-11-20T15:57:09.651Z"
   },
   {
    "duration": 4,
    "start_time": "2022-11-20T15:57:09.659Z"
   },
   {
    "duration": 10,
    "start_time": "2022-11-20T15:57:09.664Z"
   },
   {
    "duration": 7,
    "start_time": "2022-11-20T15:57:09.676Z"
   },
   {
    "duration": 8,
    "start_time": "2022-11-20T15:57:09.684Z"
   },
   {
    "duration": 1522,
    "start_time": "2022-11-20T15:59:50.502Z"
   },
   {
    "duration": 3224,
    "start_time": "2022-11-20T15:59:52.025Z"
   },
   {
    "duration": 15,
    "start_time": "2022-11-20T15:59:55.250Z"
   },
   {
    "duration": 8,
    "start_time": "2022-11-20T15:59:55.267Z"
   },
   {
    "duration": 53,
    "start_time": "2022-11-20T15:59:55.277Z"
   },
   {
    "duration": 5,
    "start_time": "2022-11-20T15:59:55.333Z"
   },
   {
    "duration": 12,
    "start_time": "2022-11-20T15:59:55.340Z"
   },
   {
    "duration": 7,
    "start_time": "2022-11-20T15:59:55.353Z"
   },
   {
    "duration": 10,
    "start_time": "2022-11-20T15:59:55.361Z"
   },
   {
    "duration": 2072,
    "start_time": "2022-11-20T15:59:55.373Z"
   },
   {
    "duration": 270,
    "start_time": "2022-11-20T15:59:57.447Z"
   },
   {
    "duration": 8691,
    "start_time": "2022-11-20T15:59:57.719Z"
   },
   {
    "duration": 2093,
    "start_time": "2022-11-20T16:00:06.412Z"
   },
   {
    "duration": 3,
    "start_time": "2022-11-20T16:00:08.507Z"
   },
   {
    "duration": 11,
    "start_time": "2022-11-20T16:00:08.511Z"
   },
   {
    "duration": 16,
    "start_time": "2022-11-20T16:00:08.524Z"
   },
   {
    "duration": 12,
    "start_time": "2022-11-20T16:00:08.542Z"
   },
   {
    "duration": 13,
    "start_time": "2022-11-20T16:00:08.556Z"
   },
   {
    "duration": 13,
    "start_time": "2022-11-20T16:00:08.571Z"
   },
   {
    "duration": 1584,
    "start_time": "2022-11-20T16:17:55.499Z"
   },
   {
    "duration": 1541,
    "start_time": "2022-11-20T16:18:20.284Z"
   },
   {
    "duration": 3170,
    "start_time": "2022-11-20T16:18:21.826Z"
   },
   {
    "duration": 15,
    "start_time": "2022-11-20T16:18:24.998Z"
   },
   {
    "duration": 23,
    "start_time": "2022-11-20T16:18:25.015Z"
   },
   {
    "duration": 48,
    "start_time": "2022-11-20T16:18:25.040Z"
   },
   {
    "duration": 4,
    "start_time": "2022-11-20T16:18:25.090Z"
   },
   {
    "duration": 14,
    "start_time": "2022-11-20T16:18:25.095Z"
   },
   {
    "duration": 18,
    "start_time": "2022-11-20T16:18:25.111Z"
   },
   {
    "duration": 16,
    "start_time": "2022-11-20T16:18:25.130Z"
   },
   {
    "duration": 2005,
    "start_time": "2022-11-20T16:18:25.149Z"
   },
   {
    "duration": 181,
    "start_time": "2022-11-20T16:18:27.155Z"
   },
   {
    "duration": 8496,
    "start_time": "2022-11-20T16:18:27.337Z"
   },
   {
    "duration": 2025,
    "start_time": "2022-11-20T16:18:35.835Z"
   },
   {
    "duration": 3,
    "start_time": "2022-11-20T16:18:37.862Z"
   },
   {
    "duration": 7,
    "start_time": "2022-11-20T16:18:37.866Z"
   },
   {
    "duration": 6,
    "start_time": "2022-11-20T16:18:37.874Z"
   },
   {
    "duration": 5,
    "start_time": "2022-11-20T16:18:37.881Z"
   },
   {
    "duration": 17,
    "start_time": "2022-11-20T16:18:37.887Z"
   },
   {
    "duration": 122,
    "start_time": "2022-11-20T16:18:37.906Z"
   },
   {
    "duration": 0,
    "start_time": "2022-11-20T16:18:38.029Z"
   },
   {
    "duration": 0,
    "start_time": "2022-11-20T16:18:38.031Z"
   },
   {
    "duration": 0,
    "start_time": "2022-11-20T16:18:38.032Z"
   },
   {
    "duration": 0,
    "start_time": "2022-11-20T16:18:38.033Z"
   },
   {
    "duration": 351851,
    "start_time": "2022-11-20T16:20:26.077Z"
   },
   {
    "duration": 98,
    "start_time": "2022-11-20T16:26:36.399Z"
   },
   {
    "duration": 11,
    "start_time": "2022-11-20T16:26:58.670Z"
   },
   {
    "duration": 6,
    "start_time": "2022-11-20T16:27:02.878Z"
   },
   {
    "duration": 3,
    "start_time": "2022-11-20T16:27:16.854Z"
   },
   {
    "duration": 56,
    "start_time": "2022-11-20T16:27:29.020Z"
   },
   {
    "duration": 44,
    "start_time": "2022-11-20T16:27:49.951Z"
   },
   {
    "duration": 5,
    "start_time": "2022-11-20T16:28:36.838Z"
   },
   {
    "duration": 3,
    "start_time": "2022-11-20T16:31:53.089Z"
   },
   {
    "duration": 3,
    "start_time": "2022-11-20T16:32:02.912Z"
   },
   {
    "duration": 57,
    "start_time": "2022-11-20T16:32:04.026Z"
   },
   {
    "duration": 46,
    "start_time": "2022-11-20T16:32:05.760Z"
   },
   {
    "duration": 4,
    "start_time": "2022-11-20T16:33:13.360Z"
   },
   {
    "duration": 3,
    "start_time": "2022-11-20T16:33:20.943Z"
   },
   {
    "duration": 58,
    "start_time": "2022-11-20T16:33:22.014Z"
   },
   {
    "duration": 46,
    "start_time": "2022-11-20T16:33:23.008Z"
   },
   {
    "duration": 4,
    "start_time": "2022-11-20T16:38:36.218Z"
   },
   {
    "duration": 3,
    "start_time": "2022-11-20T16:38:52.401Z"
   },
   {
    "duration": 46,
    "start_time": "2022-11-20T16:39:00.394Z"
   },
   {
    "duration": 1456,
    "start_time": "2022-11-20T16:40:34.629Z"
   },
   {
    "duration": 1472,
    "start_time": "2022-11-20T16:40:40.403Z"
   },
   {
    "duration": 0,
    "start_time": "2022-11-20T16:40:41.877Z"
   },
   {
    "duration": 0,
    "start_time": "2022-11-20T16:40:41.878Z"
   },
   {
    "duration": 0,
    "start_time": "2022-11-20T16:40:41.880Z"
   },
   {
    "duration": 0,
    "start_time": "2022-11-20T16:40:41.881Z"
   },
   {
    "duration": 0,
    "start_time": "2022-11-20T16:40:41.882Z"
   },
   {
    "duration": 0,
    "start_time": "2022-11-20T16:40:41.883Z"
   },
   {
    "duration": 0,
    "start_time": "2022-11-20T16:40:41.884Z"
   },
   {
    "duration": 0,
    "start_time": "2022-11-20T16:40:41.885Z"
   },
   {
    "duration": 0,
    "start_time": "2022-11-20T16:40:41.886Z"
   },
   {
    "duration": 0,
    "start_time": "2022-11-20T16:40:41.887Z"
   },
   {
    "duration": 0,
    "start_time": "2022-11-20T16:40:41.888Z"
   },
   {
    "duration": 0,
    "start_time": "2022-11-20T16:40:41.905Z"
   },
   {
    "duration": 0,
    "start_time": "2022-11-20T16:40:41.905Z"
   },
   {
    "duration": 0,
    "start_time": "2022-11-20T16:40:41.907Z"
   },
   {
    "duration": 0,
    "start_time": "2022-11-20T16:40:41.907Z"
   },
   {
    "duration": 0,
    "start_time": "2022-11-20T16:40:41.908Z"
   },
   {
    "duration": 0,
    "start_time": "2022-11-20T16:40:41.909Z"
   },
   {
    "duration": 0,
    "start_time": "2022-11-20T16:40:41.910Z"
   },
   {
    "duration": 0,
    "start_time": "2022-11-20T16:40:41.912Z"
   },
   {
    "duration": 0,
    "start_time": "2022-11-20T16:40:41.912Z"
   },
   {
    "duration": 0,
    "start_time": "2022-11-20T16:40:41.913Z"
   },
   {
    "duration": 0,
    "start_time": "2022-11-20T16:40:41.914Z"
   },
   {
    "duration": 0,
    "start_time": "2022-11-20T16:40:41.915Z"
   },
   {
    "duration": 0,
    "start_time": "2022-11-20T16:40:41.916Z"
   },
   {
    "duration": 0,
    "start_time": "2022-11-20T16:40:41.917Z"
   },
   {
    "duration": 0,
    "start_time": "2022-11-20T16:40:41.919Z"
   },
   {
    "duration": 0,
    "start_time": "2022-11-20T16:40:41.920Z"
   },
   {
    "duration": 0,
    "start_time": "2022-11-20T16:40:41.921Z"
   },
   {
    "duration": 9,
    "start_time": "2022-11-20T16:43:00.533Z"
   },
   {
    "duration": 1534,
    "start_time": "2022-11-20T16:43:12.075Z"
   },
   {
    "duration": 0,
    "start_time": "2022-11-20T16:43:13.612Z"
   },
   {
    "duration": 0,
    "start_time": "2022-11-20T16:43:13.613Z"
   },
   {
    "duration": 0,
    "start_time": "2022-11-20T16:43:13.614Z"
   },
   {
    "duration": 0,
    "start_time": "2022-11-20T16:43:13.615Z"
   },
   {
    "duration": 0,
    "start_time": "2022-11-20T16:43:13.616Z"
   },
   {
    "duration": 0,
    "start_time": "2022-11-20T16:43:13.617Z"
   },
   {
    "duration": 0,
    "start_time": "2022-11-20T16:43:13.618Z"
   },
   {
    "duration": 0,
    "start_time": "2022-11-20T16:43:13.619Z"
   },
   {
    "duration": 0,
    "start_time": "2022-11-20T16:43:13.620Z"
   },
   {
    "duration": 0,
    "start_time": "2022-11-20T16:43:13.621Z"
   },
   {
    "duration": 0,
    "start_time": "2022-11-20T16:43:13.622Z"
   },
   {
    "duration": 0,
    "start_time": "2022-11-20T16:43:13.623Z"
   },
   {
    "duration": 0,
    "start_time": "2022-11-20T16:43:13.624Z"
   },
   {
    "duration": 0,
    "start_time": "2022-11-20T16:43:13.625Z"
   },
   {
    "duration": 0,
    "start_time": "2022-11-20T16:43:13.626Z"
   },
   {
    "duration": 0,
    "start_time": "2022-11-20T16:43:13.627Z"
   },
   {
    "duration": 0,
    "start_time": "2022-11-20T16:43:13.628Z"
   },
   {
    "duration": 0,
    "start_time": "2022-11-20T16:43:13.629Z"
   },
   {
    "duration": 0,
    "start_time": "2022-11-20T16:43:13.630Z"
   },
   {
    "duration": 0,
    "start_time": "2022-11-20T16:43:13.631Z"
   },
   {
    "duration": 0,
    "start_time": "2022-11-20T16:43:13.633Z"
   },
   {
    "duration": 0,
    "start_time": "2022-11-20T16:43:13.634Z"
   },
   {
    "duration": 0,
    "start_time": "2022-11-20T16:43:13.636Z"
   },
   {
    "duration": 0,
    "start_time": "2022-11-20T16:43:13.637Z"
   },
   {
    "duration": 0,
    "start_time": "2022-11-20T16:43:13.638Z"
   },
   {
    "duration": 0,
    "start_time": "2022-11-20T16:43:13.640Z"
   },
   {
    "duration": 0,
    "start_time": "2022-11-20T16:43:13.641Z"
   },
   {
    "duration": 0,
    "start_time": "2022-11-20T16:43:13.642Z"
   },
   {
    "duration": 0,
    "start_time": "2022-11-20T16:43:13.644Z"
   },
   {
    "duration": 170,
    "start_time": "2022-11-20T16:44:04.038Z"
   },
   {
    "duration": 1545,
    "start_time": "2022-11-20T16:44:23.401Z"
   },
   {
    "duration": 3233,
    "start_time": "2022-11-20T16:44:24.948Z"
   },
   {
    "duration": 17,
    "start_time": "2022-11-20T16:44:28.183Z"
   },
   {
    "duration": 35,
    "start_time": "2022-11-20T16:44:28.202Z"
   },
   {
    "duration": 75,
    "start_time": "2022-11-20T16:44:28.239Z"
   },
   {
    "duration": 13,
    "start_time": "2022-11-20T16:44:28.316Z"
   },
   {
    "duration": 58,
    "start_time": "2022-11-20T16:44:28.330Z"
   },
   {
    "duration": 57,
    "start_time": "2022-11-20T16:44:28.390Z"
   },
   {
    "duration": 50,
    "start_time": "2022-11-20T16:44:28.449Z"
   },
   {
    "duration": 2030,
    "start_time": "2022-11-20T16:44:28.501Z"
   },
   {
    "duration": 198,
    "start_time": "2022-11-20T16:44:30.533Z"
   },
   {
    "duration": 8493,
    "start_time": "2022-11-20T16:44:30.732Z"
   },
   {
    "duration": 2018,
    "start_time": "2022-11-20T16:44:39.227Z"
   },
   {
    "duration": 3,
    "start_time": "2022-11-20T16:44:41.247Z"
   },
   {
    "duration": 85,
    "start_time": "2022-11-20T16:44:41.252Z"
   },
   {
    "duration": 44,
    "start_time": "2022-11-20T16:44:41.339Z"
   },
   {
    "duration": 40,
    "start_time": "2022-11-20T16:44:41.385Z"
   },
   {
    "duration": 79,
    "start_time": "2022-11-20T16:44:41.427Z"
   },
   {
    "duration": 44,
    "start_time": "2022-11-20T16:44:41.508Z"
   },
   {
    "duration": 128,
    "start_time": "2022-11-20T16:44:41.553Z"
   },
   {
    "duration": 0,
    "start_time": "2022-11-20T16:44:41.682Z"
   },
   {
    "duration": 0,
    "start_time": "2022-11-20T16:44:41.684Z"
   },
   {
    "duration": 0,
    "start_time": "2022-11-20T16:44:41.685Z"
   },
   {
    "duration": 0,
    "start_time": "2022-11-20T16:44:41.686Z"
   },
   {
    "duration": 0,
    "start_time": "2022-11-20T16:44:41.687Z"
   },
   {
    "duration": 0,
    "start_time": "2022-11-20T16:44:41.687Z"
   },
   {
    "duration": 0,
    "start_time": "2022-11-20T16:44:41.688Z"
   },
   {
    "duration": 0,
    "start_time": "2022-11-20T16:44:41.690Z"
   },
   {
    "duration": 0,
    "start_time": "2022-11-20T16:44:41.690Z"
   },
   {
    "duration": 0,
    "start_time": "2022-11-20T16:44:41.704Z"
   },
   {
    "duration": 4,
    "start_time": "2022-11-20T16:44:48.812Z"
   },
   {
    "duration": 501,
    "start_time": "2022-11-20T16:44:51.445Z"
   },
   {
    "duration": 40,
    "start_time": "2022-11-20T16:44:54.388Z"
   },
   {
    "duration": 3,
    "start_time": "2022-11-20T16:55:44.040Z"
   },
   {
    "duration": 57,
    "start_time": "2022-11-20T16:55:45.400Z"
   },
   {
    "duration": 53,
    "start_time": "2022-11-20T16:55:46.503Z"
   },
   {
    "duration": 2,
    "start_time": "2022-11-20T16:56:28.000Z"
   },
   {
    "duration": 54,
    "start_time": "2022-11-20T16:56:31.136Z"
   },
   {
    "duration": 47,
    "start_time": "2022-11-20T16:56:32.840Z"
   },
   {
    "duration": 3,
    "start_time": "2022-11-20T16:59:53.920Z"
   },
   {
    "duration": 535,
    "start_time": "2022-11-20T16:59:58.681Z"
   },
   {
    "duration": 41,
    "start_time": "2022-11-20T17:00:01.305Z"
   },
   {
    "duration": 3,
    "start_time": "2022-11-20T17:03:35.345Z"
   },
   {
    "duration": 68,
    "start_time": "2022-11-20T17:03:36.144Z"
   },
   {
    "duration": 41,
    "start_time": "2022-11-20T17:03:37.201Z"
   },
   {
    "duration": 3,
    "start_time": "2022-11-20T17:03:44.544Z"
   },
   {
    "duration": 61,
    "start_time": "2022-11-20T17:03:45.432Z"
   },
   {
    "duration": 51,
    "start_time": "2022-11-20T17:03:46.241Z"
   },
   {
    "duration": 3,
    "start_time": "2022-11-20T17:03:50.625Z"
   },
   {
    "duration": 67,
    "start_time": "2022-11-20T17:03:51.425Z"
   },
   {
    "duration": 47,
    "start_time": "2022-11-20T17:03:53.762Z"
   },
   {
    "duration": 2,
    "start_time": "2022-11-20T17:03:56.898Z"
   },
   {
    "duration": 63,
    "start_time": "2022-11-20T17:03:57.600Z"
   },
   {
    "duration": 56,
    "start_time": "2022-11-20T17:03:58.464Z"
   },
   {
    "duration": 3,
    "start_time": "2022-11-20T17:04:02.057Z"
   },
   {
    "duration": 3,
    "start_time": "2022-11-20T17:04:04.272Z"
   },
   {
    "duration": 62,
    "start_time": "2022-11-20T17:04:04.976Z"
   },
   {
    "duration": 49,
    "start_time": "2022-11-20T17:04:05.672Z"
   },
   {
    "duration": 3,
    "start_time": "2022-11-20T17:04:08.688Z"
   },
   {
    "duration": 59,
    "start_time": "2022-11-20T17:04:10.168Z"
   },
   {
    "duration": 48,
    "start_time": "2022-11-20T17:04:12.008Z"
   },
   {
    "duration": 3,
    "start_time": "2022-11-20T17:04:17.899Z"
   },
   {
    "duration": 12,
    "start_time": "2022-11-20T17:04:18.776Z"
   },
   {
    "duration": 57,
    "start_time": "2022-11-20T17:04:19.585Z"
   },
   {
    "duration": 46,
    "start_time": "2022-11-20T17:04:20.673Z"
   },
   {
    "duration": 3,
    "start_time": "2022-11-20T17:04:24.867Z"
   },
   {
    "duration": 63,
    "start_time": "2022-11-20T17:04:26.168Z"
   },
   {
    "duration": 45,
    "start_time": "2022-11-20T17:04:27.809Z"
   },
   {
    "duration": 3,
    "start_time": "2022-11-20T17:04:30.570Z"
   },
   {
    "duration": 61,
    "start_time": "2022-11-20T17:04:31.345Z"
   },
   {
    "duration": 45,
    "start_time": "2022-11-20T17:04:31.901Z"
   },
   {
    "duration": 2,
    "start_time": "2022-11-20T17:05:49.937Z"
   },
   {
    "duration": 574,
    "start_time": "2022-11-20T17:05:50.706Z"
   },
   {
    "duration": 39,
    "start_time": "2022-11-20T17:05:52.737Z"
   },
   {
    "duration": 3,
    "start_time": "2022-11-20T17:06:20.250Z"
   },
   {
    "duration": 53997,
    "start_time": "2022-11-20T17:06:21.185Z"
   },
   {
    "duration": 47,
    "start_time": "2022-11-20T17:07:21.466Z"
   },
   {
    "duration": 3,
    "start_time": "2022-11-20T17:08:36.626Z"
   },
   {
    "duration": 1287,
    "start_time": "2022-11-20T17:08:37.618Z"
   },
   {
    "duration": 41,
    "start_time": "2022-11-20T17:08:40.426Z"
   },
   {
    "duration": 3,
    "start_time": "2022-11-20T17:09:16.122Z"
   },
   {
    "duration": 52483,
    "start_time": "2022-11-20T17:09:17.185Z"
   },
   {
    "duration": 49,
    "start_time": "2022-11-20T17:10:15.657Z"
   },
   {
    "duration": 3,
    "start_time": "2022-11-20T17:10:21.515Z"
   },
   {
    "duration": 43276,
    "start_time": "2022-11-20T17:10:22.651Z"
   },
   {
    "duration": 43,
    "start_time": "2022-11-20T17:11:15.652Z"
   },
   {
    "duration": 3,
    "start_time": "2022-11-20T17:12:48.781Z"
   },
   {
    "duration": 117129,
    "start_time": "2022-11-20T17:12:49.611Z"
   },
   {
    "duration": 44,
    "start_time": "2022-11-20T17:18:03.797Z"
   },
   {
    "duration": 3,
    "start_time": "2022-11-20T17:18:17.069Z"
   },
   {
    "duration": 85369,
    "start_time": "2022-11-20T17:18:18.176Z"
   },
   {
    "duration": 46,
    "start_time": "2022-11-20T17:20:08.110Z"
   },
   {
    "duration": 2,
    "start_time": "2022-11-20T17:20:14.062Z"
   },
   {
    "duration": 216509,
    "start_time": "2022-11-20T17:20:14.766Z"
   },
   {
    "duration": 29,
    "start_time": "2022-11-20T17:23:51.276Z"
   },
   {
    "duration": 42,
    "start_time": "2022-11-20T17:23:57.856Z"
   },
   {
    "duration": 8470,
    "start_time": "2022-11-20T17:24:13.655Z"
   },
   {
    "duration": 2016,
    "start_time": "2022-11-20T17:24:23.081Z"
   },
   {
    "duration": 3,
    "start_time": "2022-11-20T17:24:28.199Z"
   },
   {
    "duration": 143850,
    "start_time": "2022-11-20T17:24:38.647Z"
   },
   {
    "duration": 38,
    "start_time": "2022-11-20T17:27:49.808Z"
   },
   {
    "duration": 3,
    "start_time": "2022-11-20T17:28:32.977Z"
   },
   {
    "duration": 2,
    "start_time": "2022-11-20T17:28:39.050Z"
   },
   {
    "duration": 53,
    "start_time": "2022-11-20T17:28:40.376Z"
   },
   {
    "duration": 48,
    "start_time": "2022-11-20T17:28:41.530Z"
   },
   {
    "duration": 81451,
    "start_time": "2022-11-20T17:28:46.345Z"
   },
   {
    "duration": 42,
    "start_time": "2022-11-20T17:40:34.815Z"
   },
   {
    "duration": 6,
    "start_time": "2022-11-20T17:47:45.081Z"
   },
   {
    "duration": 3,
    "start_time": "2022-11-20T17:52:10.857Z"
   },
   {
    "duration": 9,
    "start_time": "2022-11-20T17:52:21.835Z"
   },
   {
    "duration": 1644,
    "start_time": "2022-11-20T18:15:04.526Z"
   },
   {
    "duration": 879,
    "start_time": "2022-11-20T18:15:06.172Z"
   },
   {
    "duration": 14,
    "start_time": "2022-11-20T18:15:07.053Z"
   },
   {
    "duration": 13,
    "start_time": "2022-11-20T18:15:07.069Z"
   },
   {
    "duration": 37,
    "start_time": "2022-11-20T18:15:07.084Z"
   },
   {
    "duration": 3,
    "start_time": "2022-11-20T18:15:07.123Z"
   },
   {
    "duration": 25,
    "start_time": "2022-11-20T18:15:07.127Z"
   },
   {
    "duration": 13,
    "start_time": "2022-11-20T18:15:07.154Z"
   },
   {
    "duration": 14,
    "start_time": "2022-11-20T18:15:07.169Z"
   },
   {
    "duration": 14,
    "start_time": "2022-11-20T18:15:07.184Z"
   },
   {
    "duration": 10,
    "start_time": "2022-11-20T18:15:07.200Z"
   },
   {
    "duration": 3430,
    "start_time": "2022-11-20T18:15:07.211Z"
   },
   {
    "duration": 137,
    "start_time": "2022-11-20T18:15:10.644Z"
   },
   {
    "duration": 0,
    "start_time": "2022-11-20T18:15:10.784Z"
   },
   {
    "duration": 0,
    "start_time": "2022-11-20T18:15:10.785Z"
   },
   {
    "duration": 0,
    "start_time": "2022-11-20T18:15:10.787Z"
   },
   {
    "duration": 0,
    "start_time": "2022-11-20T18:15:10.788Z"
   },
   {
    "duration": 0,
    "start_time": "2022-11-20T18:15:10.790Z"
   },
   {
    "duration": 0,
    "start_time": "2022-11-20T18:15:10.805Z"
   },
   {
    "duration": 0,
    "start_time": "2022-11-20T18:15:10.806Z"
   },
   {
    "duration": 0,
    "start_time": "2022-11-20T18:15:10.807Z"
   },
   {
    "duration": 0,
    "start_time": "2022-11-20T18:15:10.808Z"
   },
   {
    "duration": 0,
    "start_time": "2022-11-20T18:15:10.810Z"
   },
   {
    "duration": 0,
    "start_time": "2022-11-20T18:15:10.811Z"
   },
   {
    "duration": 0,
    "start_time": "2022-11-20T18:15:10.813Z"
   },
   {
    "duration": 0,
    "start_time": "2022-11-20T18:15:10.814Z"
   },
   {
    "duration": 0,
    "start_time": "2022-11-20T18:15:10.815Z"
   },
   {
    "duration": 0,
    "start_time": "2022-11-20T18:15:10.817Z"
   },
   {
    "duration": 0,
    "start_time": "2022-11-20T18:15:10.818Z"
   },
   {
    "duration": 0,
    "start_time": "2022-11-20T18:15:10.820Z"
   },
   {
    "duration": 0,
    "start_time": "2022-11-20T18:15:10.821Z"
   },
   {
    "duration": 1,
    "start_time": "2022-11-20T18:15:10.822Z"
   },
   {
    "duration": 0,
    "start_time": "2022-11-20T18:15:10.824Z"
   },
   {
    "duration": 1262,
    "start_time": "2022-11-20T18:15:46.233Z"
   },
   {
    "duration": 1367,
    "start_time": "2022-11-20T18:15:54.171Z"
   },
   {
    "duration": 1382,
    "start_time": "2022-11-20T18:16:26.728Z"
   },
   {
    "duration": 8,
    "start_time": "2022-11-20T18:16:41.083Z"
   },
   {
    "duration": 2,
    "start_time": "2022-11-20T18:17:51.168Z"
   },
   {
    "duration": 20,
    "start_time": "2022-11-20T18:18:26.306Z"
   },
   {
    "duration": 668,
    "start_time": "2022-11-20T18:18:34.442Z"
   },
   {
    "duration": 5,
    "start_time": "2022-11-20T18:19:47.355Z"
   },
   {
    "duration": 1283,
    "start_time": "2022-11-20T18:19:57.780Z"
   },
   {
    "duration": 6,
    "start_time": "2022-11-20T18:21:18.860Z"
   },
   {
    "duration": 732,
    "start_time": "2022-11-20T18:21:27.804Z"
   },
   {
    "duration": 3,
    "start_time": "2022-11-20T18:21:54.420Z"
   },
   {
    "duration": 28,
    "start_time": "2022-11-20T18:21:56.074Z"
   },
   {
    "duration": 4,
    "start_time": "2022-11-20T18:22:15.059Z"
   },
   {
    "duration": 13,
    "start_time": "2022-11-20T18:22:16.443Z"
   },
   {
    "duration": 304,
    "start_time": "2022-11-20T18:22:58.972Z"
   },
   {
    "duration": 3,
    "start_time": "2022-11-20T18:23:29.427Z"
   },
   {
    "duration": 14,
    "start_time": "2022-11-20T18:23:30.764Z"
   },
   {
    "duration": 3,
    "start_time": "2022-11-20T18:23:42.612Z"
   },
   {
    "duration": 5,
    "start_time": "2022-11-20T18:23:43.666Z"
   },
   {
    "duration": 4,
    "start_time": "2022-11-20T18:24:17.412Z"
   },
   {
    "duration": 5,
    "start_time": "2022-11-20T18:24:39.931Z"
   },
   {
    "duration": 11,
    "start_time": "2022-11-20T18:24:55.907Z"
   },
   {
    "duration": 3,
    "start_time": "2022-11-20T18:26:32.572Z"
   },
   {
    "duration": 3,
    "start_time": "2022-11-20T18:26:40.046Z"
   },
   {
    "duration": 3,
    "start_time": "2022-11-20T18:27:02.518Z"
   },
   {
    "duration": 3,
    "start_time": "2022-11-20T18:27:35.838Z"
   },
   {
    "duration": 17,
    "start_time": "2022-11-20T18:27:47.646Z"
   },
   {
    "duration": 3,
    "start_time": "2022-11-20T18:29:18.694Z"
   },
   {
    "duration": 14,
    "start_time": "2022-11-20T18:29:20.853Z"
   },
   {
    "duration": 3,
    "start_time": "2022-11-20T18:29:31.031Z"
   },
   {
    "duration": 4,
    "start_time": "2022-11-20T18:29:35.790Z"
   },
   {
    "duration": 5,
    "start_time": "2022-11-20T18:29:37.485Z"
   },
   {
    "duration": 3,
    "start_time": "2022-11-20T18:29:52.973Z"
   },
   {
    "duration": 4,
    "start_time": "2022-11-20T18:29:54.965Z"
   },
   {
    "duration": 4,
    "start_time": "2022-11-20T18:30:10.173Z"
   },
   {
    "duration": 4,
    "start_time": "2022-11-20T18:30:11.997Z"
   },
   {
    "duration": 7,
    "start_time": "2022-11-20T18:30:47.438Z"
   },
   {
    "duration": 4,
    "start_time": "2022-11-20T18:30:57.510Z"
   },
   {
    "duration": 5,
    "start_time": "2022-11-20T18:31:00.453Z"
   },
   {
    "duration": 10,
    "start_time": "2022-11-20T18:34:43.377Z"
   },
   {
    "duration": 6,
    "start_time": "2022-11-20T18:34:50.911Z"
   },
   {
    "duration": 7,
    "start_time": "2022-11-20T18:35:14.798Z"
   },
   {
    "duration": 5,
    "start_time": "2022-11-20T18:35:38.456Z"
   },
   {
    "duration": 60,
    "start_time": "2022-11-20T18:36:02.848Z"
   },
   {
    "duration": 516,
    "start_time": "2022-11-20T18:36:06.719Z"
   },
   {
    "duration": 4567,
    "start_time": "2022-11-20T18:36:11.583Z"
   },
   {
    "duration": 6,
    "start_time": "2022-11-20T18:36:43.978Z"
   },
   {
    "duration": 1089,
    "start_time": "2022-11-20T18:37:17.169Z"
   },
   {
    "duration": 5,
    "start_time": "2022-11-20T18:37:36.137Z"
   },
   {
    "duration": 75557,
    "start_time": "2022-11-20T18:38:44.425Z"
   },
   {
    "duration": 11,
    "start_time": "2022-11-20T18:40:04.491Z"
   },
   {
    "duration": 5,
    "start_time": "2022-11-20T18:40:17.712Z"
   },
   {
    "duration": 1563,
    "start_time": "2022-11-20T18:41:15.274Z"
   },
   {
    "duration": 192,
    "start_time": "2022-11-20T18:41:16.839Z"
   },
   {
    "duration": 841,
    "start_time": "2022-11-20T18:41:17.033Z"
   },
   {
    "duration": 9,
    "start_time": "2022-11-20T18:41:17.876Z"
   },
   {
    "duration": 7,
    "start_time": "2022-11-20T18:41:17.887Z"
   },
   {
    "duration": 1264,
    "start_time": "2022-11-20T18:41:17.904Z"
   },
   {
    "duration": 3,
    "start_time": "2022-11-20T18:41:19.169Z"
   },
   {
    "duration": 77767,
    "start_time": "2022-11-20T18:41:19.173Z"
   },
   {
    "duration": 25,
    "start_time": "2022-11-20T18:42:36.942Z"
   },
   {
    "duration": 4,
    "start_time": "2022-11-20T18:42:36.969Z"
   },
   {
    "duration": 5,
    "start_time": "2022-11-20T18:42:36.974Z"
   },
   {
    "duration": 17,
    "start_time": "2022-11-20T18:42:36.980Z"
   },
   {
    "duration": 19,
    "start_time": "2022-11-20T18:42:36.998Z"
   },
   {
    "duration": 13,
    "start_time": "2022-11-20T18:42:37.020Z"
   },
   {
    "duration": 2094,
    "start_time": "2022-11-20T18:42:37.035Z"
   },
   {
    "duration": 5,
    "start_time": "2022-11-20T18:42:39.131Z"
   },
   {
    "duration": 7758,
    "start_time": "2022-11-20T18:42:39.137Z"
   },
   {
    "duration": 1978,
    "start_time": "2022-11-20T18:42:46.896Z"
   },
   {
    "duration": 3,
    "start_time": "2022-11-20T18:42:48.875Z"
   },
   {
    "duration": 21,
    "start_time": "2022-11-20T18:42:48.879Z"
   },
   {
    "duration": 3,
    "start_time": "2022-11-20T18:42:48.902Z"
   },
   {
    "duration": 5,
    "start_time": "2022-11-20T18:42:48.906Z"
   },
   {
    "duration": 80,
    "start_time": "2022-11-20T18:42:48.913Z"
   },
   {
    "duration": 48,
    "start_time": "2022-11-20T18:42:48.994Z"
   },
   {
    "duration": 3,
    "start_time": "2022-11-20T18:42:49.043Z"
   },
   {
    "duration": 86510,
    "start_time": "2022-11-20T18:42:49.048Z"
   },
   {
    "duration": 47,
    "start_time": "2022-11-20T18:44:15.560Z"
   },
   {
    "duration": 2,
    "start_time": "2022-11-20T18:44:15.609Z"
   },
   {
    "duration": 8,
    "start_time": "2022-11-20T18:44:15.613Z"
   },
   {
    "duration": 9,
    "start_time": "2022-11-20T18:44:15.623Z"
   },
   {
    "duration": 323510,
    "start_time": "2022-11-20T18:44:15.634Z"
   },
   {
    "duration": 106,
    "start_time": "2022-11-20T18:49:39.145Z"
   },
   {
    "duration": 153227,
    "start_time": "2022-11-20T18:49:39.252Z"
   },
   {
    "duration": 64,
    "start_time": "2022-11-20T18:52:12.480Z"
   },
   {
    "duration": 120,
    "start_time": "2022-11-20T18:55:38.752Z"
   },
   {
    "duration": 11,
    "start_time": "2022-11-20T18:55:45.544Z"
   },
   {
    "duration": 10,
    "start_time": "2022-11-20T18:58:44.232Z"
   },
   {
    "duration": 10,
    "start_time": "2022-11-20T18:59:06.956Z"
   },
   {
    "duration": 10,
    "start_time": "2022-11-20T18:59:10.256Z"
   },
   {
    "duration": 145,
    "start_time": "2022-11-20T19:00:16.433Z"
   },
   {
    "duration": 156,
    "start_time": "2022-11-20T19:00:36.824Z"
   },
   {
    "duration": 129,
    "start_time": "2022-11-20T19:00:42.529Z"
   },
   {
    "duration": 144,
    "start_time": "2022-11-20T19:00:58.784Z"
   },
   {
    "duration": 14,
    "start_time": "2022-11-20T19:02:57.594Z"
   },
   {
    "duration": 7637,
    "start_time": "2022-11-20T19:02:58.752Z"
   },
   {
    "duration": 1901,
    "start_time": "2022-11-20T19:03:08.772Z"
   },
   {
    "duration": 4,
    "start_time": "2022-11-20T19:03:14.208Z"
   },
   {
    "duration": 9,
    "start_time": "2022-11-20T19:03:26.180Z"
   },
   {
    "duration": 5,
    "start_time": "2022-11-20T19:03:34.786Z"
   },
   {
    "duration": 35,
    "start_time": "2022-11-20T19:03:41.009Z"
   },
   {
    "duration": 41,
    "start_time": "2022-11-20T19:03:42.041Z"
   },
   {
    "duration": 14,
    "start_time": "2022-11-20T19:04:09.219Z"
   },
   {
    "duration": 7605,
    "start_time": "2022-11-20T19:04:10.473Z"
   },
   {
    "duration": 1747,
    "start_time": "2022-11-20T19:04:23.537Z"
   },
   {
    "duration": 2,
    "start_time": "2022-11-20T19:04:40.442Z"
   },
   {
    "duration": 35,
    "start_time": "2022-11-20T19:04:41.114Z"
   },
   {
    "duration": 35,
    "start_time": "2022-11-20T19:04:42.226Z"
   },
   {
    "duration": 44,
    "start_time": "2022-11-20T19:04:45.226Z"
   },
   {
    "duration": 5,
    "start_time": "2022-11-20T19:04:49.434Z"
   },
   {
    "duration": 3022,
    "start_time": "2022-11-20T19:05:11.146Z"
   },
   {
    "duration": 39,
    "start_time": "2022-11-20T19:05:20.497Z"
   },
   {
    "duration": 13,
    "start_time": "2022-11-20T19:05:34.803Z"
   },
   {
    "duration": 46,
    "start_time": "2022-11-20T19:06:07.291Z"
   },
   {
    "duration": 1600,
    "start_time": "2022-11-20T19:06:20.665Z"
   },
   {
    "duration": 228,
    "start_time": "2022-11-20T19:06:22.267Z"
   },
   {
    "duration": 3175,
    "start_time": "2022-11-20T19:06:22.496Z"
   },
   {
    "duration": 8,
    "start_time": "2022-11-20T19:06:25.673Z"
   },
   {
    "duration": 6,
    "start_time": "2022-11-20T19:06:25.683Z"
   },
   {
    "duration": 2,
    "start_time": "2022-11-20T19:06:25.691Z"
   },
   {
    "duration": 11,
    "start_time": "2022-11-20T19:06:25.695Z"
   },
   {
    "duration": 78398,
    "start_time": "2022-11-20T19:06:25.708Z"
   },
   {
    "duration": 27,
    "start_time": "2022-11-20T19:07:44.108Z"
   },
   {
    "duration": 4,
    "start_time": "2022-11-20T19:07:44.136Z"
   },
   {
    "duration": 23,
    "start_time": "2022-11-20T19:07:44.142Z"
   },
   {
    "duration": 22,
    "start_time": "2022-11-20T19:07:44.167Z"
   },
   {
    "duration": 9,
    "start_time": "2022-11-20T19:07:44.191Z"
   },
   {
    "duration": 2,
    "start_time": "2022-11-20T19:07:44.205Z"
   },
   {
    "duration": 2088,
    "start_time": "2022-11-20T19:07:44.209Z"
   },
   {
    "duration": 11,
    "start_time": "2022-11-20T19:07:46.299Z"
   },
   {
    "duration": 7556,
    "start_time": "2022-11-20T19:07:46.312Z"
   },
   {
    "duration": 1734,
    "start_time": "2022-11-20T19:07:53.870Z"
   },
   {
    "duration": 6,
    "start_time": "2022-11-20T19:07:55.606Z"
   },
   {
    "duration": 6,
    "start_time": "2022-11-20T19:07:55.613Z"
   },
   {
    "duration": 4,
    "start_time": "2022-11-20T19:07:55.621Z"
   },
   {
    "duration": 7,
    "start_time": "2022-11-20T19:07:55.626Z"
   },
   {
    "duration": 8,
    "start_time": "2022-11-20T19:07:55.635Z"
   },
   {
    "duration": 5,
    "start_time": "2022-11-20T19:07:55.645Z"
   },
   {
    "duration": 59,
    "start_time": "2022-11-20T19:07:55.651Z"
   },
   {
    "duration": 44,
    "start_time": "2022-11-20T19:07:55.711Z"
   },
   {
    "duration": 3,
    "start_time": "2022-11-20T19:07:55.757Z"
   },
   {
    "duration": 68146,
    "start_time": "2022-11-20T19:07:55.761Z"
   },
   {
    "duration": 42,
    "start_time": "2022-11-20T19:09:03.908Z"
   },
   {
    "duration": 3,
    "start_time": "2022-11-20T19:09:03.951Z"
   },
   {
    "duration": 10,
    "start_time": "2022-11-20T19:09:03.955Z"
   },
   {
    "duration": 3491,
    "start_time": "2022-11-20T19:09:03.966Z"
   },
   {
    "duration": 63,
    "start_time": "2022-11-20T19:09:07.459Z"
   },
   {
    "duration": 14,
    "start_time": "2022-11-20T19:09:43.612Z"
   },
   {
    "duration": 1692,
    "start_time": "2022-11-20T19:10:30.802Z"
   },
   {
    "duration": 324,
    "start_time": "2022-11-20T19:10:32.495Z"
   },
   {
    "duration": 3126,
    "start_time": "2022-11-20T19:10:32.820Z"
   },
   {
    "duration": 9,
    "start_time": "2022-11-20T19:10:35.948Z"
   },
   {
    "duration": 8,
    "start_time": "2022-11-20T19:10:35.959Z"
   },
   {
    "duration": 7,
    "start_time": "2022-11-20T19:10:35.968Z"
   },
   {
    "duration": 13,
    "start_time": "2022-11-20T19:10:35.976Z"
   },
   {
    "duration": 1541,
    "start_time": "2022-11-20T19:11:16.217Z"
   },
   {
    "duration": 166,
    "start_time": "2022-11-20T19:11:17.760Z"
   },
   {
    "duration": 840,
    "start_time": "2022-11-20T19:11:17.928Z"
   },
   {
    "duration": 9,
    "start_time": "2022-11-20T19:11:18.770Z"
   },
   {
    "duration": 7,
    "start_time": "2022-11-20T19:11:18.781Z"
   },
   {
    "duration": 2,
    "start_time": "2022-11-20T19:11:18.804Z"
   },
   {
    "duration": 6,
    "start_time": "2022-11-20T19:11:18.808Z"
   },
   {
    "duration": 85712,
    "start_time": "2022-11-20T19:11:18.815Z"
   },
   {
    "duration": 24,
    "start_time": "2022-11-20T19:12:44.529Z"
   },
   {
    "duration": 3,
    "start_time": "2022-11-20T19:12:44.555Z"
   },
   {
    "duration": 10,
    "start_time": "2022-11-20T19:12:44.560Z"
   },
   {
    "duration": 11,
    "start_time": "2022-11-20T19:12:44.572Z"
   },
   {
    "duration": 9,
    "start_time": "2022-11-20T19:12:44.584Z"
   },
   {
    "duration": 2,
    "start_time": "2022-11-20T19:12:44.596Z"
   },
   {
    "duration": 1705,
    "start_time": "2022-11-20T19:13:27.023Z"
   },
   {
    "duration": 248,
    "start_time": "2022-11-20T19:13:28.730Z"
   },
   {
    "duration": 3204,
    "start_time": "2022-11-20T19:13:28.979Z"
   },
   {
    "duration": 8,
    "start_time": "2022-11-20T19:13:32.185Z"
   },
   {
    "duration": 8,
    "start_time": "2022-11-20T19:13:32.195Z"
   },
   {
    "duration": 4,
    "start_time": "2022-11-20T19:13:32.205Z"
   },
   {
    "duration": 11,
    "start_time": "2022-11-20T19:13:32.210Z"
   },
   {
    "duration": 85496,
    "start_time": "2022-11-20T19:13:32.223Z"
   },
   {
    "duration": 29,
    "start_time": "2022-11-20T19:14:57.721Z"
   },
   {
    "duration": 4,
    "start_time": "2022-11-20T19:14:57.751Z"
   },
   {
    "duration": 7,
    "start_time": "2022-11-20T19:14:57.757Z"
   },
   {
    "duration": 9,
    "start_time": "2022-11-20T19:14:57.765Z"
   },
   {
    "duration": 19,
    "start_time": "2022-11-20T19:14:57.776Z"
   },
   {
    "duration": 3,
    "start_time": "2022-11-20T19:14:57.804Z"
   },
   {
    "duration": 1697,
    "start_time": "2022-11-20T19:15:43.792Z"
   },
   {
    "duration": 316,
    "start_time": "2022-11-20T19:15:45.491Z"
   },
   {
    "duration": 3217,
    "start_time": "2022-11-20T19:15:45.809Z"
   },
   {
    "duration": 11,
    "start_time": "2022-11-20T19:15:49.028Z"
   },
   {
    "duration": 8,
    "start_time": "2022-11-20T19:15:49.041Z"
   },
   {
    "duration": 4,
    "start_time": "2022-11-20T19:15:49.051Z"
   },
   {
    "duration": 27,
    "start_time": "2022-11-20T19:15:49.057Z"
   },
   {
    "duration": 85146,
    "start_time": "2022-11-20T19:15:49.086Z"
   },
   {
    "duration": 25,
    "start_time": "2022-11-20T19:17:14.234Z"
   },
   {
    "duration": 4,
    "start_time": "2022-11-20T19:17:14.260Z"
   },
   {
    "duration": 4,
    "start_time": "2022-11-20T19:17:14.265Z"
   },
   {
    "duration": 5,
    "start_time": "2022-11-20T19:17:14.271Z"
   },
   {
    "duration": 28,
    "start_time": "2022-11-20T19:17:14.277Z"
   },
   {
    "duration": 2,
    "start_time": "2022-11-20T19:17:14.308Z"
   },
   {
    "duration": 11,
    "start_time": "2022-11-20T19:17:29.943Z"
   },
   {
    "duration": 1684,
    "start_time": "2022-11-20T19:17:36.009Z"
   },
   {
    "duration": 268,
    "start_time": "2022-11-20T19:17:37.695Z"
   },
   {
    "duration": 3157,
    "start_time": "2022-11-20T19:17:37.965Z"
   },
   {
    "duration": 10,
    "start_time": "2022-11-20T19:17:41.124Z"
   },
   {
    "duration": 6,
    "start_time": "2022-11-20T19:17:41.135Z"
   },
   {
    "duration": 3,
    "start_time": "2022-11-20T19:17:41.142Z"
   },
   {
    "duration": 10,
    "start_time": "2022-11-20T19:17:41.146Z"
   },
   {
    "duration": 78088,
    "start_time": "2022-11-20T19:17:41.157Z"
   },
   {
    "duration": 28,
    "start_time": "2022-11-20T19:18:59.246Z"
   },
   {
    "duration": 4,
    "start_time": "2022-11-20T19:18:59.277Z"
   },
   {
    "duration": 22,
    "start_time": "2022-11-20T19:18:59.282Z"
   },
   {
    "duration": 3,
    "start_time": "2022-11-20T19:18:59.306Z"
   },
   {
    "duration": 8,
    "start_time": "2022-11-20T19:18:59.310Z"
   },
   {
    "duration": 2,
    "start_time": "2022-11-20T19:18:59.320Z"
   },
   {
    "duration": 2105,
    "start_time": "2022-11-20T19:18:59.324Z"
   },
   {
    "duration": 28,
    "start_time": "2022-11-20T19:19:01.431Z"
   },
   {
    "duration": 6904,
    "start_time": "2022-11-20T19:19:01.461Z"
   },
   {
    "duration": 1874,
    "start_time": "2022-11-20T19:19:08.366Z"
   },
   {
    "duration": 5,
    "start_time": "2022-11-20T19:19:10.241Z"
   },
   {
    "duration": 7,
    "start_time": "2022-11-20T19:19:10.248Z"
   },
   {
    "duration": 5,
    "start_time": "2022-11-20T19:19:10.257Z"
   },
   {
    "duration": 6,
    "start_time": "2022-11-20T19:19:10.263Z"
   },
   {
    "duration": 6,
    "start_time": "2022-11-20T19:19:10.270Z"
   },
   {
    "duration": 6,
    "start_time": "2022-11-20T19:19:10.277Z"
   },
   {
    "duration": 55,
    "start_time": "2022-11-20T19:19:10.284Z"
   },
   {
    "duration": 44,
    "start_time": "2022-11-20T19:19:10.341Z"
   },
   {
    "duration": 19,
    "start_time": "2022-11-20T19:19:10.387Z"
   },
   {
    "duration": 51910,
    "start_time": "2022-11-20T19:19:10.409Z"
   },
   {
    "duration": 50,
    "start_time": "2022-11-20T19:20:02.321Z"
   },
   {
    "duration": 3,
    "start_time": "2022-11-20T19:20:02.373Z"
   },
   {
    "duration": 27,
    "start_time": "2022-11-20T19:20:02.377Z"
   },
   {
    "duration": 2506,
    "start_time": "2022-11-20T19:20:02.406Z"
   },
   {
    "duration": 40,
    "start_time": "2022-11-20T19:20:04.913Z"
   },
   {
    "duration": 1541,
    "start_time": "2022-11-20T19:22:41.576Z"
   },
   {
    "duration": 247,
    "start_time": "2022-11-20T19:22:43.119Z"
   },
   {
    "duration": 791,
    "start_time": "2022-11-20T19:22:43.368Z"
   },
   {
    "duration": 9,
    "start_time": "2022-11-20T19:22:44.160Z"
   },
   {
    "duration": 8,
    "start_time": "2022-11-20T19:22:44.171Z"
   },
   {
    "duration": 8,
    "start_time": "2022-11-20T19:22:44.181Z"
   },
   {
    "duration": 14,
    "start_time": "2022-11-20T19:22:44.190Z"
   },
   {
    "duration": 84471,
    "start_time": "2022-11-20T19:22:44.206Z"
   },
   {
    "duration": 40,
    "start_time": "2022-11-20T19:24:08.679Z"
   },
   {
    "duration": 5,
    "start_time": "2022-11-20T19:24:08.721Z"
   },
   {
    "duration": 5,
    "start_time": "2022-11-20T19:24:08.728Z"
   },
   {
    "duration": 5,
    "start_time": "2022-11-20T19:24:08.734Z"
   },
   {
    "duration": 6,
    "start_time": "2022-11-20T19:24:08.741Z"
   },
   {
    "duration": 2,
    "start_time": "2022-11-20T19:24:08.750Z"
   },
   {
    "duration": 31,
    "start_time": "2022-11-20T19:24:08.754Z"
   },
   {
    "duration": 6,
    "start_time": "2022-11-20T19:24:08.804Z"
   },
   {
    "duration": 4966,
    "start_time": "2022-11-20T19:24:08.812Z"
   },
   {
    "duration": 1068,
    "start_time": "2022-11-20T19:24:13.780Z"
   },
   {
    "duration": 5,
    "start_time": "2022-11-20T19:24:14.850Z"
   },
   {
    "duration": 14,
    "start_time": "2022-11-20T19:24:14.856Z"
   },
   {
    "duration": 23,
    "start_time": "2022-11-20T19:24:14.872Z"
   },
   {
    "duration": 13,
    "start_time": "2022-11-20T19:24:14.897Z"
   },
   {
    "duration": 11,
    "start_time": "2022-11-20T19:24:14.912Z"
   },
   {
    "duration": 10,
    "start_time": "2022-11-20T19:24:14.924Z"
   },
   {
    "duration": 33,
    "start_time": "2022-11-20T19:24:14.935Z"
   },
   {
    "duration": 39,
    "start_time": "2022-11-20T19:24:14.970Z"
   },
   {
    "duration": 3,
    "start_time": "2022-11-20T19:24:15.011Z"
   },
   {
    "duration": 48230,
    "start_time": "2022-11-20T19:24:15.016Z"
   },
   {
    "duration": 39,
    "start_time": "2022-11-20T19:25:03.247Z"
   },
   {
    "duration": 16,
    "start_time": "2022-11-20T19:25:03.288Z"
   },
   {
    "duration": 2,
    "start_time": "2022-11-20T19:25:03.306Z"
   },
   {
    "duration": 2255,
    "start_time": "2022-11-20T19:25:03.309Z"
   },
   {
    "duration": 47,
    "start_time": "2022-11-20T19:25:05.565Z"
   },
   {
    "duration": 15,
    "start_time": "2022-11-20T19:27:26.900Z"
   },
   {
    "duration": 20016,
    "start_time": "2022-11-20T19:27:28.377Z"
   },
   {
    "duration": 1842,
    "start_time": "2022-11-20T19:27:52.219Z"
   },
   {
    "duration": 10,
    "start_time": "2022-11-20T19:28:02.769Z"
   },
   {
    "duration": 3,
    "start_time": "2022-11-20T19:28:03.642Z"
   },
   {
    "duration": 29,
    "start_time": "2022-11-20T19:28:08.492Z"
   },
   {
    "duration": 40,
    "start_time": "2022-11-20T19:28:09.627Z"
   },
   {
    "duration": 2485,
    "start_time": "2022-11-20T19:28:23.160Z"
   },
   {
    "duration": 39,
    "start_time": "2022-11-20T19:28:27.234Z"
   },
   {
    "duration": 276,
    "start_time": "2022-11-20T19:28:45.419Z"
   },
   {
    "duration": 21725,
    "start_time": "2022-11-20T19:28:46.586Z"
   },
   {
    "duration": 1900,
    "start_time": "2022-11-20T19:29:12.531Z"
   },
   {
    "duration": 10,
    "start_time": "2022-11-20T19:29:16.619Z"
   },
   {
    "duration": 3274,
    "start_time": "2022-11-20T19:29:22.722Z"
   },
   {
    "duration": 39,
    "start_time": "2022-11-20T19:29:28.090Z"
   },
   {
    "duration": 232,
    "start_time": "2022-11-20T19:29:43.233Z"
   },
   {
    "duration": 45428,
    "start_time": "2022-11-20T19:29:46.883Z"
   },
   {
    "duration": 2761,
    "start_time": "2022-11-20T19:30:34.698Z"
   },
   {
    "duration": 22,
    "start_time": "2022-11-20T19:30:38.954Z"
   },
   {
    "duration": 9213,
    "start_time": "2022-11-20T19:30:43.915Z"
   },
   {
    "duration": 39,
    "start_time": "2022-11-20T19:30:54.626Z"
   },
   {
    "duration": 744,
    "start_time": "2022-11-20T19:31:20.266Z"
   },
   {
    "duration": 44556,
    "start_time": "2022-11-20T19:31:24.563Z"
   },
   {
    "duration": 4201,
    "start_time": "2022-11-20T19:33:34.292Z"
   },
   {
    "duration": 10173,
    "start_time": "2022-11-20T19:34:36.162Z"
   },
   {
    "duration": 4,
    "start_time": "2022-11-20T19:34:48.468Z"
   },
   {
    "duration": 657,
    "start_time": "2022-11-20T19:34:58.637Z"
   },
   {
    "duration": 130,
    "start_time": "2022-11-20T19:35:00.988Z"
   },
   {
    "duration": 1444,
    "start_time": "2022-11-20T19:39:21.050Z"
   },
   {
    "duration": 181,
    "start_time": "2022-11-20T19:39:22.496Z"
   },
   {
    "duration": 799,
    "start_time": "2022-11-20T19:39:22.678Z"
   },
   {
    "duration": 8,
    "start_time": "2022-11-20T19:39:23.479Z"
   },
   {
    "duration": 18,
    "start_time": "2022-11-20T19:39:23.489Z"
   },
   {
    "duration": 2,
    "start_time": "2022-11-20T19:39:23.509Z"
   },
   {
    "duration": 6,
    "start_time": "2022-11-20T19:39:23.513Z"
   },
   {
    "duration": 4508,
    "start_time": "2022-11-20T19:39:23.520Z"
   },
   {
    "duration": 33,
    "start_time": "2022-11-20T19:39:28.029Z"
   },
   {
    "duration": 4,
    "start_time": "2022-11-20T19:39:28.063Z"
   },
   {
    "duration": 19,
    "start_time": "2022-11-20T19:39:28.068Z"
   },
   {
    "duration": 22,
    "start_time": "2022-11-20T19:39:28.089Z"
   },
   {
    "duration": 35,
    "start_time": "2022-11-20T19:39:28.113Z"
   },
   {
    "duration": 22,
    "start_time": "2022-11-20T19:39:28.151Z"
   },
   {
    "duration": 36,
    "start_time": "2022-11-20T19:39:28.174Z"
   },
   {
    "duration": 5,
    "start_time": "2022-11-20T19:39:28.212Z"
   },
   {
    "duration": 1499,
    "start_time": "2022-11-20T19:39:44.715Z"
   },
   {
    "duration": 234,
    "start_time": "2022-11-20T19:39:46.216Z"
   },
   {
    "duration": 816,
    "start_time": "2022-11-20T19:39:46.451Z"
   },
   {
    "duration": 9,
    "start_time": "2022-11-20T19:39:47.268Z"
   },
   {
    "duration": 10,
    "start_time": "2022-11-20T19:39:47.279Z"
   },
   {
    "duration": 15,
    "start_time": "2022-11-20T19:39:47.290Z"
   },
   {
    "duration": 7,
    "start_time": "2022-11-20T19:39:47.307Z"
   },
   {
    "duration": 84767,
    "start_time": "2022-11-20T19:39:47.315Z"
   },
   {
    "duration": 30,
    "start_time": "2022-11-20T19:41:12.083Z"
   },
   {
    "duration": 4,
    "start_time": "2022-11-20T19:41:12.115Z"
   },
   {
    "duration": 5,
    "start_time": "2022-11-20T19:41:12.120Z"
   },
   {
    "duration": 8,
    "start_time": "2022-11-20T19:41:12.126Z"
   },
   {
    "duration": 12,
    "start_time": "2022-11-20T19:41:12.135Z"
   },
   {
    "duration": 4,
    "start_time": "2022-11-20T19:41:12.150Z"
   },
   {
    "duration": 26,
    "start_time": "2022-11-20T19:41:12.155Z"
   },
   {
    "duration": 22,
    "start_time": "2022-11-20T19:41:12.183Z"
   },
   {
    "duration": 45709,
    "start_time": "2022-11-20T19:41:12.206Z"
   },
   {
    "duration": 2994,
    "start_time": "2022-11-20T19:41:57.917Z"
   },
   {
    "duration": 78,
    "start_time": "2022-11-20T19:42:00.912Z"
   },
   {
    "duration": 19,
    "start_time": "2022-11-20T19:42:00.991Z"
   },
   {
    "duration": 34,
    "start_time": "2022-11-20T19:42:01.012Z"
   },
   {
    "duration": 27,
    "start_time": "2022-11-20T19:42:01.048Z"
   },
   {
    "duration": 26,
    "start_time": "2022-11-20T19:42:01.077Z"
   },
   {
    "duration": 29,
    "start_time": "2022-11-20T19:42:01.105Z"
   },
   {
    "duration": 74,
    "start_time": "2022-11-20T19:42:01.136Z"
   },
   {
    "duration": 45,
    "start_time": "2022-11-20T19:42:01.211Z"
   },
   {
    "duration": 3,
    "start_time": "2022-11-20T19:42:01.258Z"
   },
   {
    "duration": 75592,
    "start_time": "2022-11-20T19:42:01.262Z"
   },
   {
    "duration": 38,
    "start_time": "2022-11-20T19:43:16.856Z"
   },
   {
    "duration": 2,
    "start_time": "2022-11-20T19:43:16.905Z"
   },
   {
    "duration": 9,
    "start_time": "2022-11-20T19:43:16.909Z"
   },
   {
    "duration": 128097,
    "start_time": "2022-11-20T19:43:16.920Z"
   },
   {
    "duration": 40,
    "start_time": "2022-11-20T19:45:25.018Z"
   },
   {
    "duration": 814,
    "start_time": "2022-11-20T19:46:27.225Z"
   },
   {
    "duration": 6,
    "start_time": "2022-11-20T19:47:05.143Z"
   },
   {
    "duration": 45423,
    "start_time": "2022-11-20T19:48:00.552Z"
   },
   {
    "duration": 3173,
    "start_time": "2022-11-20T19:49:30.634Z"
   },
   {
    "duration": 148,
    "start_time": "2022-11-20T19:49:40.441Z"
   },
   {
    "duration": 153,
    "start_time": "2022-11-20T19:50:53.417Z"
   },
   {
    "duration": 158,
    "start_time": "2022-11-20T19:51:11.240Z"
   },
   {
    "duration": 157,
    "start_time": "2022-11-20T19:51:24.667Z"
   },
   {
    "duration": 150,
    "start_time": "2022-11-20T19:52:04.850Z"
   },
   {
    "duration": 142452,
    "start_time": "2022-11-20T19:54:46.986Z"
   },
   {
    "duration": 39,
    "start_time": "2022-11-20T19:58:59.941Z"
   },
   {
    "duration": 725,
    "start_time": "2022-11-20T20:00:11.389Z"
   },
   {
    "duration": 45876,
    "start_time": "2022-11-20T20:00:15.558Z"
   },
   {
    "duration": 3323,
    "start_time": "2022-11-20T20:01:01.436Z"
   },
   {
    "duration": 3,
    "start_time": "2022-11-20T20:01:04.761Z"
   },
   {
    "duration": 158111,
    "start_time": "2022-11-20T20:01:06.339Z"
   },
   {
    "duration": 39,
    "start_time": "2022-11-20T20:03:44.452Z"
   },
   {
    "duration": 702,
    "start_time": "2022-11-20T20:05:38.774Z"
   },
   {
    "duration": 45941,
    "start_time": "2022-11-20T20:05:46.582Z"
   },
   {
    "duration": 2942,
    "start_time": "2022-11-20T20:06:32.525Z"
   },
   {
    "duration": 126959,
    "start_time": "2022-11-20T20:06:35.469Z"
   },
   {
    "duration": 38,
    "start_time": "2022-11-20T20:08:42.430Z"
   },
   {
    "duration": 732,
    "start_time": "2022-11-20T20:25:24.372Z"
   },
   {
    "duration": 48124,
    "start_time": "2022-11-20T20:25:29.222Z"
   },
   {
    "duration": 3322,
    "start_time": "2022-11-20T20:26:34.982Z"
   },
   {
    "duration": 154,
    "start_time": "2022-11-20T20:26:39.294Z"
   },
   {
    "duration": 161,
    "start_time": "2022-11-20T20:28:41.655Z"
   },
   {
    "duration": 147268,
    "start_time": "2022-11-20T20:29:23.031Z"
   },
   {
    "duration": 39,
    "start_time": "2022-11-20T20:31:50.304Z"
   },
   {
    "duration": 765,
    "start_time": "2022-11-20T20:37:58.985Z"
   },
   {
    "duration": 47763,
    "start_time": "2022-11-20T20:38:16.808Z"
   },
   {
    "duration": 3398,
    "start_time": "2022-11-20T20:39:04.573Z"
   },
   {
    "duration": 152441,
    "start_time": "2022-11-20T20:39:07.973Z"
   },
   {
    "duration": 39,
    "start_time": "2022-11-20T20:41:40.415Z"
   },
   {
    "duration": 162,
    "start_time": "2022-11-20T20:43:05.482Z"
   },
   {
    "duration": 154,
    "start_time": "2022-11-20T20:44:03.019Z"
   },
   {
    "duration": 737,
    "start_time": "2022-11-20T20:44:43.115Z"
   },
   {
    "duration": 48020,
    "start_time": "2022-11-20T20:44:44.810Z"
   },
   {
    "duration": 3383,
    "start_time": "2022-11-20T20:45:32.832Z"
   },
   {
    "duration": 147043,
    "start_time": "2022-11-20T20:45:36.216Z"
   },
   {
    "duration": 49,
    "start_time": "2022-11-20T20:48:03.261Z"
   },
   {
    "duration": 164,
    "start_time": "2022-11-20T20:48:34.397Z"
   },
   {
    "duration": 153,
    "start_time": "2022-11-20T20:49:14.764Z"
   },
   {
    "duration": 774,
    "start_time": "2022-11-20T20:50:23.197Z"
   },
   {
    "duration": 73558,
    "start_time": "2022-11-20T20:50:25.148Z"
   },
   {
    "duration": 4174,
    "start_time": "2022-11-20T20:51:38.707Z"
   },
   {
    "duration": 148270,
    "start_time": "2022-11-20T20:51:42.883Z"
   },
   {
    "duration": 51,
    "start_time": "2022-11-20T20:54:11.155Z"
   },
   {
    "duration": 1252,
    "start_time": "2022-11-20T20:54:26.566Z"
   },
   {
    "duration": 21217,
    "start_time": "2022-11-20T20:54:30.966Z"
   },
   {
    "duration": 2413,
    "start_time": "2022-11-20T20:54:52.185Z"
   },
   {
    "duration": 3,
    "start_time": "2022-11-20T20:54:54.601Z"
   },
   {
    "duration": 1426,
    "start_time": "2022-11-20T21:08:12.262Z"
   },
   {
    "duration": 256,
    "start_time": "2022-11-20T21:08:13.689Z"
   },
   {
    "duration": 787,
    "start_time": "2022-11-20T21:08:13.947Z"
   },
   {
    "duration": 10,
    "start_time": "2022-11-20T21:08:14.736Z"
   },
   {
    "duration": 20,
    "start_time": "2022-11-20T21:08:14.747Z"
   },
   {
    "duration": 6,
    "start_time": "2022-11-20T21:08:14.768Z"
   },
   {
    "duration": 12,
    "start_time": "2022-11-20T21:08:14.776Z"
   },
   {
    "duration": 84692,
    "start_time": "2022-11-20T21:08:14.790Z"
   },
   {
    "duration": 38,
    "start_time": "2022-11-20T21:09:39.484Z"
   },
   {
    "duration": 4,
    "start_time": "2022-11-20T21:09:39.525Z"
   },
   {
    "duration": 7,
    "start_time": "2022-11-20T21:09:39.530Z"
   },
   {
    "duration": 9,
    "start_time": "2022-11-20T21:09:39.538Z"
   },
   {
    "duration": 8,
    "start_time": "2022-11-20T21:09:39.549Z"
   },
   {
    "duration": 3,
    "start_time": "2022-11-20T21:09:39.558Z"
   },
   {
    "duration": 23,
    "start_time": "2022-11-20T21:09:39.562Z"
   },
   {
    "duration": 2,
    "start_time": "2022-11-20T21:09:39.587Z"
   },
   {
    "duration": 21078,
    "start_time": "2022-11-20T21:09:39.605Z"
   },
   {
    "duration": 2361,
    "start_time": "2022-11-20T21:10:00.685Z"
   },
   {
    "duration": 137,
    "start_time": "2022-11-20T21:10:03.047Z"
   },
   {
    "duration": 8,
    "start_time": "2022-11-20T21:10:03.186Z"
   },
   {
    "duration": 10,
    "start_time": "2022-11-20T21:10:03.195Z"
   },
   {
    "duration": 13,
    "start_time": "2022-11-20T21:10:03.206Z"
   },
   {
    "duration": 28,
    "start_time": "2022-11-20T21:10:03.221Z"
   },
   {
    "duration": 15,
    "start_time": "2022-11-20T21:10:03.250Z"
   },
   {
    "duration": 68,
    "start_time": "2022-11-20T21:10:03.267Z"
   },
   {
    "duration": 44,
    "start_time": "2022-11-20T21:10:03.337Z"
   },
   {
    "duration": 3,
    "start_time": "2022-11-20T21:10:03.383Z"
   },
   {
    "duration": 88150,
    "start_time": "2022-11-20T21:10:03.405Z"
   },
   {
    "duration": 47,
    "start_time": "2022-11-20T21:11:31.557Z"
   },
   {
    "duration": 2,
    "start_time": "2022-11-20T21:11:31.606Z"
   },
   {
    "duration": 9,
    "start_time": "2022-11-20T21:11:31.610Z"
   },
   {
    "duration": 292273,
    "start_time": "2022-11-20T21:11:31.620Z"
   },
   {
    "duration": 43,
    "start_time": "2022-11-20T21:16:23.895Z"
   },
   {
    "duration": 238,
    "start_time": "2022-11-20T21:17:49.655Z"
   },
   {
    "duration": 21946,
    "start_time": "2022-11-20T21:17:50.928Z"
   },
   {
    "duration": 2556,
    "start_time": "2022-11-20T21:18:12.876Z"
   },
   {
    "duration": 323638,
    "start_time": "2022-11-20T21:18:15.433Z"
   },
   {
    "duration": 49,
    "start_time": "2022-11-20T21:23:39.073Z"
   },
   {
    "duration": 4,
    "start_time": "2022-11-20T21:23:39.123Z"
   },
   {
    "duration": 241,
    "start_time": "2022-11-20T21:23:58.834Z"
   },
   {
    "duration": 5525,
    "start_time": "2022-11-20T21:23:59.955Z"
   },
   {
    "duration": 1383,
    "start_time": "2022-11-20T21:24:05.482Z"
   },
   {
    "duration": 230289,
    "start_time": "2022-11-20T21:24:09.328Z"
   },
   {
    "duration": 38,
    "start_time": "2022-11-20T21:27:59.618Z"
   },
   {
    "duration": 38,
    "start_time": "2022-11-20T21:28:53.637Z"
   },
   {
    "duration": 3,
    "start_time": "2022-11-20T21:28:55.323Z"
   },
   {
    "duration": 6,
    "start_time": "2022-11-20T21:28:58.251Z"
   },
   {
    "duration": 12,
    "start_time": "2022-11-20T21:29:03.797Z"
   },
   {
    "duration": 17,
    "start_time": "2022-11-20T21:29:06.524Z"
   },
   {
    "duration": 14984,
    "start_time": "2022-11-20T21:29:08.162Z"
   },
   {
    "duration": 3184,
    "start_time": "2022-11-20T21:29:23.148Z"
   },
   {
    "duration": 140,
    "start_time": "2022-11-20T21:29:30.179Z"
   },
   {
    "duration": 26,
    "start_time": "2022-11-20T21:29:36.036Z"
   },
   {
    "duration": 47,
    "start_time": "2022-11-20T21:29:36.820Z"
   },
   {
    "duration": 1844,
    "start_time": "2022-11-20T21:29:43.044Z"
   },
   {
    "duration": 48,
    "start_time": "2022-11-20T21:29:44.890Z"
   },
   {
    "duration": 4,
    "start_time": "2022-11-20T21:31:08.461Z"
   },
   {
    "duration": 410,
    "start_time": "2022-11-20T21:31:10.204Z"
   },
   {
    "duration": 39,
    "start_time": "2022-11-20T21:31:11.597Z"
   },
   {
    "duration": 3,
    "start_time": "2022-11-20T21:31:45.405Z"
   },
   {
    "duration": 1233,
    "start_time": "2022-11-20T21:31:46.228Z"
   },
   {
    "duration": 41,
    "start_time": "2022-11-20T21:31:49.036Z"
   },
   {
    "duration": 2,
    "start_time": "2022-11-20T21:31:52.605Z"
   },
   {
    "duration": 785,
    "start_time": "2022-11-20T21:31:53.660Z"
   },
   {
    "duration": 39,
    "start_time": "2022-11-20T21:31:55.292Z"
   },
   {
    "duration": 2,
    "start_time": "2022-11-20T21:32:00.757Z"
   },
   {
    "duration": 274,
    "start_time": "2022-11-20T21:32:01.661Z"
   },
   {
    "duration": 42,
    "start_time": "2022-11-20T21:32:02.797Z"
   },
   {
    "duration": 2,
    "start_time": "2022-11-20T21:32:07.573Z"
   },
   {
    "duration": 198,
    "start_time": "2022-11-20T21:32:08.629Z"
   },
   {
    "duration": 39,
    "start_time": "2022-11-20T21:32:09.573Z"
   },
   {
    "duration": 3,
    "start_time": "2022-11-20T21:32:22.758Z"
   },
   {
    "duration": 929,
    "start_time": "2022-11-20T21:32:40.620Z"
   },
   {
    "duration": 40,
    "start_time": "2022-11-20T21:32:42.845Z"
   },
   {
    "duration": 4,
    "start_time": "2022-11-20T21:32:57.326Z"
   },
   {
    "duration": 3,
    "start_time": "2022-11-20T21:33:28.726Z"
   },
   {
    "duration": 207,
    "start_time": "2022-11-20T21:33:29.534Z"
   },
   {
    "duration": 41,
    "start_time": "2022-11-20T21:33:30.588Z"
   },
   {
    "duration": 2,
    "start_time": "2022-11-20T21:33:34.309Z"
   },
   {
    "duration": 271,
    "start_time": "2022-11-20T21:33:36.660Z"
   },
   {
    "duration": 40,
    "start_time": "2022-11-20T21:33:37.917Z"
   },
   {
    "duration": 3,
    "start_time": "2022-11-20T21:34:50.606Z"
   },
   {
    "duration": 194,
    "start_time": "2022-11-20T21:34:51.391Z"
   },
   {
    "duration": 3,
    "start_time": "2022-11-20T21:35:07.406Z"
   },
   {
    "duration": 811,
    "start_time": "2022-11-20T21:35:08.245Z"
   },
   {
    "duration": 40,
    "start_time": "2022-11-20T21:35:10.221Z"
   },
   {
    "duration": 3,
    "start_time": "2022-11-20T21:35:27.974Z"
   },
   {
    "duration": 91,
    "start_time": "2022-11-20T21:35:28.806Z"
   },
   {
    "duration": 3,
    "start_time": "2022-11-20T21:35:35.653Z"
   },
   {
    "duration": 92,
    "start_time": "2022-11-20T21:35:36.495Z"
   },
   {
    "duration": 2,
    "start_time": "2022-11-20T21:35:55.565Z"
   },
   {
    "duration": 95,
    "start_time": "2022-11-20T21:35:56.686Z"
   },
   {
    "duration": 3,
    "start_time": "2022-11-20T21:36:08.318Z"
   },
   {
    "duration": 264,
    "start_time": "2022-11-20T21:36:08.901Z"
   },
   {
    "duration": 43,
    "start_time": "2022-11-20T21:36:09.974Z"
   },
   {
    "duration": 3,
    "start_time": "2022-11-20T21:36:42.190Z"
   },
   {
    "duration": 314,
    "start_time": "2022-11-20T21:36:43.047Z"
   },
   {
    "duration": 40,
    "start_time": "2022-11-20T21:36:44.808Z"
   },
   {
    "duration": 1570,
    "start_time": "2022-11-20T21:37:36.365Z"
   },
   {
    "duration": 199,
    "start_time": "2022-11-20T21:37:37.937Z"
   },
   {
    "duration": 795,
    "start_time": "2022-11-20T21:37:38.139Z"
   },
   {
    "duration": 9,
    "start_time": "2022-11-20T21:37:38.936Z"
   },
   {
    "duration": 8,
    "start_time": "2022-11-20T21:37:38.947Z"
   },
   {
    "duration": 4,
    "start_time": "2022-11-20T21:37:38.956Z"
   },
   {
    "duration": 4,
    "start_time": "2022-11-20T21:37:38.962Z"
   },
   {
    "duration": 85664,
    "start_time": "2022-11-20T21:37:38.968Z"
   },
   {
    "duration": 29,
    "start_time": "2022-11-20T21:39:04.634Z"
   },
   {
    "duration": 4,
    "start_time": "2022-11-20T21:39:04.665Z"
   },
   {
    "duration": 7,
    "start_time": "2022-11-20T21:39:04.671Z"
   },
   {
    "duration": 7,
    "start_time": "2022-11-20T21:39:04.679Z"
   },
   {
    "duration": 21,
    "start_time": "2022-11-20T21:39:04.687Z"
   },
   {
    "duration": 2,
    "start_time": "2022-11-20T21:39:04.710Z"
   },
   {
    "duration": 25,
    "start_time": "2022-11-20T21:39:04.713Z"
   },
   {
    "duration": 3,
    "start_time": "2022-11-20T21:39:04.740Z"
   },
   {
    "duration": 47138,
    "start_time": "2022-11-20T21:39:04.745Z"
   },
   {
    "duration": 3368,
    "start_time": "2022-11-20T21:39:51.884Z"
   },
   {
    "duration": 158,
    "start_time": "2022-11-20T21:39:55.253Z"
   },
   {
    "duration": 3,
    "start_time": "2022-11-20T21:39:55.412Z"
   },
   {
    "duration": 6,
    "start_time": "2022-11-20T21:39:55.417Z"
   },
   {
    "duration": 7,
    "start_time": "2022-11-20T21:39:55.424Z"
   },
   {
    "duration": 5,
    "start_time": "2022-11-20T21:39:55.433Z"
   },
   {
    "duration": 5,
    "start_time": "2022-11-20T21:39:55.440Z"
   },
   {
    "duration": 70,
    "start_time": "2022-11-20T21:39:55.446Z"
   },
   {
    "duration": 47,
    "start_time": "2022-11-20T21:39:55.517Z"
   },
   {
    "duration": 4,
    "start_time": "2022-11-20T21:39:55.566Z"
   },
   {
    "duration": 87825,
    "start_time": "2022-11-20T21:39:55.573Z"
   },
   {
    "duration": 46,
    "start_time": "2022-11-20T21:41:23.399Z"
   },
   {
    "duration": 3,
    "start_time": "2022-11-20T21:41:23.447Z"
   },
   {
    "duration": 7,
    "start_time": "2022-11-20T21:41:23.451Z"
   },
   {
    "duration": 298827,
    "start_time": "2022-11-20T21:41:23.459Z"
   },
   {
    "duration": 50,
    "start_time": "2022-11-20T21:46:22.287Z"
   },
   {
    "duration": 3,
    "start_time": "2022-11-20T21:46:22.339Z"
   },
   {
    "duration": 2254,
    "start_time": "2022-11-20T21:46:22.344Z"
   },
   {
    "duration": 41,
    "start_time": "2022-11-20T21:46:24.604Z"
   },
   {
    "duration": 3,
    "start_time": "2022-11-20T21:46:49.915Z"
   },
   {
    "duration": 1627,
    "start_time": "2022-11-20T21:46:50.779Z"
   },
   {
    "duration": 39,
    "start_time": "2022-11-20T21:46:53.802Z"
   },
   {
    "duration": 2,
    "start_time": "2022-11-20T21:47:08.930Z"
   },
   {
    "duration": 1341,
    "start_time": "2022-11-20T21:47:09.930Z"
   },
   {
    "duration": 39,
    "start_time": "2022-11-20T21:47:12.090Z"
   },
   {
    "duration": 3,
    "start_time": "2022-11-20T21:47:16.002Z"
   },
   {
    "duration": 1652,
    "start_time": "2022-11-20T21:47:16.954Z"
   },
   {
    "duration": 43,
    "start_time": "2022-11-20T21:47:19.491Z"
   },
   {
    "duration": 2,
    "start_time": "2022-11-20T21:47:27.843Z"
   },
   {
    "duration": 2046,
    "start_time": "2022-11-20T21:47:28.667Z"
   },
   {
    "duration": 44,
    "start_time": "2022-11-20T21:47:31.538Z"
   },
   {
    "duration": 3,
    "start_time": "2022-11-20T21:47:36.314Z"
   },
   {
    "duration": 2192,
    "start_time": "2022-11-20T21:47:37.113Z"
   },
   {
    "duration": 43,
    "start_time": "2022-11-20T21:47:40.154Z"
   },
   {
    "duration": 3,
    "start_time": "2022-11-20T21:47:48.577Z"
   },
   {
    "duration": 1628,
    "start_time": "2022-11-20T21:47:49.243Z"
   },
   {
    "duration": 39,
    "start_time": "2022-11-20T21:47:52.387Z"
   },
   {
    "duration": 31,
    "start_time": "2022-11-20T21:49:04.509Z"
   },
   {
    "duration": 9,
    "start_time": "2022-11-20T21:49:27.397Z"
   },
   {
    "duration": 9,
    "start_time": "2022-11-20T21:50:46.093Z"
   },
   {
    "duration": 8,
    "start_time": "2022-11-20T21:52:06.061Z"
   },
   {
    "duration": 4,
    "start_time": "2022-11-20T21:58:05.438Z"
   },
   {
    "duration": 2,
    "start_time": "2022-11-20T21:58:51.223Z"
   },
   {
    "duration": 4,
    "start_time": "2022-11-20T22:00:30.190Z"
   },
   {
    "duration": 132694,
    "start_time": "2022-11-20T22:00:31.469Z"
   },
   {
    "duration": 12,
    "start_time": "2022-11-20T22:03:57.298Z"
   },
   {
    "duration": 8,
    "start_time": "2022-11-20T22:04:34.345Z"
   },
   {
    "duration": 9,
    "start_time": "2022-11-20T22:04:41.272Z"
   },
   {
    "duration": 37,
    "start_time": "2022-11-20T22:05:00.551Z"
   },
   {
    "duration": 4,
    "start_time": "2022-11-20T22:05:04.031Z"
   },
   {
    "duration": 47,
    "start_time": "2022-11-20T22:05:06.248Z"
   },
   {
    "duration": 760,
    "start_time": "2022-11-20T22:05:10.840Z"
   },
   {
    "duration": 19726,
    "start_time": "2022-11-20T22:05:12.792Z"
   },
   {
    "duration": 2523,
    "start_time": "2022-11-20T22:05:32.519Z"
   },
   {
    "duration": 141,
    "start_time": "2022-11-20T22:06:04.392Z"
   },
   {
    "duration": 9,
    "start_time": "2022-11-20T22:06:17.248Z"
   },
   {
    "duration": 10,
    "start_time": "2022-11-20T22:06:31.016Z"
   },
   {
    "duration": 8,
    "start_time": "2022-11-20T22:06:37.200Z"
   },
   {
    "duration": 1452,
    "start_time": "2022-11-20T22:07:20.622Z"
   },
   {
    "duration": 42,
    "start_time": "2022-11-20T22:07:24.016Z"
   },
   {
    "duration": 3,
    "start_time": "2022-11-20T22:08:05.337Z"
   },
   {
    "duration": 161287,
    "start_time": "2022-11-20T22:08:06.337Z"
   },
   {
    "duration": 3,
    "start_time": "2022-11-20T22:11:15.209Z"
   },
   {
    "duration": 159563,
    "start_time": "2022-11-20T22:11:16.954Z"
   },
   {
    "duration": 8,
    "start_time": "2022-11-20T22:14:03.036Z"
   },
   {
    "duration": 33,
    "start_time": "2022-11-20T22:14:13.826Z"
   },
   {
    "duration": 186,
    "start_time": "2022-11-20T22:14:20.097Z"
   },
   {
    "duration": 19790,
    "start_time": "2022-11-20T22:14:21.202Z"
   },
   {
    "duration": 2463,
    "start_time": "2022-11-20T22:14:40.994Z"
   },
   {
    "duration": 136,
    "start_time": "2022-11-20T22:14:45.274Z"
   },
   {
    "duration": 158,
    "start_time": "2022-11-20T22:14:49.986Z"
   },
   {
    "duration": 8,
    "start_time": "2022-11-20T22:15:09.177Z"
   },
   {
    "duration": 1406,
    "start_time": "2022-11-20T22:15:54.636Z"
   },
   {
    "duration": 42,
    "start_time": "2022-11-20T22:15:57.907Z"
   },
   {
    "duration": 200,
    "start_time": "2022-11-20T22:16:09.556Z"
   },
   {
    "duration": 45633,
    "start_time": "2022-11-20T22:16:10.817Z"
   },
   {
    "duration": 3522,
    "start_time": "2022-11-20T22:16:56.452Z"
   },
   {
    "duration": 1447,
    "start_time": "2022-11-20T22:17:13.363Z"
   },
   {
    "duration": 43,
    "start_time": "2022-11-20T22:17:16.346Z"
   },
   {
    "duration": 3,
    "start_time": "2022-11-20T22:17:26.173Z"
   },
   {
    "duration": 1080,
    "start_time": "2022-11-20T22:17:26.931Z"
   },
   {
    "duration": 41,
    "start_time": "2022-11-20T22:17:29.188Z"
   },
   {
    "duration": 2,
    "start_time": "2022-11-20T22:17:33.941Z"
   },
   {
    "duration": 2662,
    "start_time": "2022-11-20T22:17:34.884Z"
   },
   {
    "duration": 40,
    "start_time": "2022-11-20T22:17:38.761Z"
   },
   {
    "duration": 3,
    "start_time": "2022-11-20T22:17:45.308Z"
   },
   {
    "duration": 3198,
    "start_time": "2022-11-20T22:17:46.893Z"
   },
   {
    "duration": 42,
    "start_time": "2022-11-20T22:17:51.388Z"
   },
   {
    "duration": 2,
    "start_time": "2022-11-20T22:18:17.733Z"
   },
   {
    "duration": 161,
    "start_time": "2022-11-20T22:18:20.100Z"
   },
   {
    "duration": 720,
    "start_time": "2022-11-20T22:19:40.940Z"
   },
   {
    "duration": 46074,
    "start_time": "2022-11-20T22:19:42.859Z"
   },
   {
    "duration": 3403,
    "start_time": "2022-11-20T22:20:28.935Z"
   },
   {
    "duration": 2999,
    "start_time": "2022-11-20T22:20:32.339Z"
   },
   {
    "duration": 40,
    "start_time": "2022-11-20T22:20:35.339Z"
   },
   {
    "duration": 722,
    "start_time": "2022-11-20T22:20:52.615Z"
   },
   {
    "duration": 45269,
    "start_time": "2022-11-20T22:20:54.317Z"
   },
   {
    "duration": 3307,
    "start_time": "2022-11-20T22:21:39.588Z"
   },
   {
    "duration": 237,
    "start_time": "2022-11-20T22:22:29.726Z"
   },
   {
    "duration": 3,
    "start_time": "2022-11-20T22:22:35.749Z"
   },
   {
    "duration": 3274,
    "start_time": "2022-11-20T22:22:41.838Z"
   },
   {
    "duration": 44,
    "start_time": "2022-11-20T22:22:47.613Z"
   },
   {
    "duration": 704,
    "start_time": "2022-11-20T22:23:23.660Z"
   },
   {
    "duration": 45232,
    "start_time": "2022-11-20T22:23:25.301Z"
   },
   {
    "duration": 3508,
    "start_time": "2022-11-20T22:24:10.535Z"
   },
   {
    "duration": 3510,
    "start_time": "2022-11-20T22:24:14.044Z"
   },
   {
    "duration": 49,
    "start_time": "2022-11-20T22:24:17.556Z"
   },
   {
    "duration": 717,
    "start_time": "2022-11-20T22:24:44.677Z"
   },
   {
    "duration": 45655,
    "start_time": "2022-11-20T22:24:46.301Z"
   },
   {
    "duration": 3614,
    "start_time": "2022-11-20T22:25:31.958Z"
   },
   {
    "duration": 92,
    "start_time": "2022-11-20T22:25:35.573Z"
   },
   {
    "duration": 62,
    "start_time": "2022-11-20T22:25:35.667Z"
   },
   {
    "duration": 4098,
    "start_time": "2022-11-20T22:25:35.731Z"
   },
   {
    "duration": 43,
    "start_time": "2022-11-20T22:25:39.831Z"
   },
   {
    "duration": 3,
    "start_time": "2022-11-20T22:26:06.206Z"
   },
   {
    "duration": 99,
    "start_time": "2022-11-20T22:26:07.045Z"
   },
   {
    "duration": 56,
    "start_time": "2022-11-20T22:26:07.901Z"
   },
   {
    "duration": 2,
    "start_time": "2022-11-20T22:26:11.359Z"
   },
   {
    "duration": 95,
    "start_time": "2022-11-20T22:26:12.454Z"
   },
   {
    "duration": 56,
    "start_time": "2022-11-20T22:26:13.740Z"
   },
   {
    "duration": 2,
    "start_time": "2022-11-20T22:26:17.607Z"
   },
   {
    "duration": 93,
    "start_time": "2022-11-20T22:26:18.319Z"
   },
   {
    "duration": 55,
    "start_time": "2022-11-20T22:26:19.414Z"
   },
   {
    "duration": 3,
    "start_time": "2022-11-20T22:26:22.534Z"
   },
   {
    "duration": 112,
    "start_time": "2022-11-20T22:26:23.294Z"
   },
   {
    "duration": 59,
    "start_time": "2022-11-20T22:26:24.350Z"
   },
   {
    "duration": 3,
    "start_time": "2022-11-20T22:26:28.294Z"
   },
   {
    "duration": 96,
    "start_time": "2022-11-20T22:26:28.966Z"
   },
   {
    "duration": 61,
    "start_time": "2022-11-20T22:26:29.677Z"
   },
   {
    "duration": 2,
    "start_time": "2022-11-20T22:26:34.583Z"
   },
   {
    "duration": 100,
    "start_time": "2022-11-20T22:26:35.341Z"
   },
   {
    "duration": 55,
    "start_time": "2022-11-20T22:26:36.014Z"
   },
   {
    "duration": 3,
    "start_time": "2022-11-20T22:26:42.102Z"
   },
   {
    "duration": 710,
    "start_time": "2022-11-20T22:27:17.374Z"
   },
   {
    "duration": 46510,
    "start_time": "2022-11-20T22:27:18.966Z"
   },
   {
    "duration": 3683,
    "start_time": "2022-11-20T22:28:05.477Z"
   },
   {
    "duration": 4323,
    "start_time": "2022-11-20T22:28:09.162Z"
   },
   {
    "duration": 53,
    "start_time": "2022-11-20T22:28:13.486Z"
   },
   {
    "duration": 3,
    "start_time": "2022-11-20T22:28:25.703Z"
   },
   {
    "duration": 870,
    "start_time": "2022-11-20T22:28:27.735Z"
   },
   {
    "duration": 731,
    "start_time": "2022-11-20T22:29:08.614Z"
   },
   {
    "duration": 46037,
    "start_time": "2022-11-20T22:29:10.687Z"
   },
   {
    "duration": 4289,
    "start_time": "2022-11-20T22:29:56.725Z"
   },
   {
    "duration": 4,
    "start_time": "2022-11-20T22:30:17.310Z"
   },
   {
    "duration": 5038,
    "start_time": "2022-11-20T22:30:21.981Z"
   },
   {
    "duration": 47,
    "start_time": "2022-11-20T22:30:29.472Z"
   },
   {
    "duration": 652,
    "start_time": "2022-11-20T22:31:53.894Z"
   },
   {
    "duration": 42342,
    "start_time": "2022-11-20T22:31:55.880Z"
   },
   {
    "duration": 2697,
    "start_time": "2022-11-20T22:32:38.224Z"
   },
   {
    "duration": 2044,
    "start_time": "2022-11-20T22:32:40.923Z"
   },
   {
    "duration": 48,
    "start_time": "2022-11-20T22:32:42.969Z"
   },
   {
    "duration": 4,
    "start_time": "2022-11-20T22:32:52.084Z"
   },
   {
    "duration": 32,
    "start_time": "2022-11-20T22:34:01.057Z"
   },
   {
    "duration": 731,
    "start_time": "2022-11-20T22:34:14.584Z"
   },
   {
    "duration": 44486,
    "start_time": "2022-11-20T22:34:16.273Z"
   },
   {
    "duration": 3745,
    "start_time": "2022-11-20T22:35:00.760Z"
   },
   {
    "duration": 4809,
    "start_time": "2022-11-20T22:35:04.506Z"
   },
   {
    "duration": 45,
    "start_time": "2022-11-20T22:35:09.316Z"
   },
   {
    "duration": 1846,
    "start_time": "2022-11-20T22:36:01.145Z"
   },
   {
    "duration": 3,
    "start_time": "2022-11-20T22:36:08.505Z"
   },
   {
    "duration": 590,
    "start_time": "2022-11-20T22:36:21.210Z"
   },
   {
    "duration": 44273,
    "start_time": "2022-11-20T22:36:22.849Z"
   },
   {
    "duration": 4038,
    "start_time": "2022-11-20T22:37:07.124Z"
   },
   {
    "duration": 5370,
    "start_time": "2022-11-20T22:37:11.164Z"
   },
   {
    "duration": 46,
    "start_time": "2022-11-20T22:37:16.536Z"
   },
   {
    "duration": 3,
    "start_time": "2022-11-20T22:37:39.289Z"
   },
   {
    "duration": 5525,
    "start_time": "2022-11-20T22:37:44.130Z"
   },
   {
    "duration": 44,
    "start_time": "2022-11-20T22:37:50.980Z"
   },
   {
    "duration": 577,
    "start_time": "2022-11-20T22:38:15.121Z"
   },
   {
    "duration": 45247,
    "start_time": "2022-11-20T22:38:16.690Z"
   },
   {
    "duration": 3780,
    "start_time": "2022-11-20T22:39:01.938Z"
   },
   {
    "duration": 6067,
    "start_time": "2022-11-20T22:39:05.720Z"
   },
   {
    "duration": 58,
    "start_time": "2022-11-20T22:39:11.789Z"
   },
   {
    "duration": 559,
    "start_time": "2022-11-20T22:39:50.340Z"
   },
   {
    "duration": 45662,
    "start_time": "2022-11-20T22:39:51.827Z"
   },
   {
    "duration": 3938,
    "start_time": "2022-11-20T22:40:37.491Z"
   },
   {
    "duration": 6301,
    "start_time": "2022-11-20T22:40:41.431Z"
   },
   {
    "duration": 47,
    "start_time": "2022-11-20T22:40:47.734Z"
   },
   {
    "duration": 3966,
    "start_time": "2022-11-20T22:41:01.819Z"
   },
   {
    "duration": 8,
    "start_time": "2022-11-20T22:41:22.460Z"
   },
   {
    "duration": 576,
    "start_time": "2022-11-20T22:42:02.292Z"
   },
   {
    "duration": 20604,
    "start_time": "2022-11-20T22:42:04.762Z"
   },
   {
    "duration": 3181,
    "start_time": "2022-11-20T22:42:25.368Z"
   },
   {
    "duration": 6282,
    "start_time": "2022-11-20T22:42:28.551Z"
   },
   {
    "duration": 46,
    "start_time": "2022-11-20T22:42:34.834Z"
   },
   {
    "duration": 95,
    "start_time": "2022-11-20T22:42:58.964Z"
   },
   {
    "duration": 20613,
    "start_time": "2022-11-20T22:43:02.724Z"
   },
   {
    "duration": 2985,
    "start_time": "2022-11-20T22:43:23.339Z"
   },
   {
    "duration": 6171,
    "start_time": "2022-11-20T22:43:26.326Z"
   },
   {
    "duration": 48,
    "start_time": "2022-11-20T22:43:32.504Z"
   },
   {
    "duration": 9,
    "start_time": "2022-11-20T22:43:41.843Z"
   },
   {
    "duration": 13,
    "start_time": "2022-11-20T22:51:58.766Z"
   },
   {
    "duration": 3,
    "start_time": "2022-11-20T22:54:28.463Z"
   },
   {
    "duration": 212,
    "start_time": "2022-11-20T22:54:57.239Z"
   },
   {
    "duration": 11,
    "start_time": "2022-11-20T22:55:16.464Z"
   },
   {
    "duration": 3,
    "start_time": "2022-11-20T22:55:24.239Z"
   },
   {
    "duration": 2742,
    "start_time": "2022-11-20T22:55:25.463Z"
   },
   {
    "duration": 48,
    "start_time": "2022-11-20T22:55:39.520Z"
   },
   {
    "duration": 47,
    "start_time": "2022-11-20T22:55:52.296Z"
   },
   {
    "duration": 6449,
    "start_time": "2022-11-20T22:55:54.942Z"
   },
   {
    "duration": 46,
    "start_time": "2022-11-20T22:56:03.022Z"
   },
   {
    "duration": 2,
    "start_time": "2022-11-20T22:57:11.032Z"
   },
   {
    "duration": 2756,
    "start_time": "2022-11-20T22:57:12.096Z"
   },
   {
    "duration": 51,
    "start_time": "2022-11-20T22:57:16.519Z"
   },
   {
    "duration": 3,
    "start_time": "2022-11-20T22:57:33.280Z"
   },
   {
    "duration": 2873,
    "start_time": "2022-11-20T22:57:34.399Z"
   },
   {
    "duration": 47,
    "start_time": "2022-11-20T22:57:40.631Z"
   },
   {
    "duration": 2,
    "start_time": "2022-11-20T22:57:44.824Z"
   },
   {
    "duration": 2978,
    "start_time": "2022-11-20T22:57:46.335Z"
   },
   {
    "duration": 49,
    "start_time": "2022-11-20T22:57:51.376Z"
   },
   {
    "duration": 2,
    "start_time": "2022-11-20T22:57:57.057Z"
   },
   {
    "duration": 2996,
    "start_time": "2022-11-20T22:57:57.912Z"
   },
   {
    "duration": 50,
    "start_time": "2022-11-20T22:58:17.632Z"
   },
   {
    "duration": 2,
    "start_time": "2022-11-20T22:58:23.400Z"
   },
   {
    "duration": 2896,
    "start_time": "2022-11-20T22:58:24.576Z"
   },
   {
    "duration": 50,
    "start_time": "2022-11-20T22:58:31.055Z"
   },
   {
    "duration": 2,
    "start_time": "2022-11-20T22:58:39.305Z"
   },
   {
    "duration": 3008,
    "start_time": "2022-11-20T22:58:40.335Z"
   },
   {
    "duration": 51,
    "start_time": "2022-11-20T22:58:44.895Z"
   },
   {
    "duration": 3,
    "start_time": "2022-11-20T22:58:52.433Z"
   },
   {
    "duration": 1360,
    "start_time": "2022-11-20T22:58:53.433Z"
   },
   {
    "duration": 3,
    "start_time": "2022-11-20T22:59:09.533Z"
   },
   {
    "duration": 1352,
    "start_time": "2022-11-20T22:59:10.712Z"
   },
   {
    "duration": 3,
    "start_time": "2022-11-20T22:59:16.608Z"
   },
   {
    "duration": 3091,
    "start_time": "2022-11-20T22:59:17.785Z"
   },
   {
    "duration": 48,
    "start_time": "2022-11-20T22:59:24.047Z"
   },
   {
    "duration": 3,
    "start_time": "2022-11-20T22:59:27.408Z"
   },
   {
    "duration": 3143,
    "start_time": "2022-11-20T22:59:28.448Z"
   },
   {
    "duration": 53,
    "start_time": "2022-11-20T22:59:34.128Z"
   },
   {
    "duration": 87,
    "start_time": "2022-11-20T23:02:51.801Z"
   },
   {
    "duration": 21217,
    "start_time": "2022-11-20T23:02:53.824Z"
   },
   {
    "duration": 3136,
    "start_time": "2022-11-20T23:03:15.043Z"
   },
   {
    "duration": 6057,
    "start_time": "2022-11-20T23:03:18.181Z"
   },
   {
    "duration": 48,
    "start_time": "2022-11-20T23:03:24.240Z"
   },
   {
    "duration": 3,
    "start_time": "2022-11-20T23:03:52.682Z"
   },
   {
    "duration": 88,
    "start_time": "2022-11-20T23:04:24.217Z"
   },
   {
    "duration": 46543,
    "start_time": "2022-11-20T23:04:25.177Z"
   },
   {
    "duration": 4145,
    "start_time": "2022-11-20T23:05:11.721Z"
   },
   {
    "duration": 7947,
    "start_time": "2022-11-20T23:05:15.867Z"
   },
   {
    "duration": 49,
    "start_time": "2022-11-20T23:05:23.815Z"
   },
   {
    "duration": 3,
    "start_time": "2022-11-20T23:05:59.426Z"
   },
   {
    "duration": 516,
    "start_time": "2022-11-20T23:06:06.273Z"
   },
   {
    "duration": 1666,
    "start_time": "2022-11-20T23:08:02.982Z"
   },
   {
    "duration": 307,
    "start_time": "2022-11-20T23:08:04.650Z"
   },
   {
    "duration": 3241,
    "start_time": "2022-11-20T23:08:04.958Z"
   },
   {
    "duration": 12,
    "start_time": "2022-11-20T23:08:08.201Z"
   },
   {
    "duration": 5,
    "start_time": "2022-11-20T23:08:08.216Z"
   },
   {
    "duration": 7,
    "start_time": "2022-11-20T23:08:08.223Z"
   },
   {
    "duration": 10,
    "start_time": "2022-11-20T23:08:08.232Z"
   },
   {
    "duration": 164336,
    "start_time": "2022-11-20T23:08:08.244Z"
   },
   {
    "duration": 11,
    "start_time": "2022-11-20T23:10:52.581Z"
   },
   {
    "duration": 41,
    "start_time": "2022-11-20T23:10:52.593Z"
   },
   {
    "duration": 7,
    "start_time": "2022-11-20T23:10:52.636Z"
   },
   {
    "duration": 6,
    "start_time": "2022-11-20T23:10:52.645Z"
   },
   {
    "duration": 5,
    "start_time": "2022-11-20T23:10:52.653Z"
   },
   {
    "duration": 7,
    "start_time": "2022-11-20T23:10:52.661Z"
   },
   {
    "duration": 3,
    "start_time": "2022-11-20T23:10:52.669Z"
   },
   {
    "duration": 46,
    "start_time": "2022-11-20T23:10:52.674Z"
   },
   {
    "duration": 3,
    "start_time": "2022-11-20T23:10:52.721Z"
   },
   {
    "duration": 47801,
    "start_time": "2022-11-20T23:10:52.726Z"
   },
   {
    "duration": 4419,
    "start_time": "2022-11-20T23:11:40.528Z"
   },
   {
    "duration": 12375,
    "start_time": "2022-11-20T23:11:44.949Z"
   },
   {
    "duration": 5,
    "start_time": "2022-11-20T23:11:57.325Z"
   },
   {
    "duration": 16,
    "start_time": "2022-11-20T23:11:57.332Z"
   },
   {
    "duration": 8,
    "start_time": "2022-11-20T23:11:57.350Z"
   },
   {
    "duration": 32,
    "start_time": "2022-11-20T23:11:57.359Z"
   },
   {
    "duration": 5,
    "start_time": "2022-11-20T23:11:57.393Z"
   },
   {
    "duration": 684,
    "start_time": "2022-11-20T23:11:57.400Z"
   },
   {
    "duration": 133,
    "start_time": "2022-11-20T23:11:58.086Z"
   },
   {
    "duration": 2,
    "start_time": "2022-11-20T23:11:58.221Z"
   },
   {
    "duration": 9,
    "start_time": "2022-11-20T23:11:58.225Z"
   },
   {
    "duration": 6,
    "start_time": "2022-11-20T23:11:58.236Z"
   },
   {
    "duration": 15,
    "start_time": "2022-11-20T23:11:58.244Z"
   },
   {
    "duration": 9,
    "start_time": "2022-11-20T23:11:58.262Z"
   },
   {
    "duration": 10953,
    "start_time": "2022-11-20T23:11:58.272Z"
   },
   {
    "duration": 49,
    "start_time": "2022-11-20T23:12:09.226Z"
   },
   {
    "duration": 3,
    "start_time": "2022-11-20T23:12:09.276Z"
   },
   {
    "duration": 5145,
    "start_time": "2022-11-20T23:12:09.281Z"
   },
   {
    "duration": 50,
    "start_time": "2022-11-20T23:12:14.428Z"
   },
   {
    "duration": 324,
    "start_time": "2022-11-20T23:16:13.061Z"
   },
   {
    "duration": 46105,
    "start_time": "2022-11-20T23:16:14.805Z"
   },
   {
    "duration": 4179,
    "start_time": "2022-11-20T23:17:00.912Z"
   },
   {
    "duration": 6821,
    "start_time": "2022-11-20T23:17:05.092Z"
   },
   {
    "duration": 49,
    "start_time": "2022-11-20T23:17:11.914Z"
   },
   {
    "duration": 281,
    "start_time": "2022-11-20T23:18:35.526Z"
   },
   {
    "duration": 75,
    "start_time": "2022-11-20T23:18:36.741Z"
   },
   {
    "duration": 5,
    "start_time": "2022-11-20T23:19:23.183Z"
   },
   {
    "duration": 2,
    "start_time": "2022-11-20T23:19:37.101Z"
   },
   {
    "duration": 1485,
    "start_time": "2022-11-20T23:25:23.056Z"
   },
   {
    "duration": 195,
    "start_time": "2022-11-20T23:25:24.543Z"
   },
   {
    "duration": 808,
    "start_time": "2022-11-20T23:25:24.740Z"
   },
   {
    "duration": 10,
    "start_time": "2022-11-20T23:25:25.550Z"
   },
   {
    "duration": 6,
    "start_time": "2022-11-20T23:25:25.562Z"
   },
   {
    "duration": 3,
    "start_time": "2022-11-20T23:25:25.569Z"
   },
   {
    "duration": 8,
    "start_time": "2022-11-20T23:25:25.574Z"
   },
   {
    "duration": 163228,
    "start_time": "2022-11-20T23:25:25.583Z"
   },
   {
    "duration": 11,
    "start_time": "2022-11-20T23:28:08.812Z"
   },
   {
    "duration": 29,
    "start_time": "2022-11-20T23:28:08.824Z"
   },
   {
    "duration": 4,
    "start_time": "2022-11-20T23:28:08.854Z"
   },
   {
    "duration": 5,
    "start_time": "2022-11-20T23:28:08.860Z"
   },
   {
    "duration": 6,
    "start_time": "2022-11-20T23:28:08.867Z"
   },
   {
    "duration": 34,
    "start_time": "2022-11-20T23:28:08.875Z"
   },
   {
    "duration": 3,
    "start_time": "2022-11-20T23:28:08.911Z"
   },
   {
    "duration": 40,
    "start_time": "2022-11-20T23:28:08.915Z"
   },
   {
    "duration": 3,
    "start_time": "2022-11-20T23:28:08.957Z"
   },
   {
    "duration": 45174,
    "start_time": "2022-11-20T23:28:08.961Z"
   },
   {
    "duration": 4079,
    "start_time": "2022-11-20T23:28:54.137Z"
   },
   {
    "duration": 4047,
    "start_time": "2022-11-20T23:28:58.218Z"
   },
   {
    "duration": 2,
    "start_time": "2022-11-20T23:29:02.267Z"
   },
   {
    "duration": 5,
    "start_time": "2022-11-20T23:29:02.271Z"
   },
   {
    "duration": 5,
    "start_time": "2022-11-20T23:29:02.277Z"
   },
   {
    "duration": 7,
    "start_time": "2022-11-20T23:29:02.284Z"
   },
   {
    "duration": 14,
    "start_time": "2022-11-20T23:29:02.292Z"
   },
   {
    "duration": 303,
    "start_time": "2022-11-20T23:29:02.308Z"
   },
   {
    "duration": 76,
    "start_time": "2022-11-20T23:29:02.613Z"
   },
   {
    "duration": 13,
    "start_time": "2022-11-20T23:29:02.691Z"
   },
   {
    "duration": 6,
    "start_time": "2022-11-20T23:29:02.706Z"
   },
   {
    "duration": 5,
    "start_time": "2022-11-20T23:29:02.713Z"
   },
   {
    "duration": 4,
    "start_time": "2022-11-20T23:29:02.720Z"
   },
   {
    "duration": 5,
    "start_time": "2022-11-20T23:29:02.725Z"
   },
   {
    "duration": 6124,
    "start_time": "2022-11-20T23:29:02.731Z"
   },
   {
    "duration": 55,
    "start_time": "2022-11-20T23:29:08.857Z"
   },
   {
    "duration": 3,
    "start_time": "2022-11-20T23:29:08.913Z"
   },
   {
    "duration": 125,
    "start_time": "2022-11-20T23:29:08.918Z"
   },
   {
    "duration": 0,
    "start_time": "2022-11-20T23:29:09.045Z"
   },
   {
    "duration": 0,
    "start_time": "2022-11-20T23:29:09.046Z"
   },
   {
    "duration": 4,
    "start_time": "2022-11-20T23:30:01.882Z"
   },
   {
    "duration": 3,
    "start_time": "2022-11-20T23:30:11.880Z"
   },
   {
    "duration": 36216,
    "start_time": "2022-11-20T23:30:13.290Z"
   },
   {
    "duration": 200,
    "start_time": "2022-11-20T23:31:16.531Z"
   },
   {
    "duration": 3,
    "start_time": "2022-11-20T23:32:03.890Z"
   },
   {
    "duration": 3,
    "start_time": "2022-11-20T23:32:06.514Z"
   },
   {
    "duration": 1470,
    "start_time": "2022-11-20T23:43:57.643Z"
   },
   {
    "duration": 167,
    "start_time": "2022-11-20T23:43:59.114Z"
   },
   {
    "duration": 825,
    "start_time": "2022-11-20T23:43:59.283Z"
   },
   {
    "duration": 12,
    "start_time": "2022-11-20T23:44:00.110Z"
   },
   {
    "duration": 20,
    "start_time": "2022-11-20T23:44:00.124Z"
   },
   {
    "duration": 16,
    "start_time": "2022-11-20T23:44:00.145Z"
   },
   {
    "duration": 25,
    "start_time": "2022-11-20T23:44:00.162Z"
   },
   {
    "duration": 162501,
    "start_time": "2022-11-20T23:44:00.189Z"
   },
   {
    "duration": 13,
    "start_time": "2022-11-20T23:46:42.692Z"
   },
   {
    "duration": 27,
    "start_time": "2022-11-20T23:46:42.706Z"
   },
   {
    "duration": 4,
    "start_time": "2022-11-20T23:46:42.735Z"
   },
   {
    "duration": 5,
    "start_time": "2022-11-20T23:46:42.740Z"
   },
   {
    "duration": 6,
    "start_time": "2022-11-20T23:46:42.747Z"
   },
   {
    "duration": 6,
    "start_time": "2022-11-20T23:46:42.757Z"
   },
   {
    "duration": 3,
    "start_time": "2022-11-20T23:46:42.764Z"
   },
   {
    "duration": 55,
    "start_time": "2022-11-20T23:46:42.769Z"
   },
   {
    "duration": 3,
    "start_time": "2022-11-20T23:46:42.826Z"
   },
   {
    "duration": 45663,
    "start_time": "2022-11-20T23:46:42.831Z"
   },
   {
    "duration": 3892,
    "start_time": "2022-11-20T23:47:28.496Z"
   },
   {
    "duration": 3982,
    "start_time": "2022-11-20T23:47:32.389Z"
   },
   {
    "duration": 3,
    "start_time": "2022-11-20T23:47:36.373Z"
   },
   {
    "duration": 5,
    "start_time": "2022-11-20T23:47:36.377Z"
   },
   {
    "duration": 7,
    "start_time": "2022-11-20T23:47:36.383Z"
   },
   {
    "duration": 2,
    "start_time": "2022-11-20T23:47:36.404Z"
   },
   {
    "duration": 8,
    "start_time": "2022-11-20T23:47:36.408Z"
   },
   {
    "duration": 279,
    "start_time": "2022-11-20T23:47:36.418Z"
   },
   {
    "duration": 80,
    "start_time": "2022-11-20T23:47:36.698Z"
   },
   {
    "duration": 2,
    "start_time": "2022-11-20T23:47:36.779Z"
   },
   {
    "duration": 5,
    "start_time": "2022-11-20T23:47:36.783Z"
   },
   {
    "duration": 16,
    "start_time": "2022-11-20T23:47:36.789Z"
   },
   {
    "duration": 8,
    "start_time": "2022-11-20T23:47:36.807Z"
   },
   {
    "duration": 6,
    "start_time": "2022-11-20T23:47:36.817Z"
   },
   {
    "duration": 6429,
    "start_time": "2022-11-20T23:47:36.825Z"
   },
   {
    "duration": 60,
    "start_time": "2022-11-20T23:47:43.256Z"
   },
   {
    "duration": 2,
    "start_time": "2022-11-20T23:47:43.318Z"
   },
   {
    "duration": 5,
    "start_time": "2022-11-20T23:47:43.322Z"
   },
   {
    "duration": 41386,
    "start_time": "2022-11-20T23:47:43.328Z"
   },
   {
    "duration": 319,
    "start_time": "2022-11-20T23:48:24.806Z"
   },
   {
    "duration": 3,
    "start_time": "2022-11-20T23:57:10.466Z"
   },
   {
    "duration": 3,
    "start_time": "2022-11-20T23:57:16.706Z"
   },
   {
    "duration": 152783,
    "start_time": "2022-11-20T23:57:21.971Z"
   },
   {
    "duration": 174,
    "start_time": "2022-11-20T23:59:54.756Z"
   },
   {
    "duration": 3,
    "start_time": "2022-11-21T00:01:54.348Z"
   },
   {
    "duration": 3,
    "start_time": "2022-11-21T00:01:56.229Z"
   },
   {
    "duration": 3,
    "start_time": "2022-11-21T00:01:57.676Z"
   },
   {
    "duration": 43345,
    "start_time": "2022-11-21T00:01:59.164Z"
   },
   {
    "duration": 223,
    "start_time": "2022-11-21T00:02:42.604Z"
   },
   {
    "duration": 3,
    "start_time": "2022-11-21T00:04:27.012Z"
   },
   {
    "duration": 3,
    "start_time": "2022-11-21T00:04:28.109Z"
   },
   {
    "duration": 43623,
    "start_time": "2022-11-21T00:04:30.283Z"
   },
   {
    "duration": 319,
    "start_time": "2022-11-21T00:05:13.909Z"
   },
   {
    "duration": 3,
    "start_time": "2022-11-21T00:05:58.013Z"
   },
   {
    "duration": 3,
    "start_time": "2022-11-21T00:06:12.924Z"
   },
   {
    "duration": 3,
    "start_time": "2022-11-21T00:06:13.755Z"
   },
   {
    "duration": 41189,
    "start_time": "2022-11-21T00:06:14.620Z"
   },
   {
    "duration": 313,
    "start_time": "2022-11-21T00:06:55.812Z"
   },
   {
    "duration": 2,
    "start_time": "2022-11-21T00:08:02.614Z"
   },
   {
    "duration": 40402,
    "start_time": "2022-11-21T00:08:03.390Z"
   },
   {
    "duration": 61,
    "start_time": "2022-11-21T00:08:52.855Z"
   },
   {
    "duration": 3,
    "start_time": "2022-11-21T00:09:27.278Z"
   },
   {
    "duration": 40339,
    "start_time": "2022-11-21T00:09:28.678Z"
   },
   {
    "duration": 36,
    "start_time": "2022-11-21T00:10:09.018Z"
   },
   {
    "duration": 15,
    "start_time": "2022-11-21T00:13:13.390Z"
   },
   {
    "duration": 3,
    "start_time": "2022-11-21T00:16:54.954Z"
   },
   {
    "duration": 3,
    "start_time": "2022-11-21T00:16:56.776Z"
   },
   {
    "duration": 40656,
    "start_time": "2022-11-21T00:16:58.049Z"
   },
   {
    "duration": 322,
    "start_time": "2022-11-21T00:17:38.708Z"
   },
   {
    "duration": 2,
    "start_time": "2022-11-21T00:17:59.858Z"
   },
   {
    "duration": 40449,
    "start_time": "2022-11-21T00:18:01.257Z"
   },
   {
    "duration": 317,
    "start_time": "2022-11-21T00:18:41.709Z"
   },
   {
    "duration": 3,
    "start_time": "2022-11-21T00:19:15.586Z"
   },
   {
    "duration": 42298,
    "start_time": "2022-11-21T00:19:17.106Z"
   },
   {
    "duration": 320,
    "start_time": "2022-11-21T00:19:59.407Z"
   },
   {
    "duration": 2116,
    "start_time": "2022-11-21T08:34:45.839Z"
   },
   {
    "duration": 210,
    "start_time": "2022-11-21T08:34:47.957Z"
   },
   {
    "duration": 2273,
    "start_time": "2022-11-21T08:34:48.169Z"
   },
   {
    "duration": 11,
    "start_time": "2022-11-21T08:34:50.443Z"
   },
   {
    "duration": 17,
    "start_time": "2022-11-21T08:34:50.457Z"
   },
   {
    "duration": 8,
    "start_time": "2022-11-21T08:34:50.475Z"
   },
   {
    "duration": 22,
    "start_time": "2022-11-21T08:34:50.484Z"
   },
   {
    "duration": 169025,
    "start_time": "2022-11-21T08:34:50.508Z"
   },
   {
    "duration": 9,
    "start_time": "2022-11-21T08:37:39.535Z"
   },
   {
    "duration": 25,
    "start_time": "2022-11-21T08:37:39.546Z"
   },
   {
    "duration": 5,
    "start_time": "2022-11-21T08:37:39.572Z"
   },
   {
    "duration": 2,
    "start_time": "2022-11-21T08:37:39.596Z"
   },
   {
    "duration": 7,
    "start_time": "2022-11-21T08:37:39.600Z"
   },
   {
    "duration": 6,
    "start_time": "2022-11-21T08:37:39.609Z"
   },
   {
    "duration": 2,
    "start_time": "2022-11-21T08:37:39.617Z"
   },
   {
    "duration": 26,
    "start_time": "2022-11-21T08:37:39.621Z"
   },
   {
    "duration": 3,
    "start_time": "2022-11-21T08:37:39.649Z"
   },
   {
    "duration": 45866,
    "start_time": "2022-11-21T08:37:39.654Z"
   },
   {
    "duration": 4120,
    "start_time": "2022-11-21T08:38:25.522Z"
   },
   {
    "duration": 4096,
    "start_time": "2022-11-21T08:38:29.643Z"
   },
   {
    "duration": 3,
    "start_time": "2022-11-21T08:38:33.741Z"
   },
   {
    "duration": 8,
    "start_time": "2022-11-21T08:38:33.745Z"
   },
   {
    "duration": 7,
    "start_time": "2022-11-21T08:38:33.754Z"
   },
   {
    "duration": 4,
    "start_time": "2022-11-21T08:38:33.762Z"
   },
   {
    "duration": 7,
    "start_time": "2022-11-21T08:38:33.767Z"
   },
   {
    "duration": 299,
    "start_time": "2022-11-21T08:38:33.776Z"
   },
   {
    "duration": 88,
    "start_time": "2022-11-21T08:38:34.077Z"
   },
   {
    "duration": 2,
    "start_time": "2022-11-21T08:38:34.167Z"
   },
   {
    "duration": 8,
    "start_time": "2022-11-21T08:38:34.171Z"
   },
   {
    "duration": 16,
    "start_time": "2022-11-21T08:38:34.181Z"
   },
   {
    "duration": 5,
    "start_time": "2022-11-21T08:38:34.199Z"
   },
   {
    "duration": 8,
    "start_time": "2022-11-21T08:38:34.205Z"
   },
   {
    "duration": 6405,
    "start_time": "2022-11-21T08:38:34.214Z"
   },
   {
    "duration": 54,
    "start_time": "2022-11-21T08:38:40.620Z"
   },
   {
    "duration": 3,
    "start_time": "2022-11-21T08:38:40.676Z"
   },
   {
    "duration": 3,
    "start_time": "2022-11-21T08:38:40.697Z"
   },
   {
    "duration": 40608,
    "start_time": "2022-11-21T08:38:40.701Z"
   },
   {
    "duration": 313,
    "start_time": "2022-11-21T08:39:21.396Z"
   },
   {
    "duration": 8,
    "start_time": "2022-11-21T08:44:04.413Z"
   },
   {
    "duration": 3,
    "start_time": "2022-11-21T08:44:25.430Z"
   },
   {
    "duration": 171,
    "start_time": "2022-11-21T08:44:26.838Z"
   },
   {
    "duration": 4,
    "start_time": "2022-11-21T08:45:10.414Z"
   },
   {
    "duration": 12,
    "start_time": "2022-11-21T08:45:18.726Z"
   },
   {
    "duration": 329,
    "start_time": "2022-11-21T08:45:19.567Z"
   },
   {
    "duration": 150,
    "start_time": "2022-11-21T08:45:21.734Z"
   },
   {
    "duration": 2,
    "start_time": "2022-11-21T08:46:31.488Z"
   },
   {
    "duration": 161,
    "start_time": "2022-11-21T08:46:32.375Z"
   },
   {
    "duration": 135,
    "start_time": "2022-11-21T08:46:33.423Z"
   },
   {
    "duration": 5,
    "start_time": "2022-11-21T08:47:35.854Z"
   },
   {
    "duration": 2,
    "start_time": "2022-11-21T08:47:46.999Z"
   },
   {
    "duration": 309,
    "start_time": "2022-11-21T08:47:47.847Z"
   },
   {
    "duration": 155,
    "start_time": "2022-11-21T08:47:49.039Z"
   },
   {
    "duration": 3,
    "start_time": "2022-11-21T08:47:55.087Z"
   },
   {
    "duration": 339,
    "start_time": "2022-11-21T08:47:55.961Z"
   },
   {
    "duration": 141,
    "start_time": "2022-11-21T08:47:57.176Z"
   },
   {
    "duration": 2,
    "start_time": "2022-11-21T08:48:04.928Z"
   },
   {
    "duration": 337,
    "start_time": "2022-11-21T08:48:05.942Z"
   },
   {
    "duration": 150,
    "start_time": "2022-11-21T08:48:07.366Z"
   },
   {
    "duration": 3,
    "start_time": "2022-11-21T08:48:11.175Z"
   },
   {
    "duration": 296,
    "start_time": "2022-11-21T08:48:12.111Z"
   },
   {
    "duration": 145,
    "start_time": "2022-11-21T08:48:13.207Z"
   },
   {
    "duration": 3,
    "start_time": "2022-11-21T08:48:23.790Z"
   },
   {
    "duration": 218,
    "start_time": "2022-11-21T08:48:24.719Z"
   },
   {
    "duration": 104,
    "start_time": "2022-11-21T08:48:26.143Z"
   },
   {
    "duration": 3,
    "start_time": "2022-11-21T08:48:44.143Z"
   },
   {
    "duration": 3,
    "start_time": "2022-11-21T08:48:45.616Z"
   },
   {
    "duration": 188,
    "start_time": "2022-11-21T08:48:46.448Z"
   },
   {
    "duration": 90,
    "start_time": "2022-11-21T08:48:47.439Z"
   },
   {
    "duration": 3,
    "start_time": "2022-11-21T08:48:52.767Z"
   },
   {
    "duration": 196,
    "start_time": "2022-11-21T08:48:53.760Z"
   },
   {
    "duration": 69,
    "start_time": "2022-11-21T08:48:54.758Z"
   },
   {
    "duration": 2,
    "start_time": "2022-11-21T08:48:58.048Z"
   },
   {
    "duration": 207,
    "start_time": "2022-11-21T08:48:58.792Z"
   },
   {
    "duration": 71,
    "start_time": "2022-11-21T08:48:59.655Z"
   },
   {
    "duration": 3,
    "start_time": "2022-11-21T08:49:08.199Z"
   },
   {
    "duration": 196,
    "start_time": "2022-11-21T08:49:09.239Z"
   },
   {
    "duration": 75,
    "start_time": "2022-11-21T08:49:10.150Z"
   },
   {
    "duration": 2,
    "start_time": "2022-11-21T08:49:13.751Z"
   },
   {
    "duration": 191,
    "start_time": "2022-11-21T08:49:14.471Z"
   },
   {
    "duration": 74,
    "start_time": "2022-11-21T08:49:15.279Z"
   },
   {
    "duration": 3,
    "start_time": "2022-11-21T08:50:48.504Z"
   },
   {
    "duration": 222,
    "start_time": "2022-11-21T08:50:49.417Z"
   },
   {
    "duration": 69,
    "start_time": "2022-11-21T08:50:50.416Z"
   },
   {
    "duration": 3,
    "start_time": "2022-11-21T08:50:55.104Z"
   },
   {
    "duration": 275,
    "start_time": "2022-11-21T08:50:55.876Z"
   },
   {
    "duration": 69,
    "start_time": "2022-11-21T08:50:56.906Z"
   },
   {
    "duration": 3,
    "start_time": "2022-11-21T08:51:30.616Z"
   },
   {
    "duration": 191,
    "start_time": "2022-11-21T08:51:31.658Z"
   },
   {
    "duration": 78,
    "start_time": "2022-11-21T08:51:33.896Z"
   },
   {
    "duration": 1391,
    "start_time": "2022-11-21T08:55:28.010Z"
   },
   {
    "duration": 80,
    "start_time": "2022-11-21T08:56:30.522Z"
   },
   {
    "duration": 170,
    "start_time": "2022-11-21T08:57:53.627Z"
   },
   {
    "duration": 77,
    "start_time": "2022-11-21T08:57:55.411Z"
   },
   {
    "duration": 85,
    "start_time": "2022-11-21T08:58:57.908Z"
   },
   {
    "duration": 47,
    "start_time": "2022-11-21T08:59:13.508Z"
   },
   {
    "duration": 2000,
    "start_time": "2022-11-21T09:00:27.700Z"
   },
   {
    "duration": 50,
    "start_time": "2022-11-21T09:00:31.747Z"
   },
   {
    "duration": 84,
    "start_time": "2022-11-21T09:00:42.332Z"
   },
   {
    "duration": 49,
    "start_time": "2022-11-21T09:00:43.316Z"
   },
   {
    "duration": 2402,
    "start_time": "2022-11-21T09:00:48.196Z"
   },
   {
    "duration": 49,
    "start_time": "2022-11-21T09:00:51.612Z"
   },
   {
    "duration": 3,
    "start_time": "2022-11-21T09:05:03.958Z"
   },
   {
    "duration": 3,
    "start_time": "2022-11-21T09:05:06.589Z"
   },
   {
    "duration": 39271,
    "start_time": "2022-11-21T09:05:08.732Z"
   },
   {
    "duration": 305,
    "start_time": "2022-11-21T09:05:48.006Z"
   },
   {
    "duration": 53,
    "start_time": "2022-11-21T09:11:14.030Z"
   },
   {
    "duration": 241,
    "start_time": "2022-11-21T09:11:27.793Z"
   },
   {
    "duration": 260,
    "start_time": "2022-11-21T09:11:37.089Z"
   },
   {
    "duration": 414,
    "start_time": "2022-11-21T09:11:58.175Z"
   },
   {
    "duration": 176,
    "start_time": "2022-11-21T09:12:13.488Z"
   },
   {
    "duration": 182,
    "start_time": "2022-11-21T09:12:31.472Z"
   },
   {
    "duration": 199,
    "start_time": "2022-11-21T09:12:37.831Z"
   },
   {
    "duration": 151,
    "start_time": "2022-11-21T09:13:41.568Z"
   },
   {
    "duration": 262,
    "start_time": "2022-11-21T09:13:51.161Z"
   },
   {
    "duration": 360,
    "start_time": "2022-11-21T09:14:07.274Z"
   },
   {
    "duration": 167,
    "start_time": "2022-11-21T09:15:06.218Z"
   },
   {
    "duration": 176,
    "start_time": "2022-11-21T09:15:12.281Z"
   },
   {
    "duration": 38,
    "start_time": "2022-11-21T09:15:46.553Z"
   },
   {
    "duration": 404,
    "start_time": "2022-11-21T09:17:11.347Z"
   },
   {
    "duration": 458,
    "start_time": "2022-11-21T09:17:22.683Z"
   },
   {
    "duration": 3,
    "start_time": "2022-11-21T09:17:39.289Z"
   },
   {
    "duration": 3,
    "start_time": "2022-11-21T09:17:41.689Z"
   },
   {
    "duration": 39810,
    "start_time": "2022-11-21T09:17:42.689Z"
   },
   {
    "duration": 180,
    "start_time": "2022-11-21T09:18:48.434Z"
   },
   {
    "duration": 422,
    "start_time": "2022-11-21T09:18:50.121Z"
   },
   {
    "duration": 481,
    "start_time": "2022-11-21T09:19:37.643Z"
   },
   {
    "duration": 3,
    "start_time": "2022-11-21T09:20:20.859Z"
   },
   {
    "duration": 2,
    "start_time": "2022-11-21T09:20:23.843Z"
   },
   {
    "duration": 38451,
    "start_time": "2022-11-21T09:20:25.449Z"
   },
   {
    "duration": 250,
    "start_time": "2022-11-21T09:24:49.958Z"
   },
   {
    "duration": 569,
    "start_time": "2022-11-21T09:24:54.556Z"
   },
   {
    "duration": 3,
    "start_time": "2022-11-21T09:34:08.911Z"
   },
   {
    "duration": 871,
    "start_time": "2022-11-21T09:34:20.631Z"
   },
   {
    "duration": 44,
    "start_time": "2022-11-21T09:34:37.696Z"
   },
   {
    "duration": 104,
    "start_time": "2022-11-21T09:35:15.303Z"
   },
   {
    "duration": 3,
    "start_time": "2022-11-21T09:35:26.366Z"
   },
   {
    "duration": 1013,
    "start_time": "2022-11-21T09:35:28.439Z"
   },
   {
    "duration": 51,
    "start_time": "2022-11-21T09:35:31.127Z"
   },
   {
    "duration": 5,
    "start_time": "2022-11-21T09:36:01.119Z"
   },
   {
    "duration": 3,
    "start_time": "2022-11-21T09:36:03.199Z"
   },
   {
    "duration": 43177,
    "start_time": "2022-11-21T09:36:04.430Z"
   },
   {
    "duration": 226,
    "start_time": "2022-11-21T09:36:47.698Z"
   },
   {
    "duration": 2,
    "start_time": "2022-11-21T09:38:04.928Z"
   },
   {
    "duration": 97954,
    "start_time": "2022-11-21T09:38:07.072Z"
   },
   {
    "duration": 147,
    "start_time": "2022-11-21T09:39:45.097Z"
   },
   {
    "duration": 6,
    "start_time": "2022-11-21T09:41:39.928Z"
   },
   {
    "duration": 410,
    "start_time": "2022-11-21T09:42:35.890Z"
   },
   {
    "duration": 3,
    "start_time": "2022-11-21T09:43:10.330Z"
   },
   {
    "duration": 1064,
    "start_time": "2022-11-21T09:43:11.562Z"
   },
   {
    "duration": 46,
    "start_time": "2022-11-21T09:43:12.826Z"
   },
   {
    "duration": 1215,
    "start_time": "2022-11-21T09:45:50.332Z"
   },
   {
    "duration": 3,
    "start_time": "2022-11-21T09:48:24.131Z"
   },
   {
    "duration": 3,
    "start_time": "2022-11-21T09:48:25.627Z"
   },
   {
    "duration": 41663,
    "start_time": "2022-11-21T09:48:26.835Z"
   },
   {
    "duration": 259,
    "start_time": "2022-11-21T09:55:06.653Z"
   },
   {
    "duration": 3,
    "start_time": "2022-11-21T09:55:39.870Z"
   },
   {
    "duration": 42292,
    "start_time": "2022-11-21T09:55:40.910Z"
   },
   {
    "duration": 311,
    "start_time": "2022-11-21T09:56:23.204Z"
   },
   {
    "duration": 3,
    "start_time": "2022-11-21T10:02:15.553Z"
   },
   {
    "duration": 42261,
    "start_time": "2022-11-21T10:02:16.640Z"
   },
   {
    "duration": 314,
    "start_time": "2022-11-21T10:02:58.903Z"
   },
   {
    "duration": 4,
    "start_time": "2022-11-21T10:05:46.011Z"
   },
   {
    "duration": 3,
    "start_time": "2022-11-21T10:05:47.290Z"
   },
   {
    "duration": 42793,
    "start_time": "2022-11-21T10:05:47.907Z"
   },
   {
    "duration": 313,
    "start_time": "2022-11-21T10:06:30.702Z"
   },
   {
    "duration": 50,
    "start_time": "2022-11-21T10:09:26.964Z"
   },
   {
    "duration": 3,
    "start_time": "2022-11-21T10:09:30.508Z"
   },
   {
    "duration": 40725,
    "start_time": "2022-11-21T10:09:31.443Z"
   },
   {
    "duration": 47,
    "start_time": "2022-11-21T10:10:12.170Z"
   },
   {
    "duration": 3,
    "start_time": "2022-11-21T10:23:03.209Z"
   },
   {
    "duration": 39805,
    "start_time": "2022-11-21T10:23:04.273Z"
   },
   {
    "duration": 229,
    "start_time": "2022-11-21T10:23:44.080Z"
   },
   {
    "duration": 81,
    "start_time": "2022-11-21T10:26:42.162Z"
   },
   {
    "duration": 52,
    "start_time": "2022-11-21T10:26:45.002Z"
   },
   {
    "duration": 2,
    "start_time": "2022-11-21T10:27:24.219Z"
   },
   {
    "duration": 3,
    "start_time": "2022-11-21T10:27:25.532Z"
   },
   {
    "duration": 76,
    "start_time": "2022-11-21T10:27:26.299Z"
   },
   {
    "duration": 79,
    "start_time": "2022-11-21T10:27:42.284Z"
   },
   {
    "duration": 2,
    "start_time": "2022-11-21T10:27:53.669Z"
   },
   {
    "duration": 3,
    "start_time": "2022-11-21T10:27:55.079Z"
   },
   {
    "duration": 71,
    "start_time": "2022-11-21T10:27:55.714Z"
   },
   {
    "duration": 2,
    "start_time": "2022-11-21T10:28:50.540Z"
   },
   {
    "duration": 3,
    "start_time": "2022-11-21T10:28:51.835Z"
   },
   {
    "duration": 41280,
    "start_time": "2022-11-21T10:28:53.099Z"
   },
   {
    "duration": 228,
    "start_time": "2022-11-21T10:29:34.381Z"
   },
   {
    "duration": 3,
    "start_time": "2022-11-21T10:32:24.989Z"
   },
   {
    "duration": 941,
    "start_time": "2022-11-21T10:32:26.060Z"
   },
   {
    "duration": 234,
    "start_time": "2022-11-21T10:32:27.004Z"
   },
   {
    "duration": 4,
    "start_time": "2022-11-21T10:32:34.044Z"
   },
   {
    "duration": 1117,
    "start_time": "2022-11-21T10:32:35.383Z"
   },
   {
    "duration": 229,
    "start_time": "2022-11-21T10:32:36.502Z"
   },
   {
    "duration": 3,
    "start_time": "2022-11-21T10:32:47.028Z"
   },
   {
    "duration": 1210,
    "start_time": "2022-11-21T10:32:47.988Z"
   },
   {
    "duration": 48,
    "start_time": "2022-11-21T10:32:51.004Z"
   },
   {
    "duration": 3,
    "start_time": "2022-11-21T10:33:00.427Z"
   },
   {
    "duration": 2057,
    "start_time": "2022-11-21T10:33:01.501Z"
   },
   {
    "duration": 52,
    "start_time": "2022-11-21T10:33:04.500Z"
   },
   {
    "duration": 3,
    "start_time": "2022-11-21T10:33:09.789Z"
   },
   {
    "duration": 1230,
    "start_time": "2022-11-21T10:33:10.620Z"
   },
   {
    "duration": 48,
    "start_time": "2022-11-21T10:33:12.876Z"
   },
   {
    "duration": 3,
    "start_time": "2022-11-21T10:33:16.013Z"
   },
   {
    "duration": 3,
    "start_time": "2022-11-21T10:33:18.291Z"
   },
   {
    "duration": 38608,
    "start_time": "2022-11-21T10:33:23.388Z"
   },
   {
    "duration": 216,
    "start_time": "2022-11-21T10:34:01.998Z"
   },
   {
    "duration": 4,
    "start_time": "2022-11-21T10:37:16.326Z"
   },
   {
    "duration": 4548,
    "start_time": "2022-11-21T10:37:17.308Z"
   },
   {
    "duration": 56,
    "start_time": "2022-11-21T10:37:21.858Z"
   },
   {
    "duration": 3,
    "start_time": "2022-11-21T10:37:30.469Z"
   },
   {
    "duration": 3,
    "start_time": "2022-11-21T10:37:31.861Z"
   },
   {
    "duration": 55209,
    "start_time": "2022-11-21T10:37:32.614Z"
   },
   {
    "duration": 191,
    "start_time": "2022-11-21T10:38:27.825Z"
   },
   {
    "duration": 3,
    "start_time": "2022-11-21T11:02:22.286Z"
   },
   {
    "duration": 31572,
    "start_time": "2022-11-21T11:02:32.405Z"
   },
   {
    "duration": 60,
    "start_time": "2022-11-21T11:03:03.979Z"
   },
   {
    "duration": 3,
    "start_time": "2022-11-21T11:12:55.829Z"
   },
   {
    "duration": 1670,
    "start_time": "2022-11-21T11:20:27.017Z"
   },
   {
    "duration": 234,
    "start_time": "2022-11-21T11:20:28.689Z"
   },
   {
    "duration": 810,
    "start_time": "2022-11-21T11:20:28.925Z"
   },
   {
    "duration": 14,
    "start_time": "2022-11-21T11:20:29.737Z"
   },
   {
    "duration": 9,
    "start_time": "2022-11-21T11:20:29.754Z"
   },
   {
    "duration": 3,
    "start_time": "2022-11-21T11:20:29.765Z"
   },
   {
    "duration": 107,
    "start_time": "2022-11-21T11:20:29.770Z"
   },
   {
    "duration": 173133,
    "start_time": "2022-11-21T11:20:29.879Z"
   },
   {
    "duration": 10,
    "start_time": "2022-11-21T11:23:23.014Z"
   },
   {
    "duration": 32,
    "start_time": "2022-11-21T11:23:23.026Z"
   },
   {
    "duration": 4,
    "start_time": "2022-11-21T11:23:23.059Z"
   },
   {
    "duration": 6,
    "start_time": "2022-11-21T11:23:23.065Z"
   },
   {
    "duration": 3,
    "start_time": "2022-11-21T11:23:23.096Z"
   },
   {
    "duration": 8,
    "start_time": "2022-11-21T11:23:23.102Z"
   },
   {
    "duration": 4,
    "start_time": "2022-11-21T11:23:23.111Z"
   },
   {
    "duration": 26,
    "start_time": "2022-11-21T11:23:23.117Z"
   },
   {
    "duration": 9,
    "start_time": "2022-11-21T11:23:23.145Z"
   },
   {
    "duration": 46154,
    "start_time": "2022-11-21T11:23:23.155Z"
   },
   {
    "duration": 4169,
    "start_time": "2022-11-21T11:24:09.310Z"
   },
   {
    "duration": 4128,
    "start_time": "2022-11-21T11:24:13.480Z"
   },
   {
    "duration": 5,
    "start_time": "2022-11-21T11:24:17.610Z"
   },
   {
    "duration": 9,
    "start_time": "2022-11-21T11:24:17.617Z"
   },
   {
    "duration": 9,
    "start_time": "2022-11-21T11:24:17.628Z"
   },
   {
    "duration": 7,
    "start_time": "2022-11-21T11:24:17.639Z"
   },
   {
    "duration": 5,
    "start_time": "2022-11-21T11:24:17.648Z"
   },
   {
    "duration": 302,
    "start_time": "2022-11-21T11:24:17.654Z"
   },
   {
    "duration": 90,
    "start_time": "2022-11-21T11:24:17.958Z"
   },
   {
    "duration": 211,
    "start_time": "2022-11-21T11:24:18.050Z"
   },
   {
    "duration": 223,
    "start_time": "2022-11-21T11:24:18.263Z"
   },
   {
    "duration": 88,
    "start_time": "2022-11-21T11:24:18.487Z"
   },
   {
    "duration": 3,
    "start_time": "2022-11-21T11:24:18.576Z"
   },
   {
    "duration": 8,
    "start_time": "2022-11-21T11:24:18.581Z"
   },
   {
    "duration": 8,
    "start_time": "2022-11-21T11:24:18.597Z"
   },
   {
    "duration": 5,
    "start_time": "2022-11-21T11:24:18.607Z"
   },
   {
    "duration": 7,
    "start_time": "2022-11-21T11:24:18.613Z"
   },
   {
    "duration": 6514,
    "start_time": "2022-11-21T11:24:18.621Z"
   },
   {
    "duration": 74,
    "start_time": "2022-11-21T11:24:25.137Z"
   },
   {
    "duration": 102,
    "start_time": "2022-11-21T11:24:25.213Z"
   },
   {
    "duration": 52,
    "start_time": "2022-11-21T11:24:25.317Z"
   },
   {
    "duration": 363,
    "start_time": "2022-11-21T11:24:25.372Z"
   },
   {
    "duration": 34,
    "start_time": "2022-11-21T11:24:25.740Z"
   },
   {
    "duration": 3,
    "start_time": "2022-11-21T11:24:25.776Z"
   },
   {
    "duration": 4109,
    "start_time": "2022-11-21T11:24:25.796Z"
   },
   {
    "duration": 49,
    "start_time": "2022-11-21T11:24:29.907Z"
   },
   {
    "duration": 3,
    "start_time": "2022-11-21T11:24:29.958Z"
   },
   {
    "duration": 34026,
    "start_time": "2022-11-21T11:24:29.963Z"
   },
   {
    "duration": 49,
    "start_time": "2022-11-21T11:25:03.997Z"
   },
   {
    "duration": 2,
    "start_time": "2022-11-21T11:25:04.048Z"
   },
   {
    "duration": 47,
    "start_time": "2022-11-21T11:25:04.053Z"
   },
   {
    "duration": 53834,
    "start_time": "2022-11-21T11:25:04.102Z"
   },
   {
    "duration": 178,
    "start_time": "2022-11-21T11:25:57.937Z"
   },
   {
    "duration": 1225,
    "start_time": "2022-11-21T11:25:58.117Z"
   },
   {
    "duration": 3,
    "start_time": "2022-11-21T11:30:21.470Z"
   },
   {
    "duration": 4743,
    "start_time": "2022-11-21T11:30:23.158Z"
   },
   {
    "duration": 49,
    "start_time": "2022-11-21T11:30:27.902Z"
   },
   {
    "duration": 3,
    "start_time": "2022-11-21T11:30:57.031Z"
   },
   {
    "duration": 3,
    "start_time": "2022-11-21T11:30:59.486Z"
   },
   {
    "duration": 188899,
    "start_time": "2022-11-21T11:31:00.821Z"
   },
   {
    "duration": 195,
    "start_time": "2022-11-21T11:34:09.722Z"
   },
   {
    "duration": 11,
    "start_time": "2022-11-21T11:36:56.057Z"
   },
   {
    "duration": 11,
    "start_time": "2022-11-21T11:37:02.126Z"
   },
   {
    "duration": 9,
    "start_time": "2022-11-21T11:37:19.615Z"
   },
   {
    "duration": 9,
    "start_time": "2022-11-21T11:37:36.504Z"
   },
   {
    "duration": 10,
    "start_time": "2022-11-21T11:37:50.704Z"
   },
   {
    "duration": 9,
    "start_time": "2022-11-21T11:37:52.335Z"
   },
   {
    "duration": 11,
    "start_time": "2022-11-21T11:38:04.359Z"
   },
   {
    "duration": 132,
    "start_time": "2022-11-21T11:40:12.297Z"
   },
   {
    "duration": 21,
    "start_time": "2022-11-21T11:41:42.419Z"
   },
   {
    "duration": 18,
    "start_time": "2022-11-21T11:43:33.907Z"
   },
   {
    "duration": 15,
    "start_time": "2022-11-21T11:43:58.691Z"
   },
   {
    "duration": 15,
    "start_time": "2022-11-21T11:44:13.667Z"
   },
   {
    "duration": 19,
    "start_time": "2022-11-21T11:44:18.195Z"
   },
   {
    "duration": 15,
    "start_time": "2022-11-21T11:44:35.667Z"
   },
   {
    "duration": 15,
    "start_time": "2022-11-21T11:44:40.525Z"
   },
   {
    "duration": 15,
    "start_time": "2022-11-21T11:44:54.924Z"
   },
   {
    "duration": 11,
    "start_time": "2022-11-21T11:45:19.533Z"
   },
   {
    "duration": 11,
    "start_time": "2022-11-21T11:45:25.253Z"
   },
   {
    "duration": 1677,
    "start_time": "2022-11-21T11:46:44.377Z"
   },
   {
    "duration": 250,
    "start_time": "2022-11-21T11:46:46.057Z"
   },
   {
    "duration": 774,
    "start_time": "2022-11-21T11:46:46.309Z"
   },
   {
    "duration": 15,
    "start_time": "2022-11-21T11:46:47.085Z"
   },
   {
    "duration": 11,
    "start_time": "2022-11-21T11:46:47.102Z"
   },
   {
    "duration": 7,
    "start_time": "2022-11-21T11:46:47.114Z"
   },
   {
    "duration": 87,
    "start_time": "2022-11-21T11:46:47.123Z"
   },
   {
    "duration": 176686,
    "start_time": "2022-11-21T11:46:47.212Z"
   },
   {
    "duration": 12,
    "start_time": "2022-11-21T11:49:43.901Z"
   },
   {
    "duration": 32,
    "start_time": "2022-11-21T11:49:43.914Z"
   },
   {
    "duration": 5,
    "start_time": "2022-11-21T11:49:43.948Z"
   },
   {
    "duration": 8,
    "start_time": "2022-11-21T11:49:43.954Z"
   },
   {
    "duration": 6,
    "start_time": "2022-11-21T11:49:43.963Z"
   },
   {
    "duration": 7,
    "start_time": "2022-11-21T11:49:43.996Z"
   },
   {
    "duration": 4,
    "start_time": "2022-11-21T11:49:44.004Z"
   },
   {
    "duration": 27,
    "start_time": "2022-11-21T11:49:44.010Z"
   },
   {
    "duration": 4,
    "start_time": "2022-11-21T11:49:44.038Z"
   },
   {
    "duration": 45054,
    "start_time": "2022-11-21T11:49:44.043Z"
   },
   {
    "duration": 3381,
    "start_time": "2022-11-21T11:50:29.098Z"
   },
   {
    "duration": 251,
    "start_time": "2022-11-21T11:50:32.481Z"
   },
   {
    "duration": 3,
    "start_time": "2022-11-21T11:50:32.733Z"
   },
   {
    "duration": 6,
    "start_time": "2022-11-21T11:50:32.738Z"
   },
   {
    "duration": 10,
    "start_time": "2022-11-21T11:50:32.746Z"
   },
   {
    "duration": 3,
    "start_time": "2022-11-21T11:50:32.758Z"
   },
   {
    "duration": 5,
    "start_time": "2022-11-21T11:50:32.763Z"
   },
   {
    "duration": 81,
    "start_time": "2022-11-21T11:50:32.769Z"
   },
   {
    "duration": 61,
    "start_time": "2022-11-21T11:50:32.852Z"
   },
   {
    "duration": 181,
    "start_time": "2022-11-21T11:50:32.915Z"
   },
   {
    "duration": 99,
    "start_time": "2022-11-21T11:50:33.098Z"
   },
   {
    "duration": 54,
    "start_time": "2022-11-21T11:50:33.199Z"
   },
   {
    "duration": 2,
    "start_time": "2022-11-21T11:50:33.255Z"
   },
   {
    "duration": 4,
    "start_time": "2022-11-21T11:50:33.259Z"
   },
   {
    "duration": 8,
    "start_time": "2022-11-21T11:50:33.265Z"
   },
   {
    "duration": 22,
    "start_time": "2022-11-21T11:50:33.274Z"
   },
   {
    "duration": 3,
    "start_time": "2022-11-21T11:50:33.298Z"
   },
   {
    "duration": 3522,
    "start_time": "2022-11-21T11:50:33.303Z"
   },
   {
    "duration": 44,
    "start_time": "2022-11-21T11:50:36.826Z"
   },
   {
    "duration": 73,
    "start_time": "2022-11-21T11:50:36.872Z"
   },
   {
    "duration": 52,
    "start_time": "2022-11-21T11:50:36.947Z"
   },
   {
    "duration": 371,
    "start_time": "2022-11-21T11:50:37.000Z"
   },
   {
    "duration": 45,
    "start_time": "2022-11-21T11:50:37.375Z"
   },
   {
    "duration": 3,
    "start_time": "2022-11-21T11:50:37.422Z"
   },
   {
    "duration": 3329,
    "start_time": "2022-11-21T11:50:37.426Z"
   },
   {
    "duration": 46,
    "start_time": "2022-11-21T11:50:40.757Z"
   },
   {
    "duration": 3,
    "start_time": "2022-11-21T11:50:40.804Z"
   },
   {
    "duration": 4323,
    "start_time": "2022-11-21T11:50:40.809Z"
   },
   {
    "duration": 46,
    "start_time": "2022-11-21T11:50:45.133Z"
   },
   {
    "duration": 17,
    "start_time": "2022-11-21T11:50:45.180Z"
   },
   {
    "duration": 4,
    "start_time": "2022-11-21T11:50:45.198Z"
   },
   {
    "duration": 55190,
    "start_time": "2022-11-21T11:50:45.204Z"
   },
   {
    "duration": 223,
    "start_time": "2022-11-21T11:51:40.396Z"
   },
   {
    "duration": 1191,
    "start_time": "2022-11-21T11:51:40.621Z"
   },
   {
    "duration": 372,
    "start_time": "2022-11-21T11:52:38.064Z"
   },
   {
    "duration": 2,
    "start_time": "2022-11-21T11:53:47.952Z"
   },
   {
    "duration": 3,
    "start_time": "2022-11-21T11:53:49.483Z"
   },
   {
    "duration": 33662,
    "start_time": "2022-11-21T11:53:50.160Z"
   },
   {
    "duration": 185,
    "start_time": "2022-11-21T11:54:23.824Z"
   },
   {
    "duration": 1506,
    "start_time": "2022-11-21T11:55:21.548Z"
   },
   {
    "duration": 171,
    "start_time": "2022-11-21T11:55:23.056Z"
   },
   {
    "duration": 782,
    "start_time": "2022-11-21T11:55:23.229Z"
   },
   {
    "duration": 12,
    "start_time": "2022-11-21T11:55:24.013Z"
   },
   {
    "duration": 6,
    "start_time": "2022-11-21T11:55:24.027Z"
   },
   {
    "duration": 3,
    "start_time": "2022-11-21T11:55:24.035Z"
   },
   {
    "duration": 104,
    "start_time": "2022-11-21T11:55:24.039Z"
   },
   {
    "duration": 177139,
    "start_time": "2022-11-21T11:55:24.146Z"
   },
   {
    "duration": 18,
    "start_time": "2022-11-21T11:58:21.287Z"
   },
   {
    "duration": 31,
    "start_time": "2022-11-21T11:58:21.306Z"
   },
   {
    "duration": 4,
    "start_time": "2022-11-21T11:58:21.339Z"
   },
   {
    "duration": 9,
    "start_time": "2022-11-21T11:58:21.345Z"
   },
   {
    "duration": 6,
    "start_time": "2022-11-21T11:58:21.355Z"
   },
   {
    "duration": 8,
    "start_time": "2022-11-21T11:58:21.363Z"
   },
   {
    "duration": 3,
    "start_time": "2022-11-21T11:58:21.372Z"
   },
   {
    "duration": 22,
    "start_time": "2022-11-21T11:58:21.397Z"
   },
   {
    "duration": 17,
    "start_time": "2022-11-21T11:58:21.421Z"
   },
   {
    "duration": 47102,
    "start_time": "2022-11-21T11:58:21.440Z"
   },
   {
    "duration": 4240,
    "start_time": "2022-11-21T11:59:08.544Z"
   },
   {
    "duration": 4063,
    "start_time": "2022-11-21T11:59:12.786Z"
   },
   {
    "duration": 4,
    "start_time": "2022-11-21T11:59:16.850Z"
   },
   {
    "duration": 9,
    "start_time": "2022-11-21T11:59:16.855Z"
   },
   {
    "duration": 6,
    "start_time": "2022-11-21T11:59:16.866Z"
   },
   {
    "duration": 7,
    "start_time": "2022-11-21T11:59:16.874Z"
   },
   {
    "duration": 16,
    "start_time": "2022-11-21T11:59:16.882Z"
   },
   {
    "duration": 329,
    "start_time": "2022-11-21T11:59:16.899Z"
   },
   {
    "duration": 88,
    "start_time": "2022-11-21T11:59:17.230Z"
   },
   {
    "duration": 411,
    "start_time": "2022-11-21T11:59:17.320Z"
   },
   {
    "duration": 201,
    "start_time": "2022-11-21T11:59:17.733Z"
   },
   {
    "duration": 93,
    "start_time": "2022-11-21T11:59:17.935Z"
   },
   {
    "duration": 2,
    "start_time": "2022-11-21T11:59:18.030Z"
   },
   {
    "duration": 11,
    "start_time": "2022-11-21T11:59:18.034Z"
   },
   {
    "duration": 7,
    "start_time": "2022-11-21T11:59:18.047Z"
   },
   {
    "duration": 6,
    "start_time": "2022-11-21T11:59:18.055Z"
   },
   {
    "duration": 5,
    "start_time": "2022-11-21T11:59:18.062Z"
   },
   {
    "duration": 6882,
    "start_time": "2022-11-21T11:59:18.068Z"
   },
   {
    "duration": 61,
    "start_time": "2022-11-21T11:59:24.952Z"
   },
   {
    "duration": 94,
    "start_time": "2022-11-21T11:59:25.015Z"
   },
   {
    "duration": 56,
    "start_time": "2022-11-21T11:59:25.111Z"
   },
   {
    "duration": 386,
    "start_time": "2022-11-21T11:59:25.169Z"
   },
   {
    "duration": 45,
    "start_time": "2022-11-21T11:59:25.558Z"
   },
   {
    "duration": 4,
    "start_time": "2022-11-21T11:59:25.605Z"
   },
   {
    "duration": 4543,
    "start_time": "2022-11-21T11:59:25.611Z"
   },
   {
    "duration": 55,
    "start_time": "2022-11-21T11:59:30.156Z"
   },
   {
    "duration": 3,
    "start_time": "2022-11-21T11:59:30.212Z"
   },
   {
    "duration": 12394,
    "start_time": "2022-11-21T11:59:30.217Z"
   },
   {
    "duration": 57,
    "start_time": "2022-11-21T11:59:42.612Z"
   },
   {
    "duration": 3,
    "start_time": "2022-11-21T11:59:42.671Z"
   },
   {
    "duration": 21,
    "start_time": "2022-11-21T11:59:42.675Z"
   },
   {
    "duration": 58615,
    "start_time": "2022-11-21T11:59:42.698Z"
   },
   {
    "duration": 195,
    "start_time": "2022-11-21T12:00:41.315Z"
   },
   {
    "duration": 1221,
    "start_time": "2022-11-21T12:00:41.513Z"
   },
   {
    "duration": 3,
    "start_time": "2022-11-21T12:02:35.035Z"
   },
   {
    "duration": 3,
    "start_time": "2022-11-21T12:02:37.756Z"
   },
   {
    "duration": 142321,
    "start_time": "2022-11-21T12:02:38.884Z"
   },
   {
    "duration": 209,
    "start_time": "2022-11-21T12:05:01.207Z"
   },
   {
    "duration": 81,
    "start_time": "2022-11-21T12:55:22.568Z"
   },
   {
    "duration": 135,
    "start_time": "2022-11-21T12:55:37.306Z"
   },
   {
    "duration": 19,
    "start_time": "2022-11-21T12:56:00.290Z"
   },
   {
    "duration": 25,
    "start_time": "2022-11-21T12:56:36.123Z"
   },
   {
    "duration": 16,
    "start_time": "2022-11-21T12:56:56.908Z"
   },
   {
    "duration": 15,
    "start_time": "2022-11-21T12:58:05.732Z"
   },
   {
    "duration": 10,
    "start_time": "2022-11-21T12:58:11.083Z"
   },
   {
    "duration": 726,
    "start_time": "2022-11-21T12:59:34.629Z"
   },
   {
    "duration": 12,
    "start_time": "2022-11-21T12:59:45.968Z"
   },
   {
    "duration": 15,
    "start_time": "2022-11-21T12:59:59.804Z"
   },
   {
    "duration": 14,
    "start_time": "2022-11-21T13:00:05.172Z"
   },
   {
    "duration": 11,
    "start_time": "2022-11-21T13:00:31.870Z"
   },
   {
    "duration": 4,
    "start_time": "2022-11-21T13:00:41.420Z"
   },
   {
    "duration": 12,
    "start_time": "2022-11-21T13:00:53.444Z"
   },
   {
    "duration": 901,
    "start_time": "2022-11-21T13:03:00.333Z"
   },
   {
    "duration": 4,
    "start_time": "2022-11-21T13:03:10.168Z"
   },
   {
    "duration": 12,
    "start_time": "2022-11-21T13:03:17.109Z"
   },
   {
    "duration": 19,
    "start_time": "2022-11-21T13:05:30.701Z"
   },
   {
    "duration": 17,
    "start_time": "2022-11-21T13:08:12.239Z"
   },
   {
    "duration": 132,
    "start_time": "2022-11-21T13:08:39.872Z"
   },
   {
    "duration": 13,
    "start_time": "2022-11-21T13:08:57.824Z"
   },
   {
    "duration": 216,
    "start_time": "2022-11-21T13:09:11.000Z"
   },
   {
    "duration": 59,
    "start_time": "2022-11-21T13:10:08.152Z"
   },
   {
    "duration": 61,
    "start_time": "2022-11-21T13:10:23.638Z"
   },
   {
    "duration": 15,
    "start_time": "2022-11-21T13:10:32.078Z"
   },
   {
    "duration": 8,
    "start_time": "2022-11-21T13:10:57.072Z"
   },
   {
    "duration": 61,
    "start_time": "2022-11-21T13:11:02.943Z"
   },
   {
    "duration": 11,
    "start_time": "2022-11-21T13:11:04.535Z"
   },
   {
    "duration": 13,
    "start_time": "2022-11-21T13:11:08.039Z"
   },
   {
    "duration": 12,
    "start_time": "2022-11-21T13:11:28.535Z"
   },
   {
    "duration": 12,
    "start_time": "2022-11-21T13:11:36.720Z"
   },
   {
    "duration": 4,
    "start_time": "2022-11-21T13:11:48.176Z"
   },
   {
    "duration": 995,
    "start_time": "2022-11-21T13:12:46.409Z"
   },
   {
    "duration": 92,
    "start_time": "2022-11-21T13:12:51.208Z"
   },
   {
    "duration": 16,
    "start_time": "2022-11-21T13:13:33.668Z"
   },
   {
    "duration": 57,
    "start_time": "2022-11-21T13:13:59.394Z"
   },
   {
    "duration": 4,
    "start_time": "2022-11-21T13:14:29.034Z"
   },
   {
    "duration": 210,
    "start_time": "2022-11-21T13:14:31.505Z"
   },
   {
    "duration": 10,
    "start_time": "2022-11-21T13:16:56.930Z"
   },
   {
    "duration": 540,
    "start_time": "2022-11-21T13:19:07.939Z"
   },
   {
    "duration": 10,
    "start_time": "2022-11-21T13:51:30.009Z"
   },
   {
    "duration": 3,
    "start_time": "2022-11-21T13:51:33.192Z"
   },
   {
    "duration": 1070,
    "start_time": "2022-11-21T13:51:34.108Z"
   },
   {
    "duration": 7,
    "start_time": "2022-11-21T13:51:39.201Z"
   },
   {
    "duration": 84,
    "start_time": "2022-11-21T13:51:47.848Z"
   },
   {
    "duration": 3,
    "start_time": "2022-11-21T13:52:10.850Z"
   },
   {
    "duration": 1189,
    "start_time": "2022-11-21T13:52:11.617Z"
   },
   {
    "duration": 5,
    "start_time": "2022-11-21T13:52:14.121Z"
   },
   {
    "duration": 287,
    "start_time": "2022-11-21T13:52:17.112Z"
   },
   {
    "duration": 72,
    "start_time": "2022-11-21T13:52:18.258Z"
   },
   {
    "duration": 3,
    "start_time": "2022-11-21T13:52:24.585Z"
   },
   {
    "duration": 1066,
    "start_time": "2022-11-21T13:52:25.313Z"
   },
   {
    "duration": 5,
    "start_time": "2022-11-21T13:52:27.153Z"
   },
   {
    "duration": 198,
    "start_time": "2022-11-21T13:52:28.809Z"
   },
   {
    "duration": 84,
    "start_time": "2022-11-21T13:52:30.176Z"
   },
   {
    "duration": 3,
    "start_time": "2022-11-21T13:52:50.945Z"
   },
   {
    "duration": 1007,
    "start_time": "2022-11-21T13:52:51.721Z"
   },
   {
    "duration": 3,
    "start_time": "2022-11-21T13:52:52.730Z"
   },
   {
    "duration": 218,
    "start_time": "2022-11-21T13:52:53.697Z"
   },
   {
    "duration": 82,
    "start_time": "2022-11-21T13:52:54.896Z"
   },
   {
    "duration": 3,
    "start_time": "2022-11-21T13:53:01.633Z"
   },
   {
    "duration": 1011,
    "start_time": "2022-11-21T13:53:02.521Z"
   },
   {
    "duration": 4,
    "start_time": "2022-11-21T13:53:04.273Z"
   },
   {
    "duration": 197,
    "start_time": "2022-11-21T13:53:05.315Z"
   },
   {
    "duration": 80,
    "start_time": "2022-11-21T13:53:06.762Z"
   },
   {
    "duration": 1008,
    "start_time": "2022-11-21T13:53:33.474Z"
   },
   {
    "duration": 3,
    "start_time": "2022-11-21T13:53:41.201Z"
   },
   {
    "duration": 1035,
    "start_time": "2022-11-21T13:53:42.057Z"
   },
   {
    "duration": 220,
    "start_time": "2022-11-21T13:53:45.738Z"
   },
   {
    "duration": 75,
    "start_time": "2022-11-21T13:53:46.842Z"
   },
   {
    "duration": 220,
    "start_time": "2022-11-21T13:53:59.258Z"
   },
   {
    "duration": 81,
    "start_time": "2022-11-21T13:54:00.385Z"
   },
   {
    "duration": 78,
    "start_time": "2022-11-21T13:54:06.797Z"
   },
   {
    "duration": 3,
    "start_time": "2022-11-21T13:54:11.338Z"
   },
   {
    "duration": 3,
    "start_time": "2022-11-21T13:54:11.506Z"
   },
   {
    "duration": 1036,
    "start_time": "2022-11-21T13:54:12.514Z"
   },
   {
    "duration": 196,
    "start_time": "2022-11-21T13:54:14.756Z"
   },
   {
    "duration": 75,
    "start_time": "2022-11-21T13:54:15.642Z"
   },
   {
    "duration": 5,
    "start_time": "2022-11-21T13:55:51.178Z"
   },
   {
    "duration": 2,
    "start_time": "2022-11-21T13:56:40.211Z"
   },
   {
    "duration": 1077,
    "start_time": "2022-11-21T13:56:47.921Z"
   },
   {
    "duration": 2,
    "start_time": "2022-11-21T14:01:04.606Z"
   },
   {
    "duration": 1183,
    "start_time": "2022-11-21T14:01:05.492Z"
   },
   {
    "duration": 210,
    "start_time": "2022-11-21T14:01:08.597Z"
   },
   {
    "duration": 94,
    "start_time": "2022-11-21T14:01:09.877Z"
   },
   {
    "duration": 3,
    "start_time": "2022-11-21T14:01:19.132Z"
   },
   {
    "duration": 1132,
    "start_time": "2022-11-21T14:01:20.188Z"
   },
   {
    "duration": 306,
    "start_time": "2022-11-21T14:01:22.348Z"
   },
   {
    "duration": 76,
    "start_time": "2022-11-21T14:01:23.412Z"
   },
   {
    "duration": 3,
    "start_time": "2022-11-21T14:01:27.861Z"
   },
   {
    "duration": 1085,
    "start_time": "2022-11-21T14:01:29.077Z"
   },
   {
    "duration": 302,
    "start_time": "2022-11-21T14:01:30.972Z"
   },
   {
    "duration": 81,
    "start_time": "2022-11-21T14:01:32.446Z"
   },
   {
    "duration": 3,
    "start_time": "2022-11-21T14:01:38.780Z"
   },
   {
    "duration": 1112,
    "start_time": "2022-11-21T14:01:39.725Z"
   },
   {
    "duration": 281,
    "start_time": "2022-11-21T14:01:42.004Z"
   },
   {
    "duration": 82,
    "start_time": "2022-11-21T14:01:43.244Z"
   },
   {
    "duration": 193,
    "start_time": "2022-11-21T14:02:18.189Z"
   },
   {
    "duration": 198,
    "start_time": "2022-11-21T14:02:27.981Z"
   },
   {
    "duration": 88,
    "start_time": "2022-11-21T14:02:29.885Z"
   },
   {
    "duration": 13655,
    "start_time": "2022-11-21T14:05:53.686Z"
   },
   {
    "duration": 55,
    "start_time": "2022-11-21T14:06:15.494Z"
   },
   {
    "duration": 10,
    "start_time": "2022-11-21T14:07:50.670Z"
   },
   {
    "duration": 3,
    "start_time": "2022-11-21T14:07:53.294Z"
   },
   {
    "duration": 8814,
    "start_time": "2022-11-21T14:07:55.287Z"
   },
   {
    "duration": 10,
    "start_time": "2022-11-21T14:08:53.751Z"
   },
   {
    "duration": 4,
    "start_time": "2022-11-21T14:08:56.374Z"
   },
   {
    "duration": 28204,
    "start_time": "2022-11-21T14:08:58.104Z"
   },
   {
    "duration": 3,
    "start_time": "2022-11-21T14:10:32.592Z"
   },
   {
    "duration": 13,
    "start_time": "2022-11-21T14:14:32.961Z"
   },
   {
    "duration": 3,
    "start_time": "2022-11-21T14:14:36.354Z"
   },
   {
    "duration": 11165,
    "start_time": "2022-11-21T14:14:39.137Z"
   },
   {
    "duration": 46,
    "start_time": "2022-11-21T14:14:52.865Z"
   },
   {
    "duration": 9,
    "start_time": "2022-11-21T14:17:22.154Z"
   },
   {
    "duration": 9,
    "start_time": "2022-11-21T14:19:22.516Z"
   },
   {
    "duration": 5,
    "start_time": "2022-11-21T14:20:50.060Z"
   },
   {
    "duration": 14,
    "start_time": "2022-11-21T14:21:00.747Z"
   },
   {
    "duration": 10,
    "start_time": "2022-11-21T14:22:48.349Z"
   },
   {
    "duration": 12,
    "start_time": "2022-11-21T14:23:11.935Z"
   },
   {
    "duration": 11,
    "start_time": "2022-11-21T14:23:22.076Z"
   },
   {
    "duration": 11,
    "start_time": "2022-11-21T14:24:50.958Z"
   },
   {
    "duration": 10,
    "start_time": "2022-11-21T14:26:38.477Z"
   },
   {
    "duration": 224,
    "start_time": "2022-11-21T14:28:17.870Z"
   },
   {
    "duration": 10,
    "start_time": "2022-11-21T14:28:31.593Z"
   },
   {
    "duration": 60,
    "start_time": "2022-11-21T14:28:55.253Z"
   },
   {
    "duration": 11,
    "start_time": "2022-11-21T14:29:13.199Z"
   },
   {
    "duration": 10,
    "start_time": "2022-11-21T14:29:23.805Z"
   },
   {
    "duration": 56,
    "start_time": "2022-11-21T14:30:04.454Z"
   },
   {
    "duration": 12,
    "start_time": "2022-11-21T14:30:24.814Z"
   },
   {
    "duration": 65,
    "start_time": "2022-11-21T14:37:58.707Z"
   },
   {
    "duration": 59,
    "start_time": "2022-11-21T14:38:15.770Z"
   },
   {
    "duration": 77,
    "start_time": "2022-11-21T14:38:26.545Z"
   },
   {
    "duration": 179,
    "start_time": "2022-11-21T14:39:50.442Z"
   },
   {
    "duration": 897,
    "start_time": "2022-11-21T14:40:09.291Z"
   },
   {
    "duration": 172,
    "start_time": "2022-11-21T14:42:18.060Z"
   },
   {
    "duration": 98,
    "start_time": "2022-11-21T14:42:37.469Z"
   },
   {
    "duration": 56,
    "start_time": "2022-11-21T14:42:59.669Z"
   },
   {
    "duration": 191,
    "start_time": "2022-11-21T14:44:21.905Z"
   },
   {
    "duration": 174,
    "start_time": "2022-11-21T14:44:32.012Z"
   },
   {
    "duration": 34,
    "start_time": "2022-11-21T14:44:58.269Z"
   },
   {
    "duration": 9,
    "start_time": "2022-11-21T14:46:45.766Z"
   },
   {
    "duration": 9,
    "start_time": "2022-11-21T14:47:18.829Z"
   },
   {
    "duration": 9,
    "start_time": "2022-11-21T14:47:28.829Z"
   },
   {
    "duration": 9,
    "start_time": "2022-11-21T14:47:46.710Z"
   },
   {
    "duration": 4,
    "start_time": "2022-11-21T14:48:06.910Z"
   },
   {
    "duration": 285,
    "start_time": "2022-11-21T14:48:21.606Z"
   },
   {
    "duration": 34,
    "start_time": "2022-11-21T14:48:28.790Z"
   },
   {
    "duration": 9,
    "start_time": "2022-11-21T14:48:43.493Z"
   },
   {
    "duration": 2,
    "start_time": "2022-11-21T14:49:24.254Z"
   },
   {
    "duration": 247,
    "start_time": "2022-11-21T14:49:25.573Z"
   },
   {
    "duration": 35,
    "start_time": "2022-11-21T14:49:32.414Z"
   },
   {
    "duration": 9,
    "start_time": "2022-11-21T14:49:42.023Z"
   },
   {
    "duration": 9,
    "start_time": "2022-11-21T14:49:48.302Z"
   },
   {
    "duration": 8,
    "start_time": "2022-11-21T14:49:49.551Z"
   },
   {
    "duration": 2,
    "start_time": "2022-11-21T14:50:04.007Z"
   },
   {
    "duration": 205,
    "start_time": "2022-11-21T14:50:05.159Z"
   },
   {
    "duration": 34,
    "start_time": "2022-11-21T14:50:12.766Z"
   },
   {
    "duration": 45,
    "start_time": "2022-11-21T14:50:30.615Z"
   },
   {
    "duration": 35,
    "start_time": "2022-11-21T14:50:43.689Z"
   },
   {
    "duration": 35,
    "start_time": "2022-11-21T15:55:38.570Z"
   },
   {
    "duration": 19,
    "start_time": "2022-11-21T15:55:52.985Z"
   },
   {
    "duration": 32,
    "start_time": "2022-11-21T15:57:29.850Z"
   },
   {
    "duration": 79,
    "start_time": "2022-11-21T15:57:47.146Z"
   },
   {
    "duration": 31,
    "start_time": "2022-11-21T15:59:17.938Z"
   },
   {
    "duration": 1563,
    "start_time": "2022-11-21T15:59:28.697Z"
   },
   {
    "duration": 825,
    "start_time": "2022-11-21T15:59:30.261Z"
   },
   {
    "duration": 15,
    "start_time": "2022-11-21T15:59:31.088Z"
   },
   {
    "duration": 19,
    "start_time": "2022-11-21T15:59:31.104Z"
   },
   {
    "duration": 49,
    "start_time": "2022-11-21T15:59:31.125Z"
   },
   {
    "duration": 89,
    "start_time": "2022-11-21T15:59:31.175Z"
   },
   {
    "duration": 141,
    "start_time": "2022-11-21T15:59:31.266Z"
   },
   {
    "duration": 0,
    "start_time": "2022-11-21T15:59:31.409Z"
   },
   {
    "duration": 0,
    "start_time": "2022-11-21T15:59:31.411Z"
   },
   {
    "duration": 0,
    "start_time": "2022-11-21T15:59:31.412Z"
   },
   {
    "duration": 0,
    "start_time": "2022-11-21T15:59:31.413Z"
   },
   {
    "duration": 0,
    "start_time": "2022-11-21T15:59:31.414Z"
   },
   {
    "duration": 0,
    "start_time": "2022-11-21T15:59:31.415Z"
   },
   {
    "duration": 0,
    "start_time": "2022-11-21T15:59:31.417Z"
   },
   {
    "duration": 0,
    "start_time": "2022-11-21T15:59:31.418Z"
   },
   {
    "duration": 0,
    "start_time": "2022-11-21T15:59:31.419Z"
   },
   {
    "duration": 0,
    "start_time": "2022-11-21T15:59:31.420Z"
   },
   {
    "duration": 0,
    "start_time": "2022-11-21T15:59:31.421Z"
   },
   {
    "duration": 0,
    "start_time": "2022-11-21T15:59:31.422Z"
   },
   {
    "duration": 0,
    "start_time": "2022-11-21T15:59:31.423Z"
   },
   {
    "duration": 0,
    "start_time": "2022-11-21T15:59:31.425Z"
   },
   {
    "duration": 0,
    "start_time": "2022-11-21T15:59:31.426Z"
   },
   {
    "duration": 0,
    "start_time": "2022-11-21T15:59:31.427Z"
   },
   {
    "duration": 0,
    "start_time": "2022-11-21T15:59:31.429Z"
   },
   {
    "duration": 0,
    "start_time": "2022-11-21T15:59:31.429Z"
   },
   {
    "duration": 0,
    "start_time": "2022-11-21T15:59:31.431Z"
   },
   {
    "duration": 0,
    "start_time": "2022-11-21T15:59:31.432Z"
   },
   {
    "duration": 0,
    "start_time": "2022-11-21T15:59:31.433Z"
   },
   {
    "duration": 0,
    "start_time": "2022-11-21T15:59:31.434Z"
   },
   {
    "duration": 0,
    "start_time": "2022-11-21T15:59:31.435Z"
   },
   {
    "duration": 0,
    "start_time": "2022-11-21T15:59:31.436Z"
   },
   {
    "duration": 0,
    "start_time": "2022-11-21T15:59:31.439Z"
   },
   {
    "duration": 0,
    "start_time": "2022-11-21T15:59:31.440Z"
   },
   {
    "duration": 0,
    "start_time": "2022-11-21T15:59:31.441Z"
   },
   {
    "duration": 0,
    "start_time": "2022-11-21T15:59:31.442Z"
   },
   {
    "duration": 221,
    "start_time": "2022-11-21T16:09:42.341Z"
   },
   {
    "duration": 2,
    "start_time": "2022-11-21T16:09:53.158Z"
   },
   {
    "duration": 5,
    "start_time": "2022-11-21T16:09:54.174Z"
   },
   {
    "duration": 90547,
    "start_time": "2022-11-21T16:09:55.358Z"
   },
   {
    "duration": 74,
    "start_time": "2022-11-21T16:11:44.333Z"
   },
   {
    "duration": 38,
    "start_time": "2022-11-21T16:12:28.503Z"
   },
   {
    "duration": 36,
    "start_time": "2022-11-21T16:12:41.233Z"
   },
   {
    "duration": 42,
    "start_time": "2022-11-21T16:13:29.000Z"
   },
   {
    "duration": 41,
    "start_time": "2022-11-21T16:14:50.569Z"
   },
   {
    "duration": 49,
    "start_time": "2022-11-21T16:15:11.777Z"
   },
   {
    "duration": 47,
    "start_time": "2022-11-21T16:16:10.219Z"
   },
   {
    "duration": 30,
    "start_time": "2022-11-21T16:17:43.202Z"
   },
   {
    "duration": 1619,
    "start_time": "2022-11-21T16:18:37.119Z"
   },
   {
    "duration": 790,
    "start_time": "2022-11-21T16:18:38.741Z"
   },
   {
    "duration": 12,
    "start_time": "2022-11-21T16:18:39.532Z"
   },
   {
    "duration": 7,
    "start_time": "2022-11-21T16:18:39.546Z"
   },
   {
    "duration": 53,
    "start_time": "2022-11-21T16:18:39.555Z"
   },
   {
    "duration": 325,
    "start_time": "2022-11-21T16:18:39.609Z"
   },
   {
    "duration": 3,
    "start_time": "2022-11-21T16:18:39.936Z"
   },
   {
    "duration": 5,
    "start_time": "2022-11-21T16:18:39.941Z"
   },
   {
    "duration": 175766,
    "start_time": "2022-11-21T16:18:39.947Z"
   },
   {
    "duration": 86,
    "start_time": "2022-11-21T16:21:35.715Z"
   },
   {
    "duration": 154,
    "start_time": "2022-11-21T16:21:35.803Z"
   },
   {
    "duration": 0,
    "start_time": "2022-11-21T16:21:35.959Z"
   },
   {
    "duration": 0,
    "start_time": "2022-11-21T16:21:35.961Z"
   },
   {
    "duration": 0,
    "start_time": "2022-11-21T16:21:35.962Z"
   },
   {
    "duration": 0,
    "start_time": "2022-11-21T16:21:35.968Z"
   },
   {
    "duration": 0,
    "start_time": "2022-11-21T16:21:35.970Z"
   },
   {
    "duration": 0,
    "start_time": "2022-11-21T16:21:35.972Z"
   },
   {
    "duration": 1,
    "start_time": "2022-11-21T16:21:35.973Z"
   },
   {
    "duration": 0,
    "start_time": "2022-11-21T16:21:35.975Z"
   },
   {
    "duration": 0,
    "start_time": "2022-11-21T16:21:35.976Z"
   },
   {
    "duration": 0,
    "start_time": "2022-11-21T16:21:35.976Z"
   },
   {
    "duration": 0,
    "start_time": "2022-11-21T16:21:35.977Z"
   },
   {
    "duration": 0,
    "start_time": "2022-11-21T16:21:35.977Z"
   },
   {
    "duration": 0,
    "start_time": "2022-11-21T16:21:35.978Z"
   },
   {
    "duration": 0,
    "start_time": "2022-11-21T16:21:35.978Z"
   },
   {
    "duration": 0,
    "start_time": "2022-11-21T16:21:35.979Z"
   },
   {
    "duration": 0,
    "start_time": "2022-11-21T16:21:35.979Z"
   },
   {
    "duration": 0,
    "start_time": "2022-11-21T16:21:35.979Z"
   },
   {
    "duration": 0,
    "start_time": "2022-11-21T16:21:35.995Z"
   },
   {
    "duration": 0,
    "start_time": "2022-11-21T16:21:35.998Z"
   },
   {
    "duration": 0,
    "start_time": "2022-11-21T16:21:35.999Z"
   },
   {
    "duration": 0,
    "start_time": "2022-11-21T16:21:36.001Z"
   },
   {
    "duration": 0,
    "start_time": "2022-11-21T16:21:36.002Z"
   },
   {
    "duration": 0,
    "start_time": "2022-11-21T16:21:36.004Z"
   },
   {
    "duration": 0,
    "start_time": "2022-11-21T16:21:36.005Z"
   },
   {
    "duration": 0,
    "start_time": "2022-11-21T16:21:36.007Z"
   },
   {
    "duration": 184,
    "start_time": "2022-11-21T16:23:57.445Z"
   },
   {
    "duration": 29,
    "start_time": "2022-11-21T16:24:10.676Z"
   },
   {
    "duration": 41,
    "start_time": "2022-11-21T16:24:19.245Z"
   },
   {
    "duration": 46,
    "start_time": "2022-11-21T16:25:12.124Z"
   },
   {
    "duration": 3,
    "start_time": "2022-11-21T16:25:47.381Z"
   },
   {
    "duration": 22,
    "start_time": "2022-11-21T16:26:00.061Z"
   },
   {
    "duration": 3,
    "start_time": "2022-11-21T16:27:49.332Z"
   },
   {
    "duration": 44892,
    "start_time": "2022-11-21T16:27:51.197Z"
   },
   {
    "duration": 4070,
    "start_time": "2022-11-21T16:28:36.091Z"
   },
   {
    "duration": 3,
    "start_time": "2022-11-21T16:28:40.163Z"
   },
   {
    "duration": 3,
    "start_time": "2022-11-21T16:29:55.350Z"
   },
   {
    "duration": 3,
    "start_time": "2022-11-21T16:29:57.126Z"
   },
   {
    "duration": 1191,
    "start_time": "2022-11-21T16:30:00.365Z"
   },
   {
    "duration": 314,
    "start_time": "2022-11-21T16:30:05.039Z"
   },
   {
    "duration": 3,
    "start_time": "2022-11-21T16:31:12.950Z"
   },
   {
    "duration": 13610,
    "start_time": "2022-11-21T16:31:14.197Z"
   },
   {
    "duration": 6379,
    "start_time": "2022-11-21T16:31:34.574Z"
   },
   {
    "duration": 3,
    "start_time": "2022-11-21T16:32:46.409Z"
   },
   {
    "duration": 9220,
    "start_time": "2022-11-21T16:32:48.150Z"
   },
   {
    "duration": 4297,
    "start_time": "2022-11-21T16:32:57.372Z"
   },
   {
    "duration": 3,
    "start_time": "2022-11-21T16:33:27.792Z"
   },
   {
    "duration": 28197,
    "start_time": "2022-11-21T16:33:28.863Z"
   },
   {
    "duration": 11165,
    "start_time": "2022-11-21T16:33:57.062Z"
   },
   {
    "duration": 1117,
    "start_time": "2022-11-21T16:34:31.247Z"
   },
   {
    "duration": 50,
    "start_time": "2022-11-21T16:34:48.431Z"
   },
   {
    "duration": 51,
    "start_time": "2022-11-21T16:36:38.592Z"
   },
   {
    "duration": 4,
    "start_time": "2022-11-21T16:38:50.801Z"
   },
   {
    "duration": 33346,
    "start_time": "2022-11-21T16:38:52.168Z"
   },
   {
    "duration": 17517,
    "start_time": "2022-11-21T16:39:30.265Z"
   },
   {
    "duration": 2,
    "start_time": "2022-11-21T16:40:19.083Z"
   },
   {
    "duration": 49,
    "start_time": "2022-11-21T16:42:09.155Z"
   },
   {
    "duration": 3,
    "start_time": "2022-11-21T16:42:33.530Z"
   },
   {
    "duration": 35937,
    "start_time": "2022-11-21T16:42:34.994Z"
   },
   {
    "duration": 18107,
    "start_time": "2022-11-21T16:43:10.933Z"
   },
   {
    "duration": 55,
    "start_time": "2022-11-21T16:43:29.041Z"
   },
   {
    "duration": 2,
    "start_time": "2022-11-21T16:44:01.372Z"
   },
   {
    "duration": 353759,
    "start_time": "2022-11-21T16:44:02.947Z"
   },
   {
    "duration": 1515,
    "start_time": "2022-11-21T16:51:58.095Z"
   },
   {
    "duration": 762,
    "start_time": "2022-11-21T16:51:59.612Z"
   },
   {
    "duration": 10,
    "start_time": "2022-11-21T16:52:00.376Z"
   },
   {
    "duration": 10,
    "start_time": "2022-11-21T16:52:00.396Z"
   },
   {
    "duration": 52,
    "start_time": "2022-11-21T16:52:00.409Z"
   },
   {
    "duration": 320,
    "start_time": "2022-11-21T16:52:00.463Z"
   },
   {
    "duration": 3,
    "start_time": "2022-11-21T16:52:00.785Z"
   },
   {
    "duration": 37,
    "start_time": "2022-11-21T16:52:00.789Z"
   },
   {
    "duration": 169850,
    "start_time": "2022-11-21T16:52:00.828Z"
   },
   {
    "duration": 77,
    "start_time": "2022-11-21T16:54:50.681Z"
   },
   {
    "duration": 192,
    "start_time": "2022-11-21T16:54:50.760Z"
   },
   {
    "duration": 49,
    "start_time": "2022-11-21T16:54:50.953Z"
   },
   {
    "duration": 36,
    "start_time": "2022-11-21T16:54:51.003Z"
   },
   {
    "duration": 3,
    "start_time": "2022-11-21T16:54:51.042Z"
   },
   {
    "duration": 29,
    "start_time": "2022-11-21T16:54:51.047Z"
   },
   {
    "duration": 22,
    "start_time": "2022-11-21T16:54:51.078Z"
   },
   {
    "duration": 44488,
    "start_time": "2022-11-21T16:54:51.102Z"
   },
   {
    "duration": 4227,
    "start_time": "2022-11-21T16:55:35.592Z"
   },
   {
    "duration": 3,
    "start_time": "2022-11-21T16:55:39.821Z"
   },
   {
    "duration": 9,
    "start_time": "2022-11-21T16:55:39.826Z"
   },
   {
    "duration": 8,
    "start_time": "2022-11-21T16:55:39.836Z"
   },
   {
    "duration": 1129,
    "start_time": "2022-11-21T16:55:39.845Z"
   },
   {
    "duration": 303,
    "start_time": "2022-11-21T16:55:40.976Z"
   },
   {
    "duration": 3,
    "start_time": "2022-11-21T16:55:41.281Z"
   },
   {
    "duration": 13130,
    "start_time": "2022-11-21T16:55:41.296Z"
   },
   {
    "duration": 6132,
    "start_time": "2022-11-21T16:55:54.428Z"
   },
   {
    "duration": 3,
    "start_time": "2022-11-21T16:56:00.562Z"
   },
   {
    "duration": 9187,
    "start_time": "2022-11-21T16:56:00.567Z"
   },
   {
    "duration": 4455,
    "start_time": "2022-11-21T16:56:09.756Z"
   },
   {
    "duration": 4,
    "start_time": "2022-11-21T16:56:14.212Z"
   },
   {
    "duration": 55926,
    "start_time": "2022-11-21T16:56:14.217Z"
   },
   {
    "duration": 18111,
    "start_time": "2022-11-21T16:57:10.145Z"
   },
   {
    "duration": 63,
    "start_time": "2022-11-21T16:57:28.259Z"
   },
   {
    "duration": 3,
    "start_time": "2022-11-21T16:57:28.324Z"
   },
   {
    "duration": 7,
    "start_time": "2022-11-21T16:57:28.329Z"
   },
   {
    "duration": 1701,
    "start_time": "2022-11-21T17:06:11.059Z"
   },
   {
    "duration": 819,
    "start_time": "2022-11-21T17:06:12.762Z"
   },
   {
    "duration": 19,
    "start_time": "2022-11-21T17:06:13.583Z"
   },
   {
    "duration": 6,
    "start_time": "2022-11-21T17:06:13.603Z"
   },
   {
    "duration": 33,
    "start_time": "2022-11-21T17:06:13.611Z"
   },
   {
    "duration": 233,
    "start_time": "2022-11-21T17:06:13.646Z"
   },
   {
    "duration": 3,
    "start_time": "2022-11-21T17:06:13.880Z"
   },
   {
    "duration": 11,
    "start_time": "2022-11-21T17:06:13.885Z"
   },
   {
    "duration": 173507,
    "start_time": "2022-11-21T17:06:13.898Z"
   },
   {
    "duration": 70,
    "start_time": "2022-11-21T17:09:07.408Z"
   },
   {
    "duration": 204,
    "start_time": "2022-11-21T17:09:07.480Z"
   },
   {
    "duration": 34,
    "start_time": "2022-11-21T17:09:07.686Z"
   },
   {
    "duration": 31,
    "start_time": "2022-11-21T17:09:07.722Z"
   },
   {
    "duration": 4,
    "start_time": "2022-11-21T17:09:07.756Z"
   },
   {
    "duration": 40,
    "start_time": "2022-11-21T17:09:07.762Z"
   },
   {
    "duration": 4,
    "start_time": "2022-11-21T17:09:07.804Z"
   },
   {
    "duration": 45776,
    "start_time": "2022-11-21T17:09:07.809Z"
   },
   {
    "duration": 4241,
    "start_time": "2022-11-21T17:09:53.586Z"
   },
   {
    "duration": 3,
    "start_time": "2022-11-21T17:09:57.829Z"
   },
   {
    "duration": 12,
    "start_time": "2022-11-21T17:09:57.834Z"
   },
   {
    "duration": 5,
    "start_time": "2022-11-21T17:09:57.847Z"
   },
   {
    "duration": 1102,
    "start_time": "2022-11-21T17:09:57.853Z"
   },
   {
    "duration": 293,
    "start_time": "2022-11-21T17:09:58.957Z"
   },
   {
    "duration": 3,
    "start_time": "2022-11-21T17:09:59.251Z"
   },
   {
    "duration": 13057,
    "start_time": "2022-11-21T17:09:59.255Z"
   },
   {
    "duration": 6415,
    "start_time": "2022-11-21T17:10:12.313Z"
   },
   {
    "duration": 3,
    "start_time": "2022-11-21T17:10:18.729Z"
   },
   {
    "duration": 9078,
    "start_time": "2022-11-21T17:10:18.733Z"
   },
   {
    "duration": 4536,
    "start_time": "2022-11-21T17:10:27.814Z"
   },
   {
    "duration": 3,
    "start_time": "2022-11-21T17:10:32.352Z"
   },
   {
    "duration": 55337,
    "start_time": "2022-11-21T17:10:32.357Z"
   },
   {
    "duration": 18466,
    "start_time": "2022-11-21T17:11:27.695Z"
   },
   {
    "duration": 67,
    "start_time": "2022-11-21T17:11:46.163Z"
   },
   {
    "duration": 4,
    "start_time": "2022-11-21T17:11:46.232Z"
   },
   {
    "duration": 12,
    "start_time": "2022-11-21T17:11:46.238Z"
   },
   {
    "duration": 70694,
    "start_time": "2022-11-21T17:11:46.252Z"
   },
   {
    "duration": 3,
    "start_time": "2022-11-21T17:15:51.548Z"
   },
   {
    "duration": 215751,
    "start_time": "2022-11-21T17:15:53.046Z"
   },
   {
    "duration": 215686,
    "start_time": "2022-11-21T17:19:46.511Z"
   },
   {
    "duration": 5,
    "start_time": "2022-11-21T17:45:25.094Z"
   },
   {
    "duration": 4,
    "start_time": "2022-11-21T17:45:36.044Z"
   },
   {
    "duration": 1515,
    "start_time": "2022-11-21T17:52:33.140Z"
   },
   {
    "duration": 803,
    "start_time": "2022-11-21T17:52:34.657Z"
   },
   {
    "duration": 10,
    "start_time": "2022-11-21T17:52:35.462Z"
   },
   {
    "duration": 13,
    "start_time": "2022-11-21T17:52:35.473Z"
   },
   {
    "duration": 37,
    "start_time": "2022-11-21T17:52:35.496Z"
   },
   {
    "duration": 312,
    "start_time": "2022-11-21T17:52:35.535Z"
   },
   {
    "duration": 3,
    "start_time": "2022-11-21T17:52:35.849Z"
   },
   {
    "duration": 10,
    "start_time": "2022-11-21T17:52:35.854Z"
   },
   {
    "duration": 170591,
    "start_time": "2022-11-21T17:52:35.866Z"
   },
   {
    "duration": 77,
    "start_time": "2022-11-21T17:55:26.459Z"
   },
   {
    "duration": 209,
    "start_time": "2022-11-21T17:55:26.537Z"
   },
   {
    "duration": 32,
    "start_time": "2022-11-21T17:55:26.747Z"
   },
   {
    "duration": 65,
    "start_time": "2022-11-21T17:55:26.781Z"
   },
   {
    "duration": 18,
    "start_time": "2022-11-21T17:55:26.849Z"
   },
   {
    "duration": 56,
    "start_time": "2022-11-21T17:55:26.868Z"
   },
   {
    "duration": 11,
    "start_time": "2022-11-21T17:55:26.926Z"
   },
   {
    "duration": 22229,
    "start_time": "2022-11-21T17:55:26.939Z"
   },
   {
    "duration": 3355,
    "start_time": "2022-11-21T17:55:49.170Z"
   },
   {
    "duration": 3,
    "start_time": "2022-11-21T17:55:52.527Z"
   },
   {
    "duration": 7,
    "start_time": "2022-11-21T17:55:52.532Z"
   },
   {
    "duration": 8,
    "start_time": "2022-11-21T17:55:52.541Z"
   },
   {
    "duration": 1096,
    "start_time": "2022-11-21T17:55:52.551Z"
   },
   {
    "duration": 4,
    "start_time": "2022-11-21T17:55:53.649Z"
   },
   {
    "duration": 309,
    "start_time": "2022-11-21T17:55:53.654Z"
   },
   {
    "duration": 3,
    "start_time": "2022-11-21T17:55:53.964Z"
   },
   {
    "duration": 13351,
    "start_time": "2022-11-21T17:55:53.968Z"
   },
   {
    "duration": 4,
    "start_time": "2022-11-21T17:56:07.321Z"
   },
   {
    "duration": 6960,
    "start_time": "2022-11-21T17:56:07.327Z"
   },
   {
    "duration": 8,
    "start_time": "2022-11-21T17:56:14.289Z"
   },
   {
    "duration": 9095,
    "start_time": "2022-11-21T17:56:14.298Z"
   },
   {
    "duration": 4,
    "start_time": "2022-11-21T17:56:23.395Z"
   },
   {
    "duration": 4971,
    "start_time": "2022-11-21T17:56:23.400Z"
   },
   {
    "duration": 4,
    "start_time": "2022-11-21T17:56:28.373Z"
   },
   {
    "duration": 56211,
    "start_time": "2022-11-21T17:56:28.378Z"
   },
   {
    "duration": 6,
    "start_time": "2022-11-21T17:57:24.591Z"
   },
   {
    "duration": 35298,
    "start_time": "2022-11-21T17:57:24.599Z"
   },
   {
    "duration": 49,
    "start_time": "2022-11-21T17:57:59.899Z"
   },
   {
    "duration": 3,
    "start_time": "2022-11-21T18:01:27.884Z"
   },
   {
    "duration": 45340,
    "start_time": "2022-11-21T18:01:32.123Z"
   },
   {
    "duration": 47,
    "start_time": "2022-11-21T18:02:22.254Z"
   },
   {
    "duration": 3,
    "start_time": "2022-11-21T18:02:38.406Z"
   },
   {
    "duration": 1537,
    "start_time": "2022-11-21T18:08:16.874Z"
   },
   {
    "duration": 774,
    "start_time": "2022-11-21T18:08:18.413Z"
   },
   {
    "duration": 15,
    "start_time": "2022-11-21T18:08:19.189Z"
   },
   {
    "duration": 6,
    "start_time": "2022-11-21T18:08:19.206Z"
   },
   {
    "duration": 35,
    "start_time": "2022-11-21T18:08:19.214Z"
   },
   {
    "duration": 237,
    "start_time": "2022-11-21T18:08:19.251Z"
   },
   {
    "duration": 6,
    "start_time": "2022-11-21T18:08:19.490Z"
   },
   {
    "duration": 9,
    "start_time": "2022-11-21T18:08:19.497Z"
   },
   {
    "duration": 172845,
    "start_time": "2022-11-21T18:08:19.508Z"
   },
   {
    "duration": 41,
    "start_time": "2022-11-21T18:11:12.355Z"
   },
   {
    "duration": 3,
    "start_time": "2022-11-21T18:11:12.398Z"
   },
   {
    "duration": 24,
    "start_time": "2022-11-21T18:11:12.403Z"
   },
   {
    "duration": 2,
    "start_time": "2022-11-21T18:11:12.429Z"
   },
   {
    "duration": 5579,
    "start_time": "2022-11-21T18:11:12.434Z"
   },
   {
    "duration": 1402,
    "start_time": "2022-11-21T18:11:18.015Z"
   },
   {
    "duration": 3,
    "start_time": "2022-11-21T18:11:19.420Z"
   },
   {
    "duration": 8,
    "start_time": "2022-11-21T18:11:19.425Z"
   },
   {
    "duration": 5,
    "start_time": "2022-11-21T18:11:19.435Z"
   },
   {
    "duration": 213,
    "start_time": "2022-11-21T18:11:19.441Z"
   },
   {
    "duration": 4,
    "start_time": "2022-11-21T18:11:19.656Z"
   },
   {
    "duration": 57,
    "start_time": "2022-11-21T18:11:19.662Z"
   },
   {
    "duration": 3,
    "start_time": "2022-11-21T18:11:19.721Z"
   },
   {
    "duration": 4367,
    "start_time": "2022-11-21T18:11:19.726Z"
   },
   {
    "duration": 5,
    "start_time": "2022-11-21T18:11:24.096Z"
   },
   {
    "duration": 2426,
    "start_time": "2022-11-21T18:11:24.103Z"
   },
   {
    "duration": 3,
    "start_time": "2022-11-21T18:11:26.530Z"
   },
   {
    "duration": 6317,
    "start_time": "2022-11-21T18:11:26.535Z"
   },
   {
    "duration": 5,
    "start_time": "2022-11-21T18:11:32.853Z"
   },
   {
    "duration": 3061,
    "start_time": "2022-11-21T18:11:32.859Z"
   },
   {
    "duration": 4,
    "start_time": "2022-11-21T18:11:35.921Z"
   },
   {
    "duration": 8583,
    "start_time": "2022-11-21T18:11:35.926Z"
   },
   {
    "duration": 4,
    "start_time": "2022-11-21T18:11:44.511Z"
   },
   {
    "duration": 5257,
    "start_time": "2022-11-21T18:11:44.516Z"
   },
   {
    "duration": 52,
    "start_time": "2022-11-21T18:11:49.775Z"
   },
   {
    "duration": 1546,
    "start_time": "2022-11-21T18:17:36.829Z"
   },
   {
    "duration": 768,
    "start_time": "2022-11-21T18:17:38.377Z"
   },
   {
    "duration": 11,
    "start_time": "2022-11-21T18:17:39.146Z"
   },
   {
    "duration": 5,
    "start_time": "2022-11-21T18:17:39.158Z"
   },
   {
    "duration": 48,
    "start_time": "2022-11-21T18:17:39.165Z"
   },
   {
    "duration": 244,
    "start_time": "2022-11-21T18:17:39.215Z"
   },
   {
    "duration": 3,
    "start_time": "2022-11-21T18:17:39.461Z"
   },
   {
    "duration": 6,
    "start_time": "2022-11-21T18:17:39.465Z"
   },
   {
    "duration": 170009,
    "start_time": "2022-11-21T18:17:39.473Z"
   },
   {
    "duration": 40,
    "start_time": "2022-11-21T18:20:29.484Z"
   },
   {
    "duration": 4,
    "start_time": "2022-11-21T18:20:29.526Z"
   },
   {
    "duration": 29,
    "start_time": "2022-11-21T18:20:29.532Z"
   },
   {
    "duration": 3,
    "start_time": "2022-11-21T18:20:29.562Z"
   },
   {
    "duration": 20651,
    "start_time": "2022-11-21T18:20:29.569Z"
   },
   {
    "duration": 2954,
    "start_time": "2022-11-21T18:20:50.222Z"
   },
   {
    "duration": 3,
    "start_time": "2022-11-21T18:20:53.178Z"
   },
   {
    "duration": 15,
    "start_time": "2022-11-21T18:20:53.183Z"
   },
   {
    "duration": 6,
    "start_time": "2022-11-21T18:20:53.199Z"
   },
   {
    "duration": 859,
    "start_time": "2022-11-21T18:20:53.206Z"
   },
   {
    "duration": 4,
    "start_time": "2022-11-21T18:20:54.066Z"
   },
   {
    "duration": 239,
    "start_time": "2022-11-21T18:20:54.072Z"
   },
   {
    "duration": 3,
    "start_time": "2022-11-21T18:20:54.312Z"
   },
   {
    "duration": 11138,
    "start_time": "2022-11-21T18:20:54.317Z"
   },
   {
    "duration": 4,
    "start_time": "2022-11-21T18:21:05.457Z"
   },
   {
    "duration": 5827,
    "start_time": "2022-11-21T18:21:05.462Z"
   },
   {
    "duration": 6,
    "start_time": "2022-11-21T18:21:11.291Z"
   },
   {
    "duration": 9005,
    "start_time": "2022-11-21T18:21:11.299Z"
   },
   {
    "duration": 3,
    "start_time": "2022-11-21T18:21:20.306Z"
   },
   {
    "duration": 4327,
    "start_time": "2022-11-21T18:21:20.311Z"
   },
   {
    "duration": 3,
    "start_time": "2022-11-21T18:21:24.640Z"
   },
   {
    "duration": 36643,
    "start_time": "2022-11-21T18:21:24.644Z"
   },
   {
    "duration": 8,
    "start_time": "2022-11-21T18:22:01.289Z"
   },
   {
    "duration": 15319,
    "start_time": "2022-11-21T18:22:01.299Z"
   },
   {
    "duration": 50,
    "start_time": "2022-11-21T18:22:16.620Z"
   },
   {
    "duration": 1255,
    "start_time": "2022-11-21T18:24:18.932Z"
   },
   {
    "duration": 862,
    "start_time": "2022-11-21T18:24:20.189Z"
   },
   {
    "duration": 14,
    "start_time": "2022-11-21T18:24:21.052Z"
   },
   {
    "duration": 29,
    "start_time": "2022-11-21T18:24:21.068Z"
   },
   {
    "duration": 34,
    "start_time": "2022-11-21T18:24:21.100Z"
   },
   {
    "duration": 133,
    "start_time": "2022-11-21T18:24:21.136Z"
   },
   {
    "duration": 2,
    "start_time": "2022-11-21T18:24:21.271Z"
   },
   {
    "duration": 11,
    "start_time": "2022-11-21T18:24:21.274Z"
   },
   {
    "duration": 169778,
    "start_time": "2022-11-21T18:24:21.287Z"
   },
   {
    "duration": 41,
    "start_time": "2022-11-21T18:27:11.067Z"
   },
   {
    "duration": 4,
    "start_time": "2022-11-21T18:27:11.110Z"
   },
   {
    "duration": 26,
    "start_time": "2022-11-21T18:27:11.115Z"
   },
   {
    "duration": 3,
    "start_time": "2022-11-21T18:27:11.143Z"
   },
   {
    "duration": 21578,
    "start_time": "2022-11-21T18:27:11.149Z"
   },
   {
    "duration": 3084,
    "start_time": "2022-11-21T18:27:32.729Z"
   },
   {
    "duration": 3,
    "start_time": "2022-11-21T18:27:35.815Z"
   },
   {
    "duration": 7,
    "start_time": "2022-11-21T18:27:35.819Z"
   },
   {
    "duration": 5,
    "start_time": "2022-11-21T18:27:35.827Z"
   },
   {
    "duration": 991,
    "start_time": "2022-11-21T18:27:35.833Z"
   },
   {
    "duration": 4,
    "start_time": "2022-11-21T18:27:36.826Z"
   },
   {
    "duration": 250,
    "start_time": "2022-11-21T18:27:36.831Z"
   },
   {
    "duration": 3,
    "start_time": "2022-11-21T18:27:37.082Z"
   },
   {
    "duration": 11828,
    "start_time": "2022-11-21T18:27:37.087Z"
   },
   {
    "duration": 4,
    "start_time": "2022-11-21T18:27:48.917Z"
   },
   {
    "duration": 6015,
    "start_time": "2022-11-21T18:27:48.923Z"
   },
   {
    "duration": 3,
    "start_time": "2022-11-21T18:27:54.939Z"
   },
   {
    "duration": 8540,
    "start_time": "2022-11-21T18:27:54.944Z"
   },
   {
    "duration": 4,
    "start_time": "2022-11-21T18:28:03.486Z"
   },
   {
    "duration": 4672,
    "start_time": "2022-11-21T18:28:03.491Z"
   },
   {
    "duration": 2,
    "start_time": "2022-11-21T18:28:08.165Z"
   },
   {
    "duration": 37105,
    "start_time": "2022-11-21T18:28:08.169Z"
   },
   {
    "duration": 4,
    "start_time": "2022-11-21T18:28:45.276Z"
   },
   {
    "duration": 14379,
    "start_time": "2022-11-21T18:28:45.282Z"
   },
   {
    "duration": 55,
    "start_time": "2022-11-21T18:28:59.663Z"
   },
   {
    "duration": 3,
    "start_time": "2023-02-05T16:44:06.116Z"
   },
   {
    "duration": 3,
    "start_time": "2023-02-05T16:44:06.867Z"
   },
   {
    "duration": 3,
    "start_time": "2023-02-05T16:44:07.416Z"
   }
  ],
  "kernelspec": {
   "display_name": "Python 3 (ipykernel)",
   "language": "python",
   "name": "python3"
  },
  "language_info": {
   "codemirror_mode": {
    "name": "ipython",
    "version": 3
   },
   "file_extension": ".py",
   "mimetype": "text/x-python",
   "name": "python",
   "nbconvert_exporter": "python",
   "pygments_lexer": "ipython3",
   "version": "3.9.13"
  },
  "toc": {
   "base_numbering": 1,
   "nav_menu": {},
   "number_sections": true,
   "sideBar": true,
   "skip_h1_title": true,
   "title_cell": "Содержание",
   "title_sidebar": "Contents",
   "toc_cell": true,
   "toc_position": {
    "height": "calc(100% - 180px)",
    "left": "10px",
    "top": "150px",
    "width": "302.391px"
   },
   "toc_section_display": true,
   "toc_window_display": true
  },
  "toc-autonumbering": false,
  "toc-showcode": false,
  "toc-showmarkdowntxt": false,
  "toc-showtags": false
 },
 "nbformat": 4,
 "nbformat_minor": 4
}
